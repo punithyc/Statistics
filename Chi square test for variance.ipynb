{
 "cells": [
  {
   "cell_type": "code",
   "execution_count": 1,
   "id": "deebcd2b",
   "metadata": {},
   "outputs": [],
   "source": [
    "import numpy as np\n",
    "import pandas as pd\n",
    "import matplotlib.pyplot as plt\n",
    "import seaborn as sns\n",
    "import plotly.express as px\n",
    "import scipy.stats as stats\n",
    "%matplotlib inline"
   ]
  },
  {
   "cell_type": "markdown",
   "id": "e117a762",
   "metadata": {},
   "source": [
    "### Chi Square test for variance"
   ]
  },
  {
   "cell_type": "markdown",
   "id": "324f1dca",
   "metadata": {},
   "source": [
    "**Assumptions:** \n",
    "\n",
    "* Continuous data\n",
    "* Normally distributed population - All the samples should be greater than 30, Central Limit Theorem states that the distribution of sample means will be normal.\n",
    "* Random sampling from the population"
   ]
  },
  {
   "cell_type": "markdown",
   "id": "3283d417",
   "metadata": {},
   "source": [
    "**Example 1:** A factory claims the variance in the lifespan of its light bulbs is 1000 hours. A sample of 30 light bulbs has a sample variance of 1200 hours. Test if the sample variance significantly differs from the population variance at a 5% significance level."
   ]
  },
  {
   "cell_type": "markdown",
   "id": "70bc1540",
   "metadata": {},
   "source": [
    "Testing the null hypothesis\n",
    "\n",
    ">$H_0:\\sigma^2≤1000$\n",
    "\n",
    "against the alternate hyothesis\n",
    "\n",
    ">$H_1:\\sigma^2> 1000$"
   ]
  },
  {
   "cell_type": "code",
   "execution_count": 2,
   "id": "05d21260",
   "metadata": {},
   "outputs": [
    {
     "name": "stdout",
     "output_type": "stream",
     "text": [
      "(34.8, 0.21118233136574438)\n"
     ]
    }
   ],
   "source": [
    "#Data\n",
    "pop_variance=1000\n",
    "sample_variance=1200\n",
    "alpha=0.05\n",
    "n=30\n",
    "def chi2_squ(pop,samp,n):\n",
    "    test_static=(n-1)*sample_variance/pop_variance\n",
    "    p_value=1-stats.chi2.cdf(test_static,n-1)\n",
    "    return (test_static,p_value)\n",
    "print(chi2_squ(pop_variance,sample_variance,n))   "
   ]
  },
  {
   "cell_type": "markdown",
   "id": "32f09e4e",
   "metadata": {},
   "source": [
    "since the p value is greater than alpha we fail to reject the null hypothesis and hence we can conclude that we dont have enough statistical evidence to say the population variance is greater than the sample variance"
   ]
  },
  {
   "cell_type": "code",
   "execution_count": 3,
   "id": "69e1efa6",
   "metadata": {},
   "outputs": [
    {
     "data": {
      "text/plain": [
       "42.55696780429269"
      ]
     },
     "execution_count": 3,
     "metadata": {},
     "output_type": "execute_result"
    }
   ],
   "source": [
    "#testing the hypothesis using critical value\n",
    "alpha=0.05\n",
    "critical_value=stats.chi2.ppf(1-alpha,n-1)\n",
    "critical_value\n"
   ]
  },
  {
   "cell_type": "markdown",
   "id": "1a38b4e5",
   "metadata": {},
   "source": [
    "since t_stat is less than the critical value we fail to reject the null hypothesis"
   ]
  },
  {
   "cell_type": "markdown",
   "id": "9ff452a1",
   "metadata": {},
   "source": [
    "**Example 2:** A manufacturer claims that the variance in the diameter of a part is 25 mm². A sample of 40 parts has a sample variance of 30 mm². Test the hypothesis at the 1% significance level."
   ]
  },
  {
   "cell_type": "markdown",
   "id": "5dae9d9f",
   "metadata": {},
   "source": [
    "Testing the null hypothesis\n",
    "\n",
    ">$H_0:\\sigma^2≤25$\n",
    "\n",
    "against the alternate hypothesis\n",
    "\n",
    ">$H_1:\\sigma^2>25$"
   ]
  },
  {
   "cell_type": "code",
   "execution_count": 4,
   "id": "25b21fc9",
   "metadata": {},
   "outputs": [
    {
     "name": "stdout",
     "output_type": "stream",
     "text": [
      "(46.8, 0.18280344197784837)\n"
     ]
    }
   ],
   "source": [
    "#Data\n",
    "pop_var=25\n",
    "sam_var=30\n",
    "alpha=0.01\n",
    "n=40\n",
    "df=n-1\n",
    "#calculate the hypothesis using p value\n",
    "def chi2_Squ(pop_var,sam_pop,n):\n",
    "    test_stat=(n-1)*sam_var/pop_var\n",
    "    p_value=stats.chi2.cdf(test_stat,df)\n",
    "    return(test_stat,p_value)\n",
    "print(chi2_squ(pop_var,sam_var,n))"
   ]
  },
  {
   "cell_type": "markdown",
   "id": "5e87d859",
   "metadata": {},
   "source": [
    "since p value is greater than alpha we fail to reject the null hypothesis hence we can conclude that we dont have enough statistical evidence to say the population variance is greater than the sample variance"
   ]
  },
  {
   "cell_type": "code",
   "execution_count": 5,
   "id": "90bcccdb",
   "metadata": {},
   "outputs": [
    {
     "data": {
      "text/plain": [
       "62.4281210161849"
      ]
     },
     "execution_count": 5,
     "metadata": {},
     "output_type": "execute_result"
    }
   ],
   "source": [
    "#calculate the hypothesis using the critical value\n",
    "critical_value=stats.chi2.ppf(1-alpha,df)\n",
    "critical_value"
   ]
  },
  {
   "cell_type": "markdown",
   "id": "0fe459b5",
   "metadata": {},
   "source": [
    "since test_stat is less than the critical value we fail to reject the null hypothesis"
   ]
  },
  {
   "cell_type": "markdown",
   "id": "91af28a6",
   "metadata": {},
   "source": [
    "**Example 3:** An educational institution wants to check if the variance in scores on a standardized test among its students is less than the national variance of 20 points². A sample of 30 students from the institution has a variance of 15 points². At a 1% significance level, test if the variance is less than the national variance."
   ]
  },
  {
   "cell_type": "markdown",
   "id": "1c61d1a6",
   "metadata": {},
   "source": [
    "Testing the null hypothesis\n",
    "\n",
    ">$H_0:\\sigma^2≥20$\n",
    "\n",
    "against the alternate hypothesis\n",
    "\n",
    ">$H_1:\\sigma^2<20$"
   ]
  },
  {
   "cell_type": "code",
   "execution_count": 6,
   "id": "10ae5421",
   "metadata": {},
   "outputs": [],
   "source": [
    "#Data\n",
    "n = 30\n",
    "pop_var = 20\n",
    "sample_var = 15\n",
    "alpha = 0.01"
   ]
  },
  {
   "cell_type": "code",
   "execution_count": 9,
   "id": "df92e4dd",
   "metadata": {},
   "outputs": [
    {
     "name": "stdout",
     "output_type": "stream",
     "text": [
      "(34.8, 0.21118233136574438)\n"
     ]
    }
   ],
   "source": [
    "#checking the hypothesis using p value\n",
    "# Calculate test statistic\n",
    "df = n - 1\n",
    "test_stat = (df * sample_var) / pop_var\n",
    "p_value = stats.chi2.cdf(test_stat, df)\n",
    "critical_value = stats.chi2.ppf(alpha, df)\n",
    "\n",
    "\n",
    "print(chi2_squ(pop_var,sam_var,n))"
   ]
  },
  {
   "cell_type": "markdown",
   "id": "8e471a04",
   "metadata": {},
   "source": [
    "since p value is greater than alpha we fail to reject the null hypothesis"
   ]
  },
  {
   "cell_type": "code",
   "execution_count": 10,
   "id": "7b17f505",
   "metadata": {},
   "outputs": [
    {
     "data": {
      "text/plain": [
       "14.256454576274688"
      ]
     },
     "execution_count": 10,
     "metadata": {},
     "output_type": "execute_result"
    }
   ],
   "source": [
    "#testing the hypothesis using critical value\n",
    "critical_value=stats.chi2.ppf(alpha,df)\n",
    "critical_value"
   ]
  },
  {
   "cell_type": "code",
   "execution_count": 11,
   "id": "e23d69c5",
   "metadata": {},
   "outputs": [
    {
     "data": {
      "text/plain": [
       "21.75"
      ]
     },
     "execution_count": 11,
     "metadata": {},
     "output_type": "execute_result"
    }
   ],
   "source": [
    "test_stat"
   ]
  },
  {
   "cell_type": "markdown",
   "id": "eaaeb43f",
   "metadata": {},
   "source": [
    "since test_stat is greater than critical value we fail to reject the null hypothesis"
   ]
  },
  {
   "cell_type": "markdown",
   "id": "cbd85285",
   "metadata": {},
   "source": [
    "**Example 4:** A production line manager claims that the variance in the defect rate per batch should be at least 1.2% squared. A sample of 25 batches has a variance of 0.9% squared. Test at a 1% significance level if the variance is less than the standard variance."
   ]
  },
  {
   "cell_type": "markdown",
   "id": "ec680b74",
   "metadata": {},
   "source": [
    "Testing the null hypothesis\n",
    "\n",
    ">$H_0:\\sigma^2≥1.2$\n",
    "\n",
    "against the alternate hypothesis\n",
    "\n",
    ">$H_1:\\sigma^2<1.25$"
   ]
  },
  {
   "cell_type": "code",
   "execution_count": 12,
   "id": "452630d7",
   "metadata": {},
   "outputs": [],
   "source": [
    "# Given data\n",
    "n = 25\n",
    "pop_var = 1.2\n",
    "sample_var = 0.9\n",
    "alpha = 0.01"
   ]
  },
  {
   "cell_type": "code",
   "execution_count": 16,
   "id": "4228fa26",
   "metadata": {},
   "outputs": [],
   "source": [
    "#testing the hypothesis using p value\n",
    "def chi_var_left_tailed(pop_var, sample_var, n, alpha):\n",
    "    df = n - 1\n",
    "    test_stat = (df * sample_var) / pop_var\n",
    "    p_value = stats.chi2.cdf(test_stat, df)  \n",
    "    critical_value = stats.chi2.ppf(alpha, df)\n",
    "    return test_stat, p_value, critical_value"
   ]
  },
  {
   "cell_type": "code",
   "execution_count": 17,
   "id": "b74b69c8",
   "metadata": {},
   "outputs": [],
   "source": [
    "test_stat, p_value, critical_value = chi_var_left_tailed(pop_var, sample_var, n, alpha)\n"
   ]
  },
  {
   "cell_type": "code",
   "execution_count": 18,
   "id": "9e7b4e5a",
   "metadata": {},
   "outputs": [
    {
     "data": {
      "text/plain": [
       "0.19699161747065777"
      ]
     },
     "execution_count": 18,
     "metadata": {},
     "output_type": "execute_result"
    }
   ],
   "source": [
    "p_value"
   ]
  },
  {
   "cell_type": "markdown",
   "id": "6146e87d",
   "metadata": {},
   "source": [
    "since p value is greater than alpha we fail to reject the null hypothesis"
   ]
  },
  {
   "cell_type": "code",
   "execution_count": 19,
   "id": "1bab6cfd",
   "metadata": {},
   "outputs": [
    {
     "data": {
      "text/plain": [
       "18.000000000000004"
      ]
     },
     "execution_count": 19,
     "metadata": {},
     "output_type": "execute_result"
    }
   ],
   "source": [
    "test_stat"
   ]
  },
  {
   "cell_type": "code",
   "execution_count": 20,
   "id": "d4af6b7d",
   "metadata": {},
   "outputs": [
    {
     "data": {
      "text/plain": [
       "10.85636147553228"
      ]
     },
     "execution_count": 20,
     "metadata": {},
     "output_type": "execute_result"
    }
   ],
   "source": [
    "critical_value"
   ]
  },
  {
   "cell_type": "markdown",
   "id": "0d792f54",
   "metadata": {},
   "source": [
    "since test stat is greater than critical value we fail to reject the null hypothesis"
   ]
  },
  {
   "cell_type": "code",
   "execution_count": null,
   "id": "9f252645",
   "metadata": {},
   "outputs": [],
   "source": []
  }
 ],
 "metadata": {
  "kernelspec": {
   "display_name": "Python 3 (ipykernel)",
   "language": "python",
   "name": "python3"
  },
  "language_info": {
   "codemirror_mode": {
    "name": "ipython",
    "version": 3
   },
   "file_extension": ".py",
   "mimetype": "text/x-python",
   "name": "python",
   "nbconvert_exporter": "python",
   "pygments_lexer": "ipython3",
   "version": "3.11.5"
  }
 },
 "nbformat": 4,
 "nbformat_minor": 5
}
