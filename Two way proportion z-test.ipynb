{
 "cells": [
  {
   "cell_type": "code",
   "execution_count": 1,
   "id": "3cb77715",
   "metadata": {},
   "outputs": [],
   "source": [
    "import numpy as np\n",
    "import pandas as pd\n",
    "import seaborn as sns\n",
    "import matplotlib.pyplot as plt\n",
    "import plotly.express as px\n",
    "import scipy.stats as stats\n",
    "%matplotlib inline"
   ]
  },
  {
   "cell_type": "markdown",
   "id": "7d1c4256",
   "metadata": {},
   "source": [
    "### Two proportion z-test"
   ]
  },
  {
   "cell_type": "markdown",
   "id": "690d692e",
   "metadata": {},
   "source": [
    "**Assumptions of two proportion z-test :**\n",
    "\n",
    "1. The samples are randomly selected from each population.\n",
    "2. The two samples are independent of each other.\n",
    "3.  Binomially outocme\n",
    "4. The sample sizes should be large enough for the normal approximation to be valid specifically:\n",
    "* $n_1p_0≥5$\n",
    "* $n_1(1-p_0)≥5$\n",
    "* $n_2p_0≥5$\n",
    "* $n_2(1-p_0)≥5$\n",
    "\n",
    "\n",
    "\n"
   ]
  },
  {
   "cell_type": "markdown",
   "id": "9cb2f8db",
   "metadata": {},
   "source": [
    "**Example 1:** A company wants to compare the customer satisfaction rate between two branches. At Branch A, 250 out of 400 customers reported being satisfied. At Branch B, 220 out of 350 customers reported satisfaction. Is there a significant difference in satisfaction rates between these two branches?"
   ]
  },
  {
   "cell_type": "markdown",
   "id": "60f297b9",
   "metadata": {},
   "source": [
    "Testing the null hypothesis\n",
    "\n",
    ">$H_0:p_1=p_2$\n",
    "\n",
    "against the alternate hypothesis\n",
    "\n",
    ">$H_1:p_1\\neq p_2$"
   ]
  },
  {
   "cell_type": "markdown",
   "id": "0791501f",
   "metadata": {},
   "source": [
    "**Assumptions:**\n",
    "\n",
    "* $n_1p_1=400X(250/400)=250$\n",
    "* $n_1(1-p_1)=400X(150/400)=150$\n",
    "* $n_2p_2=350X(220/350)=220$\n",
    "* $n_2(1-p_2)=3500X(130/350)=130$\n",
    "\n",
    "since all the values are greater than 5 it satisfies all the assumptions"
   ]
  },
  {
   "cell_type": "markdown",
   "id": "e17e8c00",
   "metadata": {},
   "source": [
    "**Calculate sample proportions:** \n",
    "\n",
    "* $p_1:250/400 =0.625$\n",
    "* $p_2:220/350= 0.629$\n",
    "\n",
    "**Calculate the pooled proportion:**\n",
    "* $p= (250+220)/(400+350)=0.0627$"
   ]
  },
  {
   "cell_type": "code",
   "execution_count": 2,
   "id": "6e76b504",
   "metadata": {},
   "outputs": [
    {
     "data": {
      "text/plain": [
       "0.9196450559662122"
      ]
     },
     "execution_count": 2,
     "metadata": {},
     "output_type": "execute_result"
    }
   ],
   "source": [
    "#performing the hypothesis using z-test\n",
    "\n",
    "from statsmodels.stats.proportion import proportions_ztest\n",
    "\n",
    "# Inputs\n",
    "count = [250, 220]\n",
    "nobs = [400, 350]\n",
    "\n",
    "# Perform the test\n",
    "stat, p_value = proportions_ztest(count, nobs, alternative='two-sided')\n",
    "p_value"
   ]
  },
  {
   "cell_type": "markdown",
   "id": "585f3285",
   "metadata": {},
   "source": [
    "since the p value is greater than the alpha we fail to reject the null hypothesis"
   ]
  },
  {
   "cell_type": "code",
   "execution_count": 3,
   "id": "8a35838b",
   "metadata": {},
   "outputs": [
    {
     "data": {
      "text/plain": [
       "1.959963984540054"
      ]
     },
     "execution_count": 3,
     "metadata": {},
     "output_type": "execute_result"
    }
   ],
   "source": [
    "#performing the hypothesis using critical value\n",
    "alpha=0.05\n",
    "critical_value= stats.norm.ppf(1-alpha/2)\n",
    "critical_value"
   ]
  },
  {
   "cell_type": "code",
   "execution_count": 4,
   "id": "c718d1b6",
   "metadata": {},
   "outputs": [
    {
     "data": {
      "text/plain": [
       "-0.1008808362260768"
      ]
     },
     "execution_count": 4,
     "metadata": {},
     "output_type": "execute_result"
    }
   ],
   "source": [
    "stat"
   ]
  },
  {
   "cell_type": "markdown",
   "id": "f1596087",
   "metadata": {},
   "source": [
    "since the z stat is less than the critical value we fail to reject the null hypothesis"
   ]
  },
  {
   "cell_type": "markdown",
   "id": "0b5144a5",
   "metadata": {},
   "source": [
    "**Example 2:** A business compares conversion rates on two different website layouts. Layout 1 converted 40 out of 150 visitors, while Layout 2 converted 50 out of 180 visitors. Is there a significant difference in conversion rates?"
   ]
  },
  {
   "cell_type": "markdown",
   "id": "726875f6",
   "metadata": {},
   "source": [
    "Testing the null hypothesis\n",
    "\n",
    ">$H_0:p_1=p_2$\n",
    "\n",
    "against the alternate hypothesis\n",
    "\n",
    ">$H_1:p_1\\neq p_2$"
   ]
  },
  {
   "cell_type": "code",
   "execution_count": 5,
   "id": "3417e76e",
   "metadata": {},
   "outputs": [
    {
     "data": {
      "text/plain": [
       "1.0"
      ]
     },
     "execution_count": 5,
     "metadata": {},
     "output_type": "execute_result"
    }
   ],
   "source": [
    "#testing the hypothesis using p value\n",
    "# Data\n",
    "count = [15, 20]  # successes\n",
    "nobs = [300, 400]  # total samples\n",
    "\n",
    "# Perform two-proportion Z-test\n",
    "stat, p_value = proportions_ztest(count, nobs, alternative='two-sided')\n",
    "p_value"
   ]
  },
  {
   "cell_type": "markdown",
   "id": "8b606e5e",
   "metadata": {},
   "source": [
    "since p value is greater than alpha we fail to reject the null hypothesis"
   ]
  },
  {
   "cell_type": "code",
   "execution_count": 6,
   "id": "cb42c621",
   "metadata": {},
   "outputs": [
    {
     "data": {
      "text/plain": [
       "1.959963984540054"
      ]
     },
     "execution_count": 6,
     "metadata": {},
     "output_type": "execute_result"
    }
   ],
   "source": [
    "#testing the hypothesis using critical value\n",
    "alpha=0.05\n",
    "critical_value=stats.norm.ppf(1-alpha/2)\n",
    "critical_value"
   ]
  },
  {
   "cell_type": "code",
   "execution_count": 7,
   "id": "82e5da33",
   "metadata": {},
   "outputs": [
    {
     "data": {
      "text/plain": [
       "0.0"
      ]
     },
     "execution_count": 7,
     "metadata": {},
     "output_type": "execute_result"
    }
   ],
   "source": [
    "stat"
   ]
  },
  {
   "cell_type": "markdown",
   "id": "a95fb1f0",
   "metadata": {},
   "source": [
    "since z stat is less than critical value we fail to reject the null hypothesis"
   ]
  },
  {
   "cell_type": "markdown",
   "id": "ba844e25",
   "metadata": {},
   "source": [
    "**Example 3:** A manufacturer compares defect rates of two production lines. Line A had 15 defective items out of 300, while Line B had 20 defective items out of 400. Is there a difference in defect rates?"
   ]
  },
  {
   "cell_type": "markdown",
   "id": "30327c04",
   "metadata": {},
   "source": [
    "Testing the null hypothesis \n",
    "\n",
    ">$H_0:p_1=p_2$\n",
    "\n",
    "against the alternate hypothesis\n",
    "\n",
    ">$H_1:p_1\\neq p_2$"
   ]
  },
  {
   "cell_type": "code",
   "execution_count": 8,
   "id": "3387148c",
   "metadata": {},
   "outputs": [
    {
     "data": {
      "text/plain": [
       "1.0"
      ]
     },
     "execution_count": 8,
     "metadata": {},
     "output_type": "execute_result"
    }
   ],
   "source": [
    "#testing the hypothesis using p value\n",
    "# Data\n",
    "count = [15, 20]  # successes\n",
    "nobs = [300, 400]  # total samples\n",
    "\n",
    "stat, p_value = proportions_ztest(count, nobs, alternative='two-sided')\n",
    "p_value"
   ]
  },
  {
   "cell_type": "markdown",
   "id": "5b3e926b",
   "metadata": {},
   "source": [
    "since p value is greater than alpha we fail to reject the null hypothesis"
   ]
  },
  {
   "cell_type": "code",
   "execution_count": 9,
   "id": "8f60622e",
   "metadata": {},
   "outputs": [
    {
     "data": {
      "text/plain": [
       "1.959963984540054"
      ]
     },
     "execution_count": 9,
     "metadata": {},
     "output_type": "execute_result"
    }
   ],
   "source": [
    "#testing the hypothesis using critical value\n",
    "alpha=0.05\n",
    "critical_value=stats.norm.ppf(1-alpha/2)\n",
    "critical_value"
   ]
  },
  {
   "cell_type": "code",
   "execution_count": 10,
   "id": "853dc571",
   "metadata": {},
   "outputs": [
    {
     "data": {
      "text/plain": [
       "0.0"
      ]
     },
     "execution_count": 10,
     "metadata": {},
     "output_type": "execute_result"
    }
   ],
   "source": [
    "stat"
   ]
  },
  {
   "cell_type": "markdown",
   "id": "218a10ab",
   "metadata": {},
   "source": [
    "since z stat is less than critical value we fail to reject the null hypothesis"
   ]
  },
  {
   "cell_type": "markdown",
   "id": "e350f457",
   "metadata": {},
   "source": [
    "**Example 4:** A business compares conversion rates on two different website layouts. Layout 1 converted 40 out of 150 visitors, while Layout 2 converted 50 out of 180 visitors. Is there a significant difference in conversion rates?\n"
   ]
  },
  {
   "cell_type": "markdown",
   "id": "b581862c",
   "metadata": {},
   "source": [
    "Testing the null hypothesis\n",
    "\n",
    ">$H_0:p_1=p_2$\n",
    "\n",
    "against the alternate hypothesis\n",
    "\n",
    ">$H_1:p_1\\neq p_2$"
   ]
  },
  {
   "cell_type": "code",
   "execution_count": 11,
   "id": "b496a1f9",
   "metadata": {},
   "outputs": [
    {
     "data": {
      "text/plain": [
       "0.8214598556989368"
      ]
     },
     "execution_count": 11,
     "metadata": {},
     "output_type": "execute_result"
    }
   ],
   "source": [
    "#testing the hypothesis using p value\n",
    "# Data\n",
    "count = [40, 50]  # successes\n",
    "nobs = [150, 180]  # total samples\n",
    "\n",
    "# Perform two-proportion Z-test\n",
    "stat, p_value = proportions_ztest(count, nobs, alternative='two-sided')\n",
    "p_value"
   ]
  },
  {
   "cell_type": "markdown",
   "id": "6b907c61",
   "metadata": {},
   "source": [
    "since the p value is greater than alpha we fail to reject the nul, hypothesis"
   ]
  },
  {
   "cell_type": "code",
   "execution_count": 12,
   "id": "dd39bb0e",
   "metadata": {},
   "outputs": [
    {
     "data": {
      "text/plain": [
       "1.959963984540054"
      ]
     },
     "execution_count": 12,
     "metadata": {},
     "output_type": "execute_result"
    }
   ],
   "source": [
    "#testing the hypothesis using critical value\n",
    "alpha=0.05\n",
    "critical_value=stats.norm.ppf(1-alpha/2)\n",
    "critical_value"
   ]
  },
  {
   "cell_type": "code",
   "execution_count": 13,
   "id": "d04d1f3b",
   "metadata": {},
   "outputs": [
    {
     "data": {
      "text/plain": [
       "-0.22566773346211036"
      ]
     },
     "execution_count": 13,
     "metadata": {},
     "output_type": "execute_result"
    }
   ],
   "source": [
    "stat"
   ]
  },
  {
   "cell_type": "markdown",
   "id": "33991f89",
   "metadata": {},
   "source": [
    "since absolute(z stat) is less than the critical value we fail to reject the null hypothesis"
   ]
  },
  {
   "cell_type": "markdown",
   "id": "a26eaeb5",
   "metadata": {},
   "source": [
    "**Example 5:** A company tests two training methods. Method 1 resulted in 30 out of 80 employees passing, while Method 2 had 45 out of 100 employees pass. Is one method more effective?"
   ]
  },
  {
   "cell_type": "markdown",
   "id": "cf5d5e43",
   "metadata": {},
   "source": [
    "Testing the null hypothesis\n",
    "\n",
    ">$H_0:p_1=p_2$\n",
    "\n",
    "against the alternate hypothesis\n",
    "\n",
    ">$H_1:p_1\\neq p_2$"
   ]
  },
  {
   "cell_type": "code",
   "execution_count": 14,
   "id": "ba551230",
   "metadata": {},
   "outputs": [
    {
     "data": {
      "text/plain": [
       "0.31049443431723467"
      ]
     },
     "execution_count": 14,
     "metadata": {},
     "output_type": "execute_result"
    }
   ],
   "source": [
    "#testing the hypothesis using critical value\n",
    "# Data\n",
    "count = [30, 45]  # successes\n",
    "nobs = [80, 100]  # total samples\n",
    "\n",
    "# Perform two-proportion Z-test\n",
    "stat, p_value = proportions_ztest(count, nobs, alternative='two-sided')\n",
    "p_value"
   ]
  },
  {
   "cell_type": "markdown",
   "id": "bea5df68",
   "metadata": {},
   "source": [
    "since p value is greater than alpha we fail to reject the null hypothesis"
   ]
  },
  {
   "cell_type": "code",
   "execution_count": 15,
   "id": "b1f2958d",
   "metadata": {},
   "outputs": [
    {
     "data": {
      "text/plain": [
       "1.959963984540054"
      ]
     },
     "execution_count": 15,
     "metadata": {},
     "output_type": "execute_result"
    }
   ],
   "source": [
    "#testing the hypothesis using critical value\n",
    "alpha=0.05\n",
    "critical_value=stats.norm.ppf(1-alpha/2)\n",
    "critical_value"
   ]
  },
  {
   "cell_type": "code",
   "execution_count": 16,
   "id": "eb1ff25f",
   "metadata": {},
   "outputs": [
    {
     "data": {
      "text/plain": [
       "-1.0141851056742202"
      ]
     },
     "execution_count": 16,
     "metadata": {},
     "output_type": "execute_result"
    }
   ],
   "source": [
    "stat"
   ]
  },
  {
   "cell_type": "markdown",
   "id": "f7b4e641",
   "metadata": {},
   "source": [
    "since absolute of z stat is less than the critical value we fail to reject the null hypothesis"
   ]
  },
  {
   "cell_type": "markdown",
   "id": "7b8daec5",
   "metadata": {},
   "source": [
    "**Example 6:** Two social media posts are tested for engagement. Post A received 500 likes out of 2000 views, while Post B received 400 likes out of 1500 views. Is there a significant difference in engagement?"
   ]
  },
  {
   "cell_type": "markdown",
   "id": "aeb05cd8",
   "metadata": {},
   "source": [
    "Testing the null hypothesis\n",
    "\n",
    ">$H_0:p_0=p_1$\n",
    "\n",
    "against the alternate hypothesis\n",
    "\n",
    ">$H_1:p_1\\neq p_2$"
   ]
  },
  {
   "cell_type": "code",
   "execution_count": 17,
   "id": "14e20c84",
   "metadata": {},
   "outputs": [
    {
     "data": {
      "text/plain": [
       "0.2642337490158899"
      ]
     },
     "execution_count": 17,
     "metadata": {},
     "output_type": "execute_result"
    }
   ],
   "source": [
    "#testing the hypothesis using critical value\n",
    "#Data\n",
    "count=[500,400] #no of successes\n",
    "nobs=[2000,1500] #no of samples\n",
    "#perform z-test\n",
    "stat,p_value=proportions_ztest(count,nobs,alternative='two-sided')\n",
    "p_value"
   ]
  },
  {
   "cell_type": "markdown",
   "id": "6c520fb5",
   "metadata": {},
   "source": [
    "since p value is greater than alpha we fail to reject the null hypothesis"
   ]
  },
  {
   "cell_type": "code",
   "execution_count": 18,
   "id": "0e9aa11a",
   "metadata": {},
   "outputs": [
    {
     "data": {
      "text/plain": [
       "1.959963984540054"
      ]
     },
     "execution_count": 18,
     "metadata": {},
     "output_type": "execute_result"
    }
   ],
   "source": [
    "#testing the hypothesis using critical value\n",
    "alpha=0.05\n",
    "critical_value=stats.norm.ppf(1-alpha/2)\n",
    "critical_value\n"
   ]
  },
  {
   "cell_type": "code",
   "execution_count": 19,
   "id": "2995a34b",
   "metadata": {},
   "outputs": [
    {
     "data": {
      "text/plain": [
       "-1.116440211761806"
      ]
     },
     "execution_count": 19,
     "metadata": {},
     "output_type": "execute_result"
    }
   ],
   "source": [
    "stat"
   ]
  },
  {
   "cell_type": "markdown",
   "id": "f04229c0",
   "metadata": {},
   "source": [
    "since absolute of z stat is less than the critical value we fail to reject the null hypothesis"
   ]
  },
  {
   "cell_type": "markdown",
   "id": "2e49a75b",
   "metadata": {},
   "source": [
    "**Example 7:** In an election, candidate A was supported by 900 voters out of 2000 surveyed, and candidate B was supported by 800 voters out of 1800 surveyed. Is there a significant difference in the support rates?"
   ]
  },
  {
   "cell_type": "markdown",
   "id": "5fd77d94",
   "metadata": {},
   "source": [
    "Testing the null hypothesis\n",
    "\n",
    ">$H_0:p_0=p_1$\n",
    "\n",
    "against the alternate hypothesis\n",
    "\n",
    ">$H_1:p_1\\neq p_2$"
   ]
  },
  {
   "cell_type": "code",
   "execution_count": 20,
   "id": "ac86202a",
   "metadata": {},
   "outputs": [
    {
     "data": {
      "text/plain": [
       "0.7309189550540995"
      ]
     },
     "execution_count": 20,
     "metadata": {},
     "output_type": "execute_result"
    }
   ],
   "source": [
    "#testing the hypothesis using p value\n",
    "#data\n",
    "count=[900,800] #no of successes\n",
    "nobs=[2000,1800] # no of samples\n",
    "#performing z test\n",
    "stat,p_value=proportions_ztest(count,nobs,alternative=\"two-sided\")\n",
    "p_value"
   ]
  },
  {
   "cell_type": "markdown",
   "id": "86d36c7b",
   "metadata": {},
   "source": [
    "since p value is greater than alpha we fail to reject the null hypothesis"
   ]
  },
  {
   "cell_type": "code",
   "execution_count": 21,
   "id": "aa5ff9d5",
   "metadata": {},
   "outputs": [
    {
     "data": {
      "text/plain": [
       "1.959963984540054"
      ]
     },
     "execution_count": 21,
     "metadata": {},
     "output_type": "execute_result"
    }
   ],
   "source": [
    "#performing hypothesis using critical value\n",
    "alpha=0.05\n",
    "critical_value=stats.norm.ppf(1-alpha/2)\n",
    "critical_value"
   ]
  },
  {
   "cell_type": "code",
   "execution_count": 22,
   "id": "bd954cfd",
   "metadata": {},
   "outputs": [
    {
     "data": {
      "text/plain": [
       "0.3439033731068037"
      ]
     },
     "execution_count": 22,
     "metadata": {},
     "output_type": "execute_result"
    }
   ],
   "source": [
    "stat"
   ]
  },
  {
   "cell_type": "markdown",
   "id": "bf6c6246",
   "metadata": {},
   "source": [
    "since z stat is less than the critical value we fail to reject the null hypothesis"
   ]
  },
  {
   "cell_type": "markdown",
   "id": "167094a8",
   "metadata": {},
   "source": [
    "**Example 8:** A retail company wants to investigate whether customer satisfaction has dropped after a change in their return policy. Last year, 70% of customers were satisfied, and this year, 65% of customers are satisfied. Is the satisfaction rate significantly lower this year than last year?"
   ]
  },
  {
   "cell_type": "markdown",
   "id": "42125c8c",
   "metadata": {},
   "source": [
    "Testing the null hypothesis\n",
    "\n",
    ">$H_0:p_1≥p_2$\n",
    "\n",
    "against the alternate hypothesis\n",
    "\n",
    ">$H_1:p_1<p_2$"
   ]
  },
  {
   "cell_type": "code",
   "execution_count": 23,
   "id": "b58394c8",
   "metadata": {},
   "outputs": [
    {
     "data": {
      "text/plain": [
       "0.00849210029106536"
      ]
     },
     "execution_count": 23,
     "metadata": {},
     "output_type": "execute_result"
    }
   ],
   "source": [
    "#testing the hypothesis using p value\n",
    "#data\n",
    "count = [650, 700]  # successes\n",
    "nobs = [1000, 1000]  # total samples\n",
    "stat, p_value = proportions_ztest(count, nobs, alternative='smaller')\n",
    "p_value"
   ]
  },
  {
   "cell_type": "markdown",
   "id": "2d5986dd",
   "metadata": {},
   "source": [
    "since p value is less than alpha we reject the null hypothesis"
   ]
  },
  {
   "cell_type": "code",
   "execution_count": 24,
   "id": "44a3e969",
   "metadata": {},
   "outputs": [
    {
     "data": {
      "text/plain": [
       "-1.6448536269514729"
      ]
     },
     "execution_count": 24,
     "metadata": {},
     "output_type": "execute_result"
    }
   ],
   "source": [
    "#testing the hypothesis using critical value\n",
    "alpha=0.05\n",
    "critical_value=stats.norm.ppf(alpha)\n",
    "critical_value"
   ]
  },
  {
   "cell_type": "code",
   "execution_count": 25,
   "id": "f3bc01ac",
   "metadata": {},
   "outputs": [
    {
     "data": {
      "text/plain": [
       "-2.38704958013144"
      ]
     },
     "execution_count": 25,
     "metadata": {},
     "output_type": "execute_result"
    }
   ],
   "source": [
    "stat"
   ]
  },
  {
   "cell_type": "markdown",
   "id": "2055fa1a",
   "metadata": {},
   "source": [
    "since z stat is greater than the critical value we reject the null hypothesis"
   ]
  },
  {
   "cell_type": "markdown",
   "id": "55f69904",
   "metadata": {},
   "source": [
    "**Example 9:** A factory produces light bulbs, and historically, 2% of the bulbs produced were defective. After implementing a new quality control process, the factory wants to check whether the percentage of defective bulbs has decreased. A sample of 500 bulbs shows 8 defective bulbs. Has the defect rate decreased?"
   ]
  },
  {
   "cell_type": "markdown",
   "id": "0b3f9714",
   "metadata": {},
   "source": [
    "Testing the null hypothesis\n",
    "\n",
    ">$H_0:p_1≥p_2$\n",
    "\n",
    "against the alternate hypothesis\n",
    "\n",
    ">$H_1:p_1<p_2$"
   ]
  },
  {
   "cell_type": "code",
   "execution_count": 26,
   "id": "ad9c5f5b",
   "metadata": {},
   "outputs": [
    {
     "data": {
      "text/plain": [
       "0.3171421687031628"
      ]
     },
     "execution_count": 26,
     "metadata": {},
     "output_type": "execute_result"
    }
   ],
   "source": [
    "#calculating the hypothesis using p value\n",
    "#Data\n",
    "count = [8, 10]  # successes\n",
    "nobs = [500, 500]  # total samples\n",
    "#z_stat\n",
    "stat, p_value = proportions_ztest(count, nobs, alternative='smaller')\n",
    "p_value"
   ]
  },
  {
   "cell_type": "markdown",
   "id": "b867307f",
   "metadata": {},
   "source": [
    "since the p value is greater than alpha we fail to reject the null hypothesis"
   ]
  },
  {
   "cell_type": "code",
   "execution_count": 27,
   "id": "0d36da6b",
   "metadata": {},
   "outputs": [
    {
     "data": {
      "text/plain": [
       "-1.6448536269514729"
      ]
     },
     "execution_count": 27,
     "metadata": {},
     "output_type": "execute_result"
    }
   ],
   "source": [
    "#testing the hypothesis using critical value\n",
    "alpha=0.05\n",
    "critical_value=stats.norm.ppf(alpha)\n",
    "critical_value"
   ]
  },
  {
   "cell_type": "code",
   "execution_count": 28,
   "id": "3035512d",
   "metadata": {},
   "outputs": [
    {
     "data": {
      "text/plain": [
       "-0.475705310016425"
      ]
     },
     "execution_count": 28,
     "metadata": {},
     "output_type": "execute_result"
    }
   ],
   "source": [
    "stat"
   ]
  },
  {
   "cell_type": "markdown",
   "id": "50f8cf6d",
   "metadata": {},
   "source": [
    "since z stat is less than the critical value we fail to reject the null hypothesis"
   ]
  },
  {
   "cell_type": "markdown",
   "id": "284ad616",
   "metadata": {},
   "source": [
    "**Example 10:** A school wants to know if the percentage of students passing their final exams has increased compared to last year. Last year, 45% of students passed, and this year, 50% of students passed out of 400 students. Does the new pass rate indicate a significant increase?"
   ]
  },
  {
   "cell_type": "markdown",
   "id": "5846afcf",
   "metadata": {},
   "source": [
    "Testing the null hypothesis\n",
    "\n",
    ">$H_0:p_1≤p_2$\n",
    "\n",
    "against the alternate hypothesis\n",
    "\n",
    ">$H_1:p_1>p_2$"
   ]
  },
  {
   "cell_type": "code",
   "execution_count": 29,
   "id": "14793895",
   "metadata": {},
   "outputs": [
    {
     "data": {
      "text/plain": [
       "0.07838999925606568"
      ]
     },
     "execution_count": 29,
     "metadata": {},
     "output_type": "execute_result"
    }
   ],
   "source": [
    "#testing the null hypothesis using p value\n",
    "#Data\n",
    "count = [200, 180]  # successes\n",
    "nobs = [400, 400]  # total samples\n",
    "#z-stat\n",
    "stat, p_value = proportions_ztest(count, nobs, alternative='larger')\n",
    "p_value"
   ]
  },
  {
   "cell_type": "markdown",
   "id": "2800b726",
   "metadata": {},
   "source": [
    "since the p value is greater than alpha we fail to reject the null hypothesis"
   ]
  },
  {
   "cell_type": "code",
   "execution_count": 30,
   "id": "20354922",
   "metadata": {},
   "outputs": [
    {
     "data": {
      "text/plain": [
       "1.6448536269514722"
      ]
     },
     "execution_count": 30,
     "metadata": {},
     "output_type": "execute_result"
    }
   ],
   "source": [
    "#testing the hypothesis using critical value\n",
    "alpha=0.05\n",
    "critical_value=stats.norm.ppf(1-alpha)\n",
    "critical_value"
   ]
  },
  {
   "cell_type": "code",
   "execution_count": 31,
   "id": "37969d32",
   "metadata": {},
   "outputs": [
    {
     "data": {
      "text/plain": [
       "1.415984650809577"
      ]
     },
     "execution_count": 31,
     "metadata": {},
     "output_type": "execute_result"
    }
   ],
   "source": [
    "stat"
   ]
  },
  {
   "cell_type": "markdown",
   "id": "2dcdeeed",
   "metadata": {},
   "source": [
    "since stat is less than critical value we fail to reject the null hypothesis"
   ]
  },
  {
   "cell_type": "markdown",
   "id": "e37ad9c4",
   "metadata": {},
   "source": [
    "**Example 11:** In a company with branches in two regions, Region A retained 500 out of 1000 customers, while Region B retained 450 out of 1000 customers. Is Region A’s retention rate significantly greater than Region B’s?"
   ]
  },
  {
   "cell_type": "markdown",
   "id": "aef8a961",
   "metadata": {},
   "source": [
    "Testing the null hypothesis\n",
    "\n",
    ">$H_0:p_1≤p_2$\n",
    "\n",
    "against the alternate hypothesis\n",
    "\n",
    ">$H_1:p_1>p_2$"
   ]
  },
  {
   "cell_type": "code",
   "execution_count": 32,
   "id": "de7641d1",
   "metadata": {},
   "outputs": [
    {
     "data": {
      "text/plain": [
       "0.012582242850159278"
      ]
     },
     "execution_count": 32,
     "metadata": {},
     "output_type": "execute_result"
    }
   ],
   "source": [
    "#testing the hypothesis using p value\n",
    "#Data\n",
    "count = [500, 450]  # successes\n",
    "nobs = [1000, 1000]  # total samples\n",
    "#z-stat\n",
    "stat, p_value = proportions_ztest(count, nobs, alternative='larger')\n",
    "p_value"
   ]
  },
  {
   "cell_type": "markdown",
   "id": "30033343",
   "metadata": {},
   "source": [
    "since p value less than alpha we reject the null hypothesis"
   ]
  },
  {
   "cell_type": "code",
   "execution_count": 33,
   "id": "04dd2223",
   "metadata": {},
   "outputs": [
    {
     "data": {
      "text/plain": [
       "1.6448536269514722"
      ]
     },
     "execution_count": 33,
     "metadata": {},
     "output_type": "execute_result"
    }
   ],
   "source": [
    "#testing the hypothesis using critical value\n",
    "alpha=0.05\n",
    "critical_value = stats.norm.ppf(1 - alpha)\n",
    "critical_value"
   ]
  },
  {
   "cell_type": "code",
   "execution_count": 34,
   "id": "29f97e1a",
   "metadata": {},
   "outputs": [
    {
     "data": {
      "text/plain": [
       "2.2388683141982244"
      ]
     },
     "execution_count": 34,
     "metadata": {},
     "output_type": "execute_result"
    }
   ],
   "source": [
    "stat"
   ]
  },
  {
   "cell_type": "markdown",
   "id": "58dc3ded",
   "metadata": {},
   "source": [
    "since z stat is greater than the critical value we reject the null hypothesis"
   ]
  },
  {
   "cell_type": "code",
   "execution_count": null,
   "id": "a18e4835",
   "metadata": {},
   "outputs": [],
   "source": []
  }
 ],
 "metadata": {
  "kernelspec": {
   "display_name": "Python 3 (ipykernel)",
   "language": "python",
   "name": "python3"
  },
  "language_info": {
   "codemirror_mode": {
    "name": "ipython",
    "version": 3
   },
   "file_extension": ".py",
   "mimetype": "text/x-python",
   "name": "python",
   "nbconvert_exporter": "python",
   "pygments_lexer": "ipython3",
   "version": "3.11.5"
  }
 },
 "nbformat": 4,
 "nbformat_minor": 5
}
