{
 "cells": [
  {
   "cell_type": "code",
   "execution_count": 1,
   "id": "4a9e350d",
   "metadata": {},
   "outputs": [],
   "source": [
    "import numpy as np\n",
    "import pandas as pd\n",
    "import seaborn as sns\n",
    "import matplotlib.pyplot as plt\n",
    "import plotly.express as px\n",
    "import scipy.stats as stats\n",
    "%matplotlib inline"
   ]
  },
  {
   "cell_type": "markdown",
   "id": "4b6bea6b",
   "metadata": {},
   "source": [
    "we use a two-sample t-test for equality of means with unknown standard deviations. This method is useful when comparing the means of two independent samples where the population variances are unknown.\n",
    "\n",
    "**Assumptions for 2 sample t-test**\n",
    "* the data should be continious\n",
    "* Each sample should be approximately normally distributed.\n",
    "* The variances of the two samples should be roughly equal.\n",
    "* The samples should be randomly sampled."
   ]
  },
  {
   "cell_type": "markdown",
   "id": "27054f93",
   "metadata": {},
   "source": [
    "**Example 1:**  A retail chain wants to know if there’s a significant difference in the average monthly sales between two of its branches. Data has been collected for the last 12 months for each branch, and the sales figures are as follows:\n",
    "* Branch A Sales (in thousands)= [82, 91, 88, 90, 86, 89, 92, 87, 85, 84, 90, 93]\n",
    "* Branch B Sales (in thousands)= [75, 78, 74, 80, 76, 77, 79, 74, 78, 76, 75, 77]"
   ]
  },
  {
   "cell_type": "markdown",
   "id": "990887eb",
   "metadata": {},
   "source": [
    "Testing the null hypothesis \n",
    "\n",
    ">$H_0:\\mu_A=\\mu_B$\n",
    "\n",
    "against the null hyppothesis\n",
    "\n",
    ">$H_0:\\mu_A\\neq\\mu_B$\n"
   ]
  },
  {
   "cell_type": "code",
   "execution_count": 2,
   "id": "d63e54b8",
   "metadata": {},
   "outputs": [
    {
     "name": "stdout",
     "output_type": "stream",
     "text": [
      "ShapiroResult(statistic=0.9744110107421875, pvalue=0.9510981440544128)\n",
      "ShapiroResult(statistic=0.9548278450965881, pvalue=0.708243191242218)\n",
      "LeveneResult(statistic=3.8091872791519434, pvalue=0.06381770275720347)\n"
     ]
    }
   ],
   "source": [
    "#checking for the assumptions\n",
    "# Data\n",
    "branch_a = np.array([82, 91, 88, 90, 86, 89, 92, 87, 85, 84, 90, 93])\n",
    "branch_b = np.array([75, 78, 74, 80, 76, 77, 79, 74, 78, 76, 75, 77])\n",
    "\n",
    "#Normality test\n",
    "shapiro_a = stats.shapiro(branch_a)\n",
    "shapiro_b = stats.shapiro(branch_b)\n",
    "\n",
    "#Variance equality test\n",
    "levene_test = stats.levene(branch_a, branch_b)\n",
    "print(shapiro_a)\n",
    "print(shapiro_b)\n",
    "print(levene_test)"
   ]
  },
  {
   "cell_type": "markdown",
   "id": "118dd78b",
   "metadata": {},
   "source": [
    "The assumption of normality is met because the p-value is greater than 0.05 for both groups. Similarly, the assumption of equal variances is also met, as the p-value is above 0.05 for both groups. So it satisfies all the assumptions\n"
   ]
  },
  {
   "cell_type": "code",
   "execution_count": 3,
   "id": "a55d8574",
   "metadata": {},
   "outputs": [
    {
     "data": {
      "text/plain": [
       "7.551307557431908e-10"
      ]
     },
     "execution_count": 3,
     "metadata": {},
     "output_type": "execute_result"
    }
   ],
   "source": [
    "#Testing the hypothesis using p value method\n",
    "t_stat,p_value=stats.ttest_ind(branch_a,branch_b,equal_var=True)\n",
    "p_value"
   ]
  },
  {
   "cell_type": "markdown",
   "id": "7b0bb6bc",
   "metadata": {},
   "source": [
    "since the p value is less than alpha we reject the null hypothesis"
   ]
  },
  {
   "cell_type": "code",
   "execution_count": 4,
   "id": "ba2c4a05",
   "metadata": {},
   "outputs": [
    {
     "data": {
      "text/plain": [
       "2.0738730679040147"
      ]
     },
     "execution_count": 4,
     "metadata": {},
     "output_type": "execute_result"
    }
   ],
   "source": [
    "#testing the hypothesis using critical value method\n",
    "df=(len(branch_a)+len(branch_b))-2\n",
    "alpha=0.05\n",
    "#critical value\n",
    "critical_value=stats.t.ppf(1-alpha/2,df)\n",
    "critical_value"
   ]
  },
  {
   "cell_type": "code",
   "execution_count": 5,
   "id": "51ba3308",
   "metadata": {},
   "outputs": [
    {
     "data": {
      "text/plain": [
       "10.260036145576816"
      ]
     },
     "execution_count": 5,
     "metadata": {},
     "output_type": "execute_result"
    }
   ],
   "source": [
    "t_stat"
   ]
  },
  {
   "cell_type": "markdown",
   "id": "4b1d5547",
   "metadata": {},
   "source": [
    "since the test stat is greater than the critical value we reject the null hypothesis"
   ]
  },
  {
   "cell_type": "markdown",
   "id": "45d8fcb5",
   "metadata": {},
   "source": [
    "**Example 2:**  An instructor wants to test if two different teaching methods produce different mean scores on a final exam. She gathers scores from 15 students taught using Method A and 15 students using Method B.\n",
    "* Method A Scores: [78, 82, 88, 76, 81, 79, 83, 84, 85, 80, 82, 87, 86, 79, 81]\n",
    "* Method B Scores: [71, 72, 75, 73, 74, 76, 77, 72, 73, 74, 75, 76, 74, 72, 73]"
   ]
  },
  {
   "cell_type": "markdown",
   "id": "39a8ebab",
   "metadata": {},
   "source": [
    "Testing the null hypothesis\n",
    "\n",
    ">$H_0:\\mu_A=\\mu_B$\n",
    "\n",
    "against the alternate hypothesis\n",
    "\n",
    ">$H_1:\\mu_A\\neq\\mu_B$"
   ]
  },
  {
   "cell_type": "code",
   "execution_count": 6,
   "id": "9216cb03",
   "metadata": {},
   "outputs": [
    {
     "name": "stdout",
     "output_type": "stream",
     "text": [
      "ShapiroResult(statistic=0.9798839092254639, pvalue=0.968704879283905)\n",
      "ShapiroResult(statistic=0.958675742149353, pvalue=0.6693927645683289)\n",
      "LeveneResult(statistic=5.447470817120624, pvalue=0.026999494258396706)\n"
     ]
    }
   ],
   "source": [
    "#checking for assumptions\n",
    "\n",
    "method_a= [78, 82, 88, 76, 81, 79, 83, 84, 85, 80, 82, 87, 86, 79, 81]\n",
    "method_b= [71, 72, 75, 73, 74, 76, 77, 72, 73, 74, 75, 76, 74, 72, 73]\n",
    "\n",
    "#normality test\n",
    "norm_a=stats.shapiro(method_a)\n",
    "norm_b=stats.shapiro(method_b)\n",
    "\n",
    "#equal variance test\n",
    "var=stats.levene(method_a,method_b)\n",
    "\n",
    "print(norm_a)\n",
    "print(norm_b)\n",
    "print(var)"
   ]
  },
  {
   "cell_type": "markdown",
   "id": "7a005d39",
   "metadata": {},
   "source": [
    "The assumption of normality is met because the p-value is greater than 0.05 for both groups. Similarly, the assumption of equal variances is also met, as the p-value is above 0.05 for both groups. So it satisfies all the assumptions"
   ]
  },
  {
   "cell_type": "code",
   "execution_count": 7,
   "id": "4d690b2b",
   "metadata": {},
   "outputs": [
    {
     "data": {
      "text/plain": [
       "5.205407585307876e-09"
      ]
     },
     "execution_count": 7,
     "metadata": {},
     "output_type": "execute_result"
    }
   ],
   "source": [
    "#calculating hypothesis using p value method\n",
    "t_stat,p_value=stats.ttest_ind(method_a,method_b,equal_var=True)\n",
    "p_value"
   ]
  },
  {
   "cell_type": "markdown",
   "id": "673c4774",
   "metadata": {},
   "source": [
    "since p value is less than alpha we reject the null hypothesis"
   ]
  },
  {
   "cell_type": "code",
   "execution_count": 8,
   "id": "7baa356b",
   "metadata": {},
   "outputs": [
    {
     "data": {
      "text/plain": [
       "2.048407141795244"
      ]
     },
     "execution_count": 8,
     "metadata": {},
     "output_type": "execute_result"
    }
   ],
   "source": [
    "#calculating hypothesis using critical value method\n",
    "df=(len(method_a)+len(method_b))-2\n",
    "alpha=0.05\n",
    "#critical value\n",
    "critical_value=stats.t.ppf(1-alpha/2,df)\n",
    "critical_value"
   ]
  },
  {
   "cell_type": "code",
   "execution_count": 9,
   "id": "74316fdc",
   "metadata": {},
   "outputs": [
    {
     "data": {
      "text/plain": [
       "8.279819684796212"
      ]
     },
     "execution_count": 9,
     "metadata": {},
     "output_type": "execute_result"
    }
   ],
   "source": [
    "t_stat"
   ]
  },
  {
   "cell_type": "markdown",
   "id": "41b532b8",
   "metadata": {},
   "source": [
    "since the test stat is greater than the critical value we reject the null hypothesis"
   ]
  },
  {
   "cell_type": "markdown",
   "id": "097d35e1",
   "metadata": {},
   "source": [
    "**Example 3:** wo retail stores, Store A and Store B, want to know if there’s a significant difference in average weekly sales over a period of 10 weeks."
   ]
  },
  {
   "cell_type": "markdown",
   "id": "61974270",
   "metadata": {},
   "source": [
    "Testing the null nypothesis \n",
    ">$H_0:\\mu_A=\\mu_B$\n",
    "\n",
    "against the alternate hypothesis\n",
    "\n",
    ">$H_1:\\mu_A\\neq\\mu_B$\n"
   ]
  },
  {
   "cell_type": "code",
   "execution_count": 10,
   "id": "86550c45",
   "metadata": {},
   "outputs": [
    {
     "name": "stdout",
     "output_type": "stream",
     "text": [
      "ShapiroResult(statistic=0.9650188088417053, pvalue=0.8412168025970459)\n",
      "ShapiroResult(statistic=0.9731948375701904, pvalue=0.9187834858894348)\n",
      "LeveneResult(statistic=0.21818181818181817, pvalue=0.6460333051897074)\n"
     ]
    }
   ],
   "source": [
    "#checking the assumptions\n",
    "# Sample data\n",
    "store_A =[230, 250, 245, 240, 255, 260, 250, 240, 245, 255]\n",
    "store_B=[225, 235, 240, 238, 250, 248, 235, 240, 230, 245]\n",
    "\n",
    "#checking the normality\n",
    "\n",
    "norm_a=stats.shapiro(store_A)\n",
    "norm_b=stats.shapiro(store_B)\n",
    "#checking for the equal variances\n",
    "var=stats.levene(store_A,store_B)\n",
    "print(norm_a)\n",
    "print(norm_b)\n",
    "print(var)"
   ]
  },
  {
   "cell_type": "markdown",
   "id": "0162af5d",
   "metadata": {},
   "source": [
    "The assumption of normality is met because the p-value is greater than 0.05 for both groups. Similarly, the assumption of equal variances is also met, as the p-value is above 0.05 for both groups. So it satisfies all the assumptions"
   ]
  },
  {
   "cell_type": "code",
   "execution_count": 11,
   "id": "d6f5f01b",
   "metadata": {},
   "outputs": [
    {
     "data": {
      "text/plain": [
       "0.03746345484653633"
      ]
     },
     "execution_count": 11,
     "metadata": {},
     "output_type": "execute_result"
    }
   ],
   "source": [
    "#checking for the hypothesis using p value approach\n",
    "t_stat,p_value=stats.ttest_ind(store_A,store_B,equal_var=True)\n",
    "p_value"
   ]
  },
  {
   "cell_type": "markdown",
   "id": "f97f0405",
   "metadata": {},
   "source": [
    "since p value is less than alpha we reject the null hypothesis"
   ]
  },
  {
   "cell_type": "code",
   "execution_count": 12,
   "id": "ff82d88b",
   "metadata": {},
   "outputs": [
    {
     "data": {
      "text/plain": [
       "2.10092204024096"
      ]
     },
     "execution_count": 12,
     "metadata": {},
     "output_type": "execute_result"
    }
   ],
   "source": [
    "#calculating the hypothesis using critical value\n",
    "alpha=0.05\n",
    "df=(len(store_A)+len(store_B))-2\n",
    "#critical_value\n",
    "critical_value=stats.t.ppf(1-alpha/2,df)\n",
    "critical_value"
   ]
  },
  {
   "cell_type": "code",
   "execution_count": 13,
   "id": "9c563c45",
   "metadata": {},
   "outputs": [
    {
     "data": {
      "text/plain": [
       "2.2464211843101096"
      ]
     },
     "execution_count": 13,
     "metadata": {},
     "output_type": "execute_result"
    }
   ],
   "source": [
    "t_stat"
   ]
  },
  {
   "cell_type": "markdown",
   "id": "d0b68040",
   "metadata": {},
   "source": [
    "since test stat is greater than critical value we reject the null hypothesis"
   ]
  },
  {
   "cell_type": "markdown",
   "id": "2ef22929",
   "metadata": {},
   "source": [
    "**Example 4:** Two classes (X and Y) want to know if Class X has higher average test scores than Class Y."
   ]
  },
  {
   "cell_type": "markdown",
   "id": "f7777829",
   "metadata": {},
   "source": [
    "testing the null hypothesis \n",
    "\n",
    ">$H_0:\\mu_A=\\mu_B$\n",
    "\n",
    "against the alternate hypothesis\n",
    ">$H_1:\\mu_A>\\mu_B$"
   ]
  },
  {
   "cell_type": "code",
   "execution_count": 14,
   "id": "5516ddf0",
   "metadata": {},
   "outputs": [
    {
     "name": "stdout",
     "output_type": "stream",
     "text": [
      "ShapiroResult(statistic=0.9527984857559204, pvalue=0.7016611695289612)\n",
      "ShapiroResult(statistic=0.9611218571662903, pvalue=0.798586368560791)\n",
      "LeveneResult(statistic=2.5928571428571425, pvalue=0.12474330263945262)\n"
     ]
    }
   ],
   "source": [
    "#checking for the assumptions\n",
    "class_X = [75, 80, 82, 78, 76, 85, 79, 77, 84, 83]\n",
    "class_Y = [72, 74, 78, 73, 71, 76, 74, 72, 75, 77]\n",
    "\n",
    "#normality test\n",
    "norm_a=stats.shapiro(class_X)\n",
    "norm_b=stats.shapiro(class_Y)\n",
    "#variance test\n",
    "var=stats.levene(class_X,class_Y)\n",
    "print(norm_a)\n",
    "print(norm_b)\n",
    "print(var)"
   ]
  },
  {
   "cell_type": "markdown",
   "id": "b0e5e171",
   "metadata": {},
   "source": [
    "The assumption of normality is met because the p-value is greater than 0.05 for both groups. Similarly, the assumption of equal variances is also met, as the p-value is above 0.05 for both groups. So it satisfies all the assumptions"
   ]
  },
  {
   "cell_type": "code",
   "execution_count": 15,
   "id": "d25cb17a",
   "metadata": {},
   "outputs": [
    {
     "data": {
      "text/plain": [
       "0.00020504480685939883"
      ]
     },
     "execution_count": 15,
     "metadata": {},
     "output_type": "execute_result"
    }
   ],
   "source": [
    "#checking the hypothesis using p value approach\n",
    "t_stat,p_value=stats.ttest_ind(class_X,class_Y,equal_var=True,alternative='greater')\n",
    "p_value"
   ]
  },
  {
   "cell_type": "markdown",
   "id": "02143ea9",
   "metadata": {},
   "source": [
    "since p value is less than alpha we reject the null hypothesis"
   ]
  },
  {
   "cell_type": "code",
   "execution_count": 16,
   "id": "419f17c3",
   "metadata": {},
   "outputs": [
    {
     "data": {
      "text/plain": [
       "1.7340636066175354"
      ]
     },
     "execution_count": 16,
     "metadata": {},
     "output_type": "execute_result"
    }
   ],
   "source": [
    "#calculating hypothesis using critical value method\n",
    "df=(len(class_X)+len(class_Y))-2\n",
    "alpha=0.05\n",
    "critical_value=stats.t.ppf(1-alpha,df)\n",
    "critical_value"
   ]
  },
  {
   "cell_type": "code",
   "execution_count": 17,
   "id": "c78605e7",
   "metadata": {},
   "outputs": [
    {
     "data": {
      "text/plain": [
       "4.322539189865529"
      ]
     },
     "execution_count": 17,
     "metadata": {},
     "output_type": "execute_result"
    }
   ],
   "source": [
    "t_stat"
   ]
  },
  {
   "cell_type": "markdown",
   "id": "6333711e",
   "metadata": {},
   "source": [
    "since test stat is greater than the critical value we reject the null hypothesis"
   ]
  },
  {
   "cell_type": "markdown",
   "id": "7c3b5b36",
   "metadata": {},
   "source": [
    "**Example 5:** Two factories, Factory A and Factory B, manufacture the same product. Management wants to know if Factory A produces higher-quality items, on average, than Factory B."
   ]
  },
  {
   "cell_type": "markdown",
   "id": "34c130e9",
   "metadata": {},
   "source": [
    "Testing the null hypothesis\n",
    "\n",
    ">$H_0:\\mu_A=\\mu_B$\n",
    "\n",
    "against the alternate hypothesis\n",
    "\n",
    ">$H_1:\\mu_A>\\mu_B$"
   ]
  },
  {
   "cell_type": "code",
   "execution_count": 18,
   "id": "0f4fc85c",
   "metadata": {},
   "outputs": [
    {
     "name": "stdout",
     "output_type": "stream",
     "text": [
      "ShapiroResult(statistic=0.9774341583251953, pvalue=0.9499722123146057)\n",
      "ShapiroResult(statistic=0.9480838179588318, pvalue=0.6458869576454163)\n",
      "LeveneResult(statistic=0.7309644670050758, pvalue=0.40380736669006767)\n"
     ]
    }
   ],
   "source": [
    "#checking for assumptions\n",
    "factory_A = [85, 87, 89, 88, 90, 92, 88, 87, 91, 90]\n",
    "factory_B= [80, 82, 81, 83, 85, 84, 83, 82, 84, 85]\n",
    "\n",
    "#normality test\n",
    "norm_a=stats.shapiro(factory_A)\n",
    "norm_b=stats.shapiro(factory_B)\n",
    "#variance test\n",
    "var=stats.levene(factory_A,factory_B)\n",
    "print(norm_a)\n",
    "print(norm_b)\n",
    "print(var)\n"
   ]
  },
  {
   "cell_type": "markdown",
   "id": "ef7a9dd5",
   "metadata": {},
   "source": [
    "The assumption of normality is met because the p-value is greater than 0.05 for both groups. Similarly, the assumption of equal variances is also met, as the p-value is above 0.05 for both groups. So it satisfies all the assumptions"
   ]
  },
  {
   "cell_type": "code",
   "execution_count": 19,
   "id": "d247cb73",
   "metadata": {},
   "outputs": [
    {
     "data": {
      "text/plain": [
       "1.0884380624297208e-06"
      ]
     },
     "execution_count": 19,
     "metadata": {},
     "output_type": "execute_result"
    }
   ],
   "source": [
    "#checking the hypothesis using p value approach\n",
    "t_stat,p_value=stats.ttest_ind(factory_A,factory_B,equal_var=True,alternative='greater')\n",
    "p_value"
   ]
  },
  {
   "cell_type": "markdown",
   "id": "45f8fdfb",
   "metadata": {},
   "source": [
    "since the p value is less than the alpha we reject the null hypothesis"
   ]
  },
  {
   "cell_type": "code",
   "execution_count": 20,
   "id": "cc9b2f4e",
   "metadata": {},
   "outputs": [
    {
     "data": {
      "text/plain": [
       "1.7340636066175354"
      ]
     },
     "execution_count": 20,
     "metadata": {},
     "output_type": "execute_result"
    }
   ],
   "source": [
    "#calculating the hypothesis using critical value approach\n",
    "alpha=0.05\n",
    "df=(len(factory_A)+len(factory_B))-2\n",
    "#critical_value\n",
    "critical_value=stats.t.ppf(1-alpha,df)\n",
    "critical_value"
   ]
  },
  {
   "cell_type": "code",
   "execution_count": 21,
   "id": "391d9ca2",
   "metadata": {},
   "outputs": [
    {
     "data": {
      "text/plain": [
       "6.824841502808801"
      ]
     },
     "execution_count": 21,
     "metadata": {},
     "output_type": "execute_result"
    }
   ],
   "source": [
    "t_stat"
   ]
  },
  {
   "cell_type": "markdown",
   "id": "287d3743",
   "metadata": {},
   "source": [
    "since test stat is greater than the critical value we reject the null hypothesis"
   ]
  },
  {
   "cell_type": "markdown",
   "id": "e7034b9c",
   "metadata": {},
   "source": [
    "**Example 6:** A company wants to determine if customer satisfaction scores in Region X are significantly lower than in Region Y.\n",
    "\n"
   ]
  },
  {
   "cell_type": "markdown",
   "id": "21009d63",
   "metadata": {},
   "source": [
    "Testing the null hypothesis\n",
    "\n",
    ">$H_0:\\mu_A=\\mu_B$\n",
    "\n",
    "against the alternate hypothesis\n",
    "\n",
    ">$H_1:\\mu_A<\\mu_B$"
   ]
  },
  {
   "cell_type": "code",
   "execution_count": 22,
   "id": "81365828",
   "metadata": {},
   "outputs": [
    {
     "name": "stdout",
     "output_type": "stream",
     "text": [
      "ShapiroResult(statistic=0.9433293342590332, pvalue=0.5906188488006592)\n",
      "ShapiroResult(statistic=0.941914439201355, pvalue=0.5745060443878174)\n",
      "LeveneResult(statistic=1.1162790697674414, pvalue=0.3046957902099586)\n"
     ]
    }
   ],
   "source": [
    "#checking for the assumptions\n",
    "region_X = [70, 72, 68, 69, 71, 67, 70, 69, 72, 68]\n",
    "region_Y = [75, 76, 74, 77, 75, 78, 76, 77, 74, 76]\n",
    "#normality test\n",
    "norm_X = stats.shapiro(region_X)\n",
    "norm_Y = stats.shapiro(region_Y)\n",
    "#variance test\n",
    "p_var = stats.levene(region_X, region_Y)\n",
    "print(norm_X)\n",
    "print(norm_Y)\n",
    "print(p_var)"
   ]
  },
  {
   "cell_type": "markdown",
   "id": "eb206806",
   "metadata": {},
   "source": [
    "The assumption of normality is met because the p-value is greater than 0.05 for both groups. Similarly, the assumption of equal variances is also met, as the p-value is above 0.05 for both groups. So it satisfies all the assumptions"
   ]
  },
  {
   "cell_type": "code",
   "execution_count": 23,
   "id": "195681f7",
   "metadata": {},
   "outputs": [
    {
     "data": {
      "text/plain": [
       "1.94307207199171e-08"
      ]
     },
     "execution_count": 23,
     "metadata": {},
     "output_type": "execute_result"
    }
   ],
   "source": [
    "#checking the hypothesis using p value approach\n",
    "t_stat, p_value = stats.ttest_ind(region_X, region_Y, equal_var=True, alternative='less')\n",
    "p_value"
   ]
  },
  {
   "cell_type": "markdown",
   "id": "f8a353cd",
   "metadata": {},
   "source": [
    "since the p value is less than the alpha we reject the null hypothesis"
   ]
  },
  {
   "cell_type": "code",
   "execution_count": 24,
   "id": "9955d114",
   "metadata": {},
   "outputs": [
    {
     "data": {
      "text/plain": [
       "-1.734063606617536"
      ]
     },
     "execution_count": 24,
     "metadata": {},
     "output_type": "execute_result"
    }
   ],
   "source": [
    "#checking the hypothesis using critical value approach\n",
    "df = len(region_X) + len(region_Y) - 2\n",
    "critical = stats.t.ppf(alpha, df)\n",
    "critical"
   ]
  },
  {
   "cell_type": "code",
   "execution_count": 25,
   "id": "ff67c448",
   "metadata": {},
   "outputs": [
    {
     "data": {
      "text/plain": [
       "-9.075870678421362"
      ]
     },
     "execution_count": 25,
     "metadata": {},
     "output_type": "execute_result"
    }
   ],
   "source": [
    "t_stat"
   ]
  },
  {
   "cell_type": "markdown",
   "id": "26d69e79",
   "metadata": {},
   "source": [
    "since absolute(test stat) is greater than the critical value we reject the null hypothesis"
   ]
  },
  {
   "cell_type": "markdown",
   "id": "b9029766",
   "metadata": {},
   "source": [
    "**Example 7:** A factory wants to determine if the average production time for Team A is significantly lower than for Team B.\n",
    "\n"
   ]
  },
  {
   "cell_type": "markdown",
   "id": "d20b2970",
   "metadata": {},
   "source": [
    "Testing the null hypothesis \n",
    "\n",
    ">$H_0:\\mu_A=\\mu_B$\n",
    "\n",
    "against the alternate hypothesis\n",
    "\n",
    ">$H_1:\\mu_A<\\mu_B$"
   ]
  },
  {
   "cell_type": "code",
   "execution_count": 26,
   "id": "5a9413fd",
   "metadata": {},
   "outputs": [
    {
     "name": "stdout",
     "output_type": "stream",
     "text": [
      "ShapiroResult(statistic=0.9519402980804443, pvalue=0.691487729549408)\n",
      "ShapiroResult(statistic=0.8780678510665894, pvalue=0.12398403882980347)\n",
      "LeveneResult(statistic=0.0, pvalue=1.0)\n"
     ]
    }
   ],
   "source": [
    "#checking for the assumptions\n",
    "# Production times for Team A and Team B\n",
    "team_A = [40, 42, 39, 41, 40, 38, 39, 41, 40, 39]\n",
    "team_B = [45, 47, 46, 48, 45, 46, 47, 48, 46, 45]\n",
    "#normality test\n",
    "norm_A = stats.shapiro(team_A)\n",
    "norm_B = stats.shapiro(team_B)\n",
    "#variance test\n",
    "p_var = stats.levene(team_A, team_B)\n",
    "print(norm_A)\n",
    "print(norm_B)\n",
    "print(p_var)"
   ]
  },
  {
   "cell_type": "markdown",
   "id": "d81afe76",
   "metadata": {},
   "source": [
    "The assumption of normality is met because the p-value is greater than 0.05 for both groups. Similarly, the assumption of equal variances is also met, as the p-value is above 0.05 for both groups. So it satisfies all the assumptions"
   ]
  },
  {
   "cell_type": "code",
   "execution_count": 27,
   "id": "d1abdf6f",
   "metadata": {},
   "outputs": [
    {
     "data": {
      "text/plain": [
       "2.084247962015636e-10"
      ]
     },
     "execution_count": 27,
     "metadata": {},
     "output_type": "execute_result"
    }
   ],
   "source": [
    "#calculating the hypothesis using p value approach\n",
    "t_stat, p_value = stats.ttest_ind(team_A, team_B, equal_var=True, alternative='less')\n",
    "p_value"
   ]
  },
  {
   "cell_type": "markdown",
   "id": "1c2bfddb",
   "metadata": {},
   "source": [
    "since the p value is less than the alpha we reject the null hypothesis"
   ]
  },
  {
   "cell_type": "code",
   "execution_count": 28,
   "id": "a5392be5",
   "metadata": {},
   "outputs": [
    {
     "data": {
      "text/plain": [
       "-1.734063606617536"
      ]
     },
     "execution_count": 28,
     "metadata": {},
     "output_type": "execute_result"
    }
   ],
   "source": [
    "#calculating the hypothesis using critical value approach\n",
    "alpha=0.05\n",
    "df = len(team_A) + len(team_B) - 2\n",
    "critical = stats.t.ppf(alpha, df)\n",
    "critical"
   ]
  },
  {
   "cell_type": "code",
   "execution_count": 29,
   "id": "90c7cfad",
   "metadata": {},
   "outputs": [
    {
     "data": {
      "text/plain": [
       "-12.143146215046576"
      ]
     },
     "execution_count": 29,
     "metadata": {},
     "output_type": "execute_result"
    }
   ],
   "source": [
    "t_stat"
   ]
  },
  {
   "cell_type": "markdown",
   "id": "df4144d3",
   "metadata": {},
   "source": [
    "since absolute(test stat) is greater than the critical value we reject the null hypothesis"
   ]
  },
  {
   "cell_type": "code",
   "execution_count": null,
   "id": "1b1873ca",
   "metadata": {},
   "outputs": [],
   "source": []
  }
 ],
 "metadata": {
  "kernelspec": {
   "display_name": "Python 3 (ipykernel)",
   "language": "python",
   "name": "python3"
  },
  "language_info": {
   "codemirror_mode": {
    "name": "ipython",
    "version": 3
   },
   "file_extension": ".py",
   "mimetype": "text/x-python",
   "name": "python",
   "nbconvert_exporter": "python",
   "pygments_lexer": "ipython3",
   "version": "3.11.5"
  }
 },
 "nbformat": 4,
 "nbformat_minor": 5
}
