{
 "cells": [
  {
   "cell_type": "code",
   "execution_count": 1,
   "id": "aa602236",
   "metadata": {},
   "outputs": [],
   "source": [
    "import numpy as np\n",
    "import pandas as pd\n",
    "import matplotlib.pyplot as plt\n",
    "import seaborn as sns\n",
    "import scipy.stats as stats\n",
    "import plotly.express as px\n",
    "%matplotlib inline"
   ]
  },
  {
   "cell_type": "markdown",
   "id": "54f03410",
   "metadata": {},
   "source": [
    "### Two independent sample z-test for equality of means"
   ]
  },
  {
   "cell_type": "markdown",
   "id": "6af541dc",
   "metadata": {},
   "source": [
    "**Assumptions:**\n",
    "* Normally distributed populations or Sample sizes > 30 - Since the sample sizes are greater than 30, Central Limit Theorem states that the distribution of sample means will be normal.\n",
    "* Independent populations\n",
    "* Known population standard deviation  𝜎1 and  𝜎2\n",
    "* Random sampling from the population"
   ]
  },
  {
   "cell_type": "markdown",
   "id": "c1450d24",
   "metadata": {},
   "source": [
    "**Example 1:** A school wants to know if there is a significant difference in exam scores between students taught using Method A and those taught using Method B.\n",
    "* Sample Size for Method A (n1)=40\n",
    "* Mean Score for Method A $(X_1=78)$\n",
    "* Standard Deviation for Method A $(\\sigma_1=10)$\n",
    "* Sample Size for Method A (n2) =50\n",
    "* Mean Score for Method A $(X_2=82)$\n",
    "* Standard Deviation for Method A $(\\sigma_2=9)$\n"
   ]
  },
  {
   "cell_type": "markdown",
   "id": "9c5eedb0",
   "metadata": {},
   "source": [
    "Testing the null hypothesis \n",
    "\n",
    ">$H_0:\\mu_1=\\mu_2$\n",
    "\n",
    "against the alternate hypothesis\n",
    "\n",
    ">$H_1:\\mu_1\\neq\\mu_2$"
   ]
  },
  {
   "cell_type": "code",
   "execution_count": 2,
   "id": "32e8a999",
   "metadata": {},
   "outputs": [
    {
     "data": {
      "text/plain": [
       "0.048762943958365224"
      ]
     },
     "execution_count": 2,
     "metadata": {},
     "output_type": "execute_result"
    }
   ],
   "source": [
    "#as it satisfies all the assumptions\n",
    "#checking the hypothesis using p value approach\n",
    "#Data for Method A and Method B\n",
    "x1, sigma1, n1 = 78, 10, 40\n",
    "x2, sigma2, n2 = 82, 9, 50\n",
    "#z-test\n",
    "z_stat=(x1-x2)/np.sqrt((sigma1**2/n1)+(sigma2**2/n2))\n",
    "p_value=2*(1-stats.norm.cdf(abs(z_stat)))\n",
    "p_value"
   ]
  },
  {
   "cell_type": "markdown",
   "id": "bedf7916",
   "metadata": {},
   "source": [
    "since p value is less than alpha we reject the null hypothesis"
   ]
  },
  {
   "cell_type": "code",
   "execution_count": 3,
   "id": "df527c7e",
   "metadata": {},
   "outputs": [
    {
     "data": {
      "text/plain": [
       "1.959963984540054"
      ]
     },
     "execution_count": 3,
     "metadata": {},
     "output_type": "execute_result"
    }
   ],
   "source": [
    "#checking the hypothesis using critical value approach\n",
    "alpha=0.05\n",
    "critical=stats.norm.ppf(1-alpha/2)\n",
    "critical"
   ]
  },
  {
   "cell_type": "code",
   "execution_count": 4,
   "id": "655d1325",
   "metadata": {},
   "outputs": [
    {
     "data": {
      "text/plain": [
       "-1.9706585563285863"
      ]
     },
     "execution_count": 4,
     "metadata": {},
     "output_type": "execute_result"
    }
   ],
   "source": [
    "z_stat"
   ]
  },
  {
   "cell_type": "markdown",
   "id": "8e548d37",
   "metadata": {},
   "source": [
    "since abs(z stat) is greater than the critical value we reject the null hypothesis"
   ]
  },
  {
   "cell_type": "markdown",
   "id": "ffc2fc30",
   "metadata": {},
   "source": [
    "**Example 2:** A study compares the average daily steps taken by users of Fitness App X and Fitness App Y.\n",
    "\n",
    "* Sample Size for App X $(n_1)$=100\n",
    "* Mean Daily Steps for App X $(\\bar{x_1})$=7500\n",
    "* Standard deviation for App X $(\\sigma_1)$=1200\n",
    "* Sample Size for App Y $(n_2)$=120\n",
    "* Mean Daily Steps for App Y $(\\bar{x_2})$=7200\n",
    "* Standard deviation for App Y $(\\sigma_2)$=1150\n",
    "\n"
   ]
  },
  {
   "cell_type": "markdown",
   "id": "b10d99f0",
   "metadata": {},
   "source": [
    "Testing the null hypothesis\n",
    "\n",
    ">$H_0:\\mu_1=\\mu_2$\n",
    "\n",
    "against the alternate hypothesis\n",
    "\n",
    ">$H_1:\\mu_1\\neq\\mu_2$"
   ]
  },
  {
   "cell_type": "code",
   "execution_count": 5,
   "id": "e4bb6155",
   "metadata": {},
   "outputs": [
    {
     "data": {
      "text/plain": [
       "0.059890900387221224"
      ]
     },
     "execution_count": 5,
     "metadata": {},
     "output_type": "execute_result"
    }
   ],
   "source": [
    "#It satisfies all the assumptions\n",
    "#Data for App X and App Y\n",
    "x1, sigma1, n1 = 7500, 1200, 100\n",
    "x2, sigma2, n2 = 7200, 1150, 120\n",
    "#z test\n",
    "z_stat=(x1-x2)/np.sqrt((sigma1**2/n1)+(sigma2**2/n2))\n",
    "#p_value\n",
    "p_value=2*(1-stats.norm.cdf(abs(z_stat)))\n",
    "p_value"
   ]
  },
  {
   "cell_type": "markdown",
   "id": "19d99d17",
   "metadata": {},
   "source": [
    "since p value is greater than alpha we fail reject the null hypothesis"
   ]
  },
  {
   "cell_type": "code",
   "execution_count": 6,
   "id": "8a508c56",
   "metadata": {},
   "outputs": [
    {
     "data": {
      "text/plain": [
       "1.959963984540054"
      ]
     },
     "execution_count": 6,
     "metadata": {},
     "output_type": "execute_result"
    }
   ],
   "source": [
    "#checking the hypothesis using critical value\n",
    "critical=stats.norm.ppf(1-alpha/2)\n",
    "critical"
   ]
  },
  {
   "cell_type": "code",
   "execution_count": 7,
   "id": "850bb32f",
   "metadata": {},
   "outputs": [
    {
     "data": {
      "text/plain": [
       "1.8815959217079794"
      ]
     },
     "execution_count": 7,
     "metadata": {},
     "output_type": "execute_result"
    }
   ],
   "source": [
    "z_stat"
   ]
  },
  {
   "cell_type": "markdown",
   "id": "7cd0a38e",
   "metadata": {},
   "source": [
    "since z_stat is less than alpha we fail to reject the null hypothesis"
   ]
  },
  {
   "cell_type": "markdown",
   "id": "5c3b99a2",
   "metadata": {},
   "source": [
    "**Example 3:** A bank compares the average wait times at Branch A and Branch B.\n",
    "* Sample Size for Branch A $(n_1)$ = 80\n",
    "* Mean wait time for Branch A $(\\bar{x_1})$ =15 mins\n",
    "* Standard deviation for Branch A $(\\sigma_1)$ = 3 mins\n",
    "* Sample Size for Branch B $(n_2)$ = 75\n",
    "* Mean wait time for Branch B $(\\bar{x_2})$ = 14 mins\n",
    "* Standard deviation for Branch B $(\\sigma_2)$ = 2.5 mins\n"
   ]
  },
  {
   "cell_type": "markdown",
   "id": "d63c81f0",
   "metadata": {},
   "source": [
    "Testing the null hypothesis\n",
    "\n",
    ">$H_0:\\mu_1=\\mu_2$\n",
    "\n",
    "against the alternate hypothesis\n",
    "\n",
    ">$H_1:\\mu_2\\neq\\mu_2$"
   ]
  },
  {
   "cell_type": "code",
   "execution_count": 8,
   "id": "361e2405",
   "metadata": {},
   "outputs": [
    {
     "data": {
      "text/plain": [
       "0.023837967768800317"
      ]
     },
     "execution_count": 8,
     "metadata": {},
     "output_type": "execute_result"
    }
   ],
   "source": [
    "#data\n",
    "x1, sigma1, n1 = 15, 3, 80\n",
    "x2, sigma2, n2 = 14, 2.5, 75\n",
    "# Z-test calculation\n",
    "z_stat = (x1 - x2) / np.sqrt((sigma1**2 / n1) + (sigma2**2 / n2))\n",
    "#p_value\n",
    "p_value = 2 * (1 - stats.norm.cdf(abs(z_stat)))\n",
    "p_value"
   ]
  },
  {
   "cell_type": "markdown",
   "id": "1341632a",
   "metadata": {},
   "source": [
    "since the p value is less than alpha we reject the null hypothesis"
   ]
  },
  {
   "cell_type": "code",
   "execution_count": 9,
   "id": "612b8021",
   "metadata": {},
   "outputs": [
    {
     "data": {
      "text/plain": [
       "0.8352198700196897"
      ]
     },
     "execution_count": 9,
     "metadata": {},
     "output_type": "execute_result"
    }
   ],
   "source": [
    "#checking the hypothesis using critical value\n",
    "alpha=0.05\n",
    "critical=stats.norm.cdf(1-alpha/2)\n",
    "critical"
   ]
  },
  {
   "cell_type": "code",
   "execution_count": 10,
   "id": "90111c3b",
   "metadata": {},
   "outputs": [
    {
     "data": {
      "text/plain": [
       "2.259730731464128"
      ]
     },
     "execution_count": 10,
     "metadata": {},
     "output_type": "execute_result"
    }
   ],
   "source": [
    "z_stat"
   ]
  },
  {
   "cell_type": "markdown",
   "id": "ca83e4c1",
   "metadata": {},
   "source": [
    "since z stat is greater than the critical value we reject the null hypothesis"
   ]
  },
  {
   "cell_type": "markdown",
   "id": "b00bc603",
   "metadata": {},
   "source": [
    "**Example 4:** A factory wants to compare the average weight of goods produced on Machine 1 and Machine 2 to ensure consistency.\n",
    "* Sample Size for Machine 1 $(n_1)$ = 50\n",
    "* Mean weight for Machine 1 $(\\bar{x_1})$ =200g\n",
    "* Standard deviation for Machine 1 $(\\sigma_1)$ = 5g\n",
    "* Sample Size for Machine 2 $(n_2)$ = 60\n",
    "* Mean weight for Machine 2 $(\\bar{x_2})$ = 198g\n",
    "* Standard deviation for Machine 2 $(\\sigma_2)$ = 4.5g"
   ]
  },
  {
   "cell_type": "markdown",
   "id": "05783216",
   "metadata": {},
   "source": [
    "Testing the null hypothesis \n",
    "\n",
    ">$H_0:\\mu_1=\\mu_2$\n",
    "\n",
    "against the alternate hypothesis\n",
    "\n",
    ">$H_1:\\mu_1\\neq\\mu_2$"
   ]
  },
  {
   "cell_type": "code",
   "execution_count": 11,
   "id": "e13cfa28",
   "metadata": {},
   "outputs": [
    {
     "data": {
      "text/plain": [
       "0.028857079863545243"
      ]
     },
     "execution_count": 11,
     "metadata": {},
     "output_type": "execute_result"
    }
   ],
   "source": [
    "#Data\n",
    "x1, sigma1, n1 = 200, 5, 50\n",
    "x2, sigma2, n2 = 198, 4.5, 60\n",
    "#z_test\n",
    "z_stat=(x1-x2)/np.sqrt((sigma1**2/n1)+(sigma2**2/n2))\n",
    "#p_value\n",
    "p_value=2*(1-stats.norm.cdf(z_stat))\n",
    "p_value"
   ]
  },
  {
   "cell_type": "markdown",
   "id": "425940da",
   "metadata": {},
   "source": [
    "since the p value is less than alpha we reject the null hypothesis"
   ]
  },
  {
   "cell_type": "code",
   "execution_count": 12,
   "id": "13ee586e",
   "metadata": {},
   "outputs": [
    {
     "data": {
      "text/plain": [
       "1.959963984540054"
      ]
     },
     "execution_count": 12,
     "metadata": {},
     "output_type": "execute_result"
    }
   ],
   "source": [
    "#checking the hypothesis using critical value\n",
    "alpha=0.05\n",
    "critical=stats.norm.ppf(1-alpha/2)\n",
    "critical"
   ]
  },
  {
   "cell_type": "code",
   "execution_count": 13,
   "id": "36ff2d60",
   "metadata": {},
   "outputs": [
    {
     "data": {
      "text/plain": [
       "2.185433458832612"
      ]
     },
     "execution_count": 13,
     "metadata": {},
     "output_type": "execute_result"
    }
   ],
   "source": [
    "z_stat"
   ]
  },
  {
   "cell_type": "markdown",
   "id": "78cf1fdc",
   "metadata": {},
   "source": [
    "since the z stat is greater than the critical value we reject the null hypothesis"
   ]
  },
  {
   "cell_type": "markdown",
   "id": "669a5d0a",
   "metadata": {},
   "source": [
    "**Example 5:**  A pharmaceutical company is interested in determining whether a new drug affects reaction times differently compared to an old drug. Researchers collected data on the reaction times (in seconds) from two independent groups of participants, one receiving the new drug and the other receiving the old drug.\n",
    "\n",
    "* Sample Size for New drug $(n_1)$ = 35\n",
    "* Mean Reaction time for New drug $(\\bar{x_1})$ = 2.5 sec\n",
    "* Standard deviation for New drug $(\\sigma_1)$ = 0.6 sec\n",
    "* Sample Size for Old drug $(n_2)$ = 30\n",
    "* Mean Reaction time for Old drug $(\\bar{x_2})$ = 3.0 secs\n",
    "* Standard deviation for Old drug $(\\sigma_2)$ = 0.5 sec"
   ]
  },
  {
   "cell_type": "markdown",
   "id": "29b47e1f",
   "metadata": {},
   "source": [
    "Testing the null hypothesis\n",
    "\n",
    ">$H_0:\\mu_1=\\mu_2$\n",
    "\n",
    "against the alternate hypothesis\n",
    "\n",
    ">$H_1:\\mu_1\\neq\\mu_2$"
   ]
  },
  {
   "cell_type": "code",
   "execution_count": 14,
   "id": "ba0312b0",
   "metadata": {},
   "outputs": [
    {
     "data": {
      "text/plain": [
       "0.01666380301317738"
      ]
     },
     "execution_count": 14,
     "metadata": {},
     "output_type": "execute_result"
    }
   ],
   "source": [
    "#Data\n",
    "x1, sigma1, n1 = 2.5, 0.6, 35  \n",
    "x2, sigma2, n2 = 3.0, 0.5, 30 \n",
    "#z_stat\n",
    "z_stat=(x1-x2)/np.sqrt((sigma1**2/n1)+(sigma2*2/n2))\n",
    "#p_value\n",
    "p_value=2*(1-stats.norm.cdf(abs(z_stat)))\n",
    "p_value"
   ]
  },
  {
   "cell_type": "markdown",
   "id": "60bf7782",
   "metadata": {},
   "source": [
    "since the p value is less than alpha we reject the null hypothesis"
   ]
  },
  {
   "cell_type": "code",
   "execution_count": 15,
   "id": "70085dfd",
   "metadata": {},
   "outputs": [
    {
     "data": {
      "text/plain": [
       "1.959963984540054"
      ]
     },
     "execution_count": 15,
     "metadata": {},
     "output_type": "execute_result"
    }
   ],
   "source": [
    "#checking the hypothesis using critical value\n",
    "alpha=0.05\n",
    "critical=stats.norm.ppf(1-alpha/2)\n",
    "critical"
   ]
  },
  {
   "cell_type": "code",
   "execution_count": 16,
   "id": "5ad3435a",
   "metadata": {},
   "outputs": [
    {
     "data": {
      "text/plain": [
       "-2.394042825021084"
      ]
     },
     "execution_count": 16,
     "metadata": {},
     "output_type": "execute_result"
    }
   ],
   "source": [
    "z_stat"
   ]
  },
  {
   "cell_type": "markdown",
   "id": "51131783",
   "metadata": {},
   "source": [
    "since the abs(z_stat) is greater than the criical value we reject the null hypothesis"
   ]
  },
  {
   "cell_type": "markdown",
   "id": "db58714b",
   "metadata": {},
   "source": [
    "**Example 6:**  A school district wants to evaluate whether students who participated in a special tutoring program scored higher on a standardized test than students who did not participate.\n",
    "\n",
    "* Sample Size for Totoring $(n_1)$ = 40\n",
    "* Mean score for Tutoring $(\\bar{x_1})$ = 78\n",
    "* Standard deviation for Tutoring $(\\sigma_1)$ = 10\n",
    "* Sample Size for No tutoring $(n_2)$ = 50\n",
    "* Mean score for No tutoring $(\\bar{x_2})$ = 74\n",
    "* Standard deviation for No tutoring $(\\sigma_2)$ = 12"
   ]
  },
  {
   "cell_type": "markdown",
   "id": "82bd1ce6",
   "metadata": {},
   "source": [
    "Testing the null hypothesis\n",
    "\n",
    ">$H_0:\\mu_1≤\\mu_2$\n",
    "\n",
    "against the alternate hypothesis\n",
    "\n",
    ">$H_1:\\mu_1>\\mu_2$"
   ]
  },
  {
   "cell_type": "code",
   "execution_count": 17,
   "id": "c31bd888",
   "metadata": {},
   "outputs": [
    {
     "data": {
      "text/plain": [
       "0.04230678447587721"
      ]
     },
     "execution_count": 17,
     "metadata": {},
     "output_type": "execute_result"
    }
   ],
   "source": [
    "#Data\n",
    "x1, sigma1, n1 = 78, 10, 40  \n",
    "x2, sigma2, n2 = 74, 12, 50\n",
    "# Z-test calculation\n",
    "z_stat = (x1 - x2) / np.sqrt((sigma1**2 / n1) + (sigma2**2 / n2))\n",
    "# P-value \n",
    "p_value = 1 - stats.norm.cdf(z_stat)\n",
    "p_value"
   ]
  },
  {
   "cell_type": "markdown",
   "id": "9542410c",
   "metadata": {},
   "source": [
    "since the p value is less than alpha we rejec the null hypothesis"
   ]
  },
  {
   "cell_type": "code",
   "execution_count": 18,
   "id": "3db115b1",
   "metadata": {},
   "outputs": [
    {
     "data": {
      "text/plain": [
       "1.6448536269514722"
      ]
     },
     "execution_count": 18,
     "metadata": {},
     "output_type": "execute_result"
    }
   ],
   "source": [
    "#checking the hypothesis using critical value\n",
    "alpha = 0.05\n",
    "critical_value = stats.norm.ppf(1 - alpha)\n",
    "critical_value"
   ]
  },
  {
   "cell_type": "code",
   "execution_count": 19,
   "id": "56ed4b7e",
   "metadata": {},
   "outputs": [
    {
     "data": {
      "text/plain": [
       "1.7245224542369075"
      ]
     },
     "execution_count": 19,
     "metadata": {},
     "output_type": "execute_result"
    }
   ],
   "source": [
    "z_stat"
   ]
  },
  {
   "cell_type": "markdown",
   "id": "f2e63e35",
   "metadata": {},
   "source": [
    "since z stat is greater than the critical value we reject the null hypothesis"
   ]
  },
  {
   "cell_type": "markdown",
   "id": "1c02937f",
   "metadata": {},
   "source": [
    "**Example 7:** A company wants to assess whether a new marketing campaign has resulted in higher sales($) compared to previous sales data.\n",
    "\n",
    "* Sample Size for campaign $(n_1)$ = 30\n",
    "* Mean sales for campign $(\\bar{x_1})$ = 120,000\n",
    "* Standard deviation for campaign $(\\sigma_1)$ = 15,000\n",
    "* Sample Size for Previous sales $(n_2)$ = 25\n",
    "* Mean sales for Previous $(\\bar{x_2})$ = 110,000\n",
    "* Standard deviation for Previous sales $(\\sigma_2)$ = 10,000"
   ]
  },
  {
   "cell_type": "markdown",
   "id": "d00b057a",
   "metadata": {},
   "source": [
    "Testing the null hypothesis \n",
    "\n",
    ">$H_0:\\mu_1≤\\mu_2$\n",
    "\n",
    "against the alternate hypothesis\n",
    "\n",
    ">$H_1:\\mu_1>\\mu_2$"
   ]
  },
  {
   "cell_type": "code",
   "execution_count": 20,
   "id": "4d9cd233",
   "metadata": {},
   "outputs": [
    {
     "data": {
      "text/plain": [
       "0.0015948498531084265"
      ]
     },
     "execution_count": 20,
     "metadata": {},
     "output_type": "execute_result"
    }
   ],
   "source": [
    "#Data\n",
    "x1, sigma1, n1 = 120000, 15000, 30  \n",
    "x2, sigma2, n2 = 110000, 10000, 25\n",
    "# Z-test calculation\n",
    "z_stat = (x1 - x2) / np.sqrt((sigma1**2 / n1) + (sigma2**2 / n2))\n",
    "#P-value method \n",
    "p_value = 1 - stats.norm.cdf(z_stat)\n",
    "p_value"
   ]
  },
  {
   "cell_type": "markdown",
   "id": "7e327c47",
   "metadata": {},
   "source": [
    "since the p value is less than alpha we reject the null hypothesis"
   ]
  },
  {
   "cell_type": "code",
   "execution_count": 21,
   "id": "51b0f3f8",
   "metadata": {},
   "outputs": [
    {
     "data": {
      "text/plain": [
       "1.6448536269514722"
      ]
     },
     "execution_count": 21,
     "metadata": {},
     "output_type": "execute_result"
    }
   ],
   "source": [
    "#critical value method\n",
    "alpha = 0.05\n",
    "critical_value = stats.norm.ppf(1 - alpha)\n",
    "critical_value"
   ]
  },
  {
   "cell_type": "code",
   "execution_count": 22,
   "id": "832aadad",
   "metadata": {},
   "outputs": [
    {
     "data": {
      "text/plain": [
       "2.948839123097943"
      ]
     },
     "execution_count": 22,
     "metadata": {},
     "output_type": "execute_result"
    }
   ],
   "source": [
    "z_stat"
   ]
  },
  {
   "cell_type": "markdown",
   "id": "6596ede1",
   "metadata": {},
   "source": [
    "since the z stat is greater than the critical value we reject the null hypothesis"
   ]
  },
  {
   "cell_type": "markdown",
   "id": "24022f59",
   "metadata": {},
   "source": [
    "**Example 8:** A company evaluates whether a new employee training program has resulted in higher productivity levels than the previous training program.\n",
    "\n",
    "* Sample Size for new training $(n_1)$ = 50\n",
    "* Mean productivity for new training $(\\bar{x_1})$ = 85 tasks\n",
    "* Standard deviation for new training $(\\sigma_1)$ = 10\n",
    "* Sample Size for old training $(n_2)$ = 45\n",
    "* Mean productivity for old training $(\\bar{x_2})$ = 78 tasks\n",
    "* Standard deviation for old training $(\\sigma_2)$ = 12"
   ]
  },
  {
   "cell_type": "markdown",
   "id": "6ec0ad46",
   "metadata": {},
   "source": [
    "Testing the null hypothesis \n",
    "\n",
    ">$H_0:\\mu_1≤\\mu_2$\n",
    "\n",
    "against the alternate hypothesis\n",
    "\n",
    ">$H_1:\\mu_1>\\mu_2$"
   ]
  },
  {
   "cell_type": "code",
   "execution_count": 23,
   "id": "472370e6",
   "metadata": {},
   "outputs": [
    {
     "data": {
      "text/plain": [
       "0.0010713584256426545"
      ]
     },
     "execution_count": 23,
     "metadata": {},
     "output_type": "execute_result"
    }
   ],
   "source": [
    "#Data for New Training and Old Training\n",
    "x1, sigma1, n1 = 85, 10, 50  \n",
    "x2, sigma2, n2 = 78, 12, 45\n",
    "# Z-test calculation\n",
    "z_stat = (x1 - x2) / np.sqrt((sigma1**2 / n1) + (sigma2**2 / n2))\n",
    "#P-value method \n",
    "p_value = 1 - stats.norm.cdf(z_stat)\n",
    "p_value"
   ]
  },
  {
   "cell_type": "markdown",
   "id": "b0502f33",
   "metadata": {},
   "source": [
    "since the p value is less than alpha we reject the null hypothesis"
   ]
  },
  {
   "cell_type": "code",
   "execution_count": 24,
   "id": "329f397e",
   "metadata": {},
   "outputs": [
    {
     "data": {
      "text/plain": [
       "1.6448536269514722"
      ]
     },
     "execution_count": 24,
     "metadata": {},
     "output_type": "execute_result"
    }
   ],
   "source": [
    "#critical value approach\n",
    "alpha = 0.05\n",
    "critical_value = stats.norm.ppf(1 - alpha)\n",
    "critical_value"
   ]
  },
  {
   "cell_type": "code",
   "execution_count": 25,
   "id": "4455aa7e",
   "metadata": {},
   "outputs": [
    {
     "data": {
      "text/plain": [
       "3.069703067574602"
      ]
     },
     "execution_count": 25,
     "metadata": {},
     "output_type": "execute_result"
    }
   ],
   "source": [
    "z_stat"
   ]
  },
  {
   "cell_type": "markdown",
   "id": "a3ee8196",
   "metadata": {},
   "source": [
    "since the z stat is greater than critical value we reject the null hypothesis"
   ]
  },
  {
   "cell_type": "markdown",
   "id": "4f3a1e92",
   "metadata": {},
   "source": [
    "**Example 9:** An automotive company wants to know if a new car model is more fuel-efficient than the previous model, measured in miles per gallon (MPG).\n",
    "\n",
    "* Sample Size for new model $(n_1)$ = 60\n",
    "* Mean MPG for new model $(\\bar{x_1})$ = 35 \n",
    "* Standard deviation for new model $(\\sigma_1)$ = 5\n",
    "* Sample Size for old model $(n_2)$ = 55\n",
    "* Mean MPG for old model $(\\bar{x_2})$ = 32\n",
    "* Standard deviation for old model $(\\sigma_2)$ = 6"
   ]
  },
  {
   "cell_type": "markdown",
   "id": "2b3ce2b9",
   "metadata": {},
   "source": [
    "Testing the null hypothesis\n",
    "\n",
    ">$H_0:\\mu_1≤\\mu_2$\n",
    "\n",
    "against the alternate hypothesis\n",
    "\n",
    ">$H_1:\\mu_1>\\mu_2$\n"
   ]
  },
  {
   "cell_type": "code",
   "execution_count": 26,
   "id": "e00981fd",
   "metadata": {},
   "outputs": [
    {
     "data": {
      "text/plain": [
       "0.0018743541589492096"
      ]
     },
     "execution_count": 26,
     "metadata": {},
     "output_type": "execute_result"
    }
   ],
   "source": [
    "#$Data for New Model and Old Model\n",
    "x1, sigma1, n1 = 35, 5, 60  \n",
    "x2, sigma2, n2 = 32, 6, 55 \n",
    "# Z-test calculation\n",
    "z_stat = (x1 - x2) / np.sqrt((sigma1**2 / n1) + (sigma2**2 / n2))\n",
    "# P-value method \n",
    "p_value = 1 - stats.norm.cdf(z_stat)\n",
    "p_value"
   ]
  },
  {
   "cell_type": "markdown",
   "id": "a6cd78fb",
   "metadata": {},
   "source": [
    "since the p value is less than alpha we reject the null hypothesis"
   ]
  },
  {
   "cell_type": "code",
   "execution_count": 27,
   "id": "2a68642c",
   "metadata": {},
   "outputs": [
    {
     "data": {
      "text/plain": [
       "1.6448536269514722"
      ]
     },
     "execution_count": 27,
     "metadata": {},
     "output_type": "execute_result"
    }
   ],
   "source": [
    "# Critical value approach\n",
    "alpha = 0.05\n",
    "critical_value = stats.norm.ppf(1 - alpha)\n",
    "critical_value"
   ]
  },
  {
   "cell_type": "code",
   "execution_count": 28,
   "id": "27b9f019",
   "metadata": {},
   "outputs": [
    {
     "data": {
      "text/plain": [
       "2.898568148687969"
      ]
     },
     "execution_count": 28,
     "metadata": {},
     "output_type": "execute_result"
    }
   ],
   "source": [
    "z_stat"
   ]
  },
  {
   "cell_type": "markdown",
   "id": "c1344f9d",
   "metadata": {},
   "source": [
    "since the z stat is greater than the critical value we reject the null hypothesis"
   ]
  },
  {
   "cell_type": "markdown",
   "id": "7c046f40",
   "metadata": {},
   "source": [
    "**Example 10:** A fitness study investigates whether participants who engage in a new exercise regimen recover their heart rate faster than those who follow a traditional regimen.\n",
    "\n",
    "* Sample Size for new exercise regimen $(n_1)$ = 25\n",
    "* Mean recovery time for exercise regimen $(\\bar{x_1})$ = 5.0 mins\n",
    "* Standard deviation for new exercise regimen $(\\sigma_1)$ = 1.0 mins\n",
    "* Sample Size for traditional regimen $(n_2)$ = 30\n",
    "* Mean Recovery time for traditional regimen $(\\bar{x_2})$ = 6.0 mins\n",
    "* Standard deviation for traditional regimen $(\\sigma_2)$ = 1.2 mins"
   ]
  },
  {
   "cell_type": "markdown",
   "id": "a942108b",
   "metadata": {},
   "source": [
    "Testing the null hypothesis \n",
    "\n",
    ">$H_0:\\mu_1≥\\mu_2$\n",
    "\n",
    "against the alternate hypothesis\n",
    "\n",
    ">$H_1:\\mu_1<\\mu_2$"
   ]
  },
  {
   "cell_type": "code",
   "execution_count": 29,
   "id": "37b4785c",
   "metadata": {},
   "outputs": [
    {
     "data": {
      "text/plain": [
       "0.9996255197761805"
      ]
     },
     "execution_count": 29,
     "metadata": {},
     "output_type": "execute_result"
    }
   ],
   "source": [
    "# Data for New Exercise and Traditional Regimen\n",
    "x1, sigma1, n1 = 5.0, 1.0, 25  \n",
    "x2, sigma2, n2 = 6.0, 1.2, 30  \n",
    "# Z-test calculation\n",
    "z_stat = (x1 - x2) / np.sqrt((sigma1**2 / n1) + (sigma2**2 / n2))\n",
    "\n",
    "# P-value method \n",
    "p_value = stats.norm.cdf(abs(z_stat))\n",
    "p_value"
   ]
  },
  {
   "cell_type": "markdown",
   "id": "d70c8ce5",
   "metadata": {},
   "source": [
    "since the p value is greater than alpha we fail to reject the null hypothesis"
   ]
  },
  {
   "cell_type": "code",
   "execution_count": 30,
   "id": "2901ec23",
   "metadata": {},
   "outputs": [
    {
     "data": {
      "text/plain": [
       "-1.6448536269514729"
      ]
     },
     "execution_count": 30,
     "metadata": {},
     "output_type": "execute_result"
    }
   ],
   "source": [
    "#critical value approach\n",
    "alpha = 0.05\n",
    "critical_value = stats.norm.ppf(alpha)\n",
    "critical_value"
   ]
  },
  {
   "cell_type": "code",
   "execution_count": 31,
   "id": "0380ef87",
   "metadata": {},
   "outputs": [
    {
     "data": {
      "text/plain": [
       "-3.3709993123162105"
      ]
     },
     "execution_count": 31,
     "metadata": {},
     "output_type": "execute_result"
    }
   ],
   "source": [
    "z_stat"
   ]
  },
  {
   "cell_type": "markdown",
   "id": "27900213",
   "metadata": {},
   "source": [
    "since the absolute z stat is less than the critical value we fail to reject the null hypothesis"
   ]
  },
  {
   "cell_type": "code",
   "execution_count": null,
   "id": "52754c89",
   "metadata": {},
   "outputs": [],
   "source": []
  }
 ],
 "metadata": {
  "kernelspec": {
   "display_name": "Python 3 (ipykernel)",
   "language": "python",
   "name": "python3"
  },
  "language_info": {
   "codemirror_mode": {
    "name": "ipython",
    "version": 3
   },
   "file_extension": ".py",
   "mimetype": "text/x-python",
   "name": "python",
   "nbconvert_exporter": "python",
   "pygments_lexer": "ipython3",
   "version": "3.11.5"
  }
 },
 "nbformat": 4,
 "nbformat_minor": 5
}
