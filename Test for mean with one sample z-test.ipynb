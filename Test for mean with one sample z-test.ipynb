{
 "cells": [
  {
   "cell_type": "code",
   "execution_count": 1,
   "id": "58bc6f8e",
   "metadata": {},
   "outputs": [],
   "source": [
    "import numpy as np\n",
    "import pandas as pd\n",
    "import matplotlib.pyplot as plt\n",
    "import seaborn as sns\n",
    "import plotly.express as px\n",
    "import scipy.stats as stats\n",
    "%matplotlib inline"
   ]
  },
  {
   "cell_type": "markdown",
   "id": "a896f425",
   "metadata": {},
   "source": [
    "**Example 1 :** A company produces light bulbs with a claimed average lifespan of 15,000 hours. A sample of 30 bulbs has an average lifespan of 16,500 hours with a standard deviation of 2,000 hours. We want to test if the bulbs actually last different amounts of time than claimed."
   ]
  },
  {
   "cell_type": "markdown",
   "id": "98abf2de",
   "metadata": {},
   "source": [
    "Testing the Null hypothesis \n",
    "\n",
    ">$H_0:\\mu=15000$\n",
    "\n",
    "against the alternate hypothesis\n",
    "\n",
    ">$H_1:\\mu\\neq15000$"
   ]
  },
  {
   "cell_type": "code",
   "execution_count": 10,
   "id": "6ea4a403",
   "metadata": {},
   "outputs": [
    {
     "data": {
      "text/plain": [
       "3.992397476904053e-05"
      ]
     },
     "execution_count": 10,
     "metadata": {},
     "output_type": "execute_result"
    }
   ],
   "source": [
    "#performing hypothesis using p value\n",
    "# Parameters\n",
    "sample_mean = 16500\n",
    "population_mean = 15000\n",
    "sample_std = 2000\n",
    "n = 30\n",
    "alpha = 0.05\n",
    "\n",
    "#z-test calculations\n",
    "z_statistic=(sample_mean-population_mean)/(sample_std/np.sqrt(n))\n",
    "z_statistic\n",
    "\n",
    "#two-tailed p-value\n",
    "p_value=2*(1-stats.norm.cdf(abs(z_statistic)))\n",
    "p_value"
   ]
  },
  {
   "cell_type": "markdown",
   "id": "89215dd3",
   "metadata": {},
   "source": [
    "Since p value is less than alpha we reject the null hypothesis"
   ]
  },
  {
   "cell_type": "code",
   "execution_count": 12,
   "id": "1bb7500c",
   "metadata": {},
   "outputs": [
    {
     "data": {
      "text/plain": [
       "1.959963984540054"
      ]
     },
     "execution_count": 12,
     "metadata": {},
     "output_type": "execute_result"
    }
   ],
   "source": [
    "#performing hypothesis using critical value method\n",
    "critical_value=stats.norm.ppf(1-alpha/2)\n",
    "critical_value"
   ]
  },
  {
   "cell_type": "code",
   "execution_count": 13,
   "id": "cef882ed",
   "metadata": {},
   "outputs": [
    {
     "data": {
      "text/plain": [
       "4.107919181288746"
      ]
     },
     "execution_count": 13,
     "metadata": {},
     "output_type": "execute_result"
    }
   ],
   "source": [
    "z_statistic"
   ]
  },
  {
   "cell_type": "markdown",
   "id": "755072ef",
   "metadata": {},
   "source": [
    "since z statistic greater than critical value we reject the null hypothesis"
   ]
  },
  {
   "cell_type": "markdown",
   "id": "2f069615",
   "metadata": {},
   "source": [
    "**Example 2:** A fitness program claims that participants take an average of 100 minutes to complete a specific workout. A sample of 50 participants has an average time of 102 minutes with a standard deviation of 5 minutes. Test if the average workout time differs from the claimed value."
   ]
  },
  {
   "cell_type": "markdown",
   "id": "2f3093dc",
   "metadata": {},
   "source": [
    "Testing the null hypothesis \n",
    "\n",
    ">$H_0:\\mu=100$\n",
    "\n",
    "against the alternate hypothesis\n",
    "\n",
    ">$H_1:\\mu\\neq100$"
   ]
  },
  {
   "cell_type": "code",
   "execution_count": 23,
   "id": "e401b5aa",
   "metadata": {},
   "outputs": [
    {
     "data": {
      "text/plain": [
       "0.004677734981047177"
      ]
     },
     "execution_count": 23,
     "metadata": {},
     "output_type": "execute_result"
    }
   ],
   "source": [
    "#finding hypothesis using p value\n",
    "#parameters\n",
    "sample_mean = 102\n",
    "population_mean = 100\n",
    "sample_std = 5\n",
    "n = 50\n",
    "alpha = 0.01\n",
    "\n",
    "#calculating z-statistic\n",
    "test_stat=(sample_mean-population_mean)/(sample_std/np.sqrt(n))\n",
    "test_stat\n",
    "\n",
    "#calculating p value\n",
    "p_value=2*(1-stats.norm.cdf(test_stat))\n",
    "p_value\n"
   ]
  },
  {
   "cell_type": "markdown",
   "id": "94242d34",
   "metadata": {},
   "source": [
    "since the p value is less than alpha we reject the null hypothesis"
   ]
  },
  {
   "cell_type": "code",
   "execution_count": 24,
   "id": "c8d3b571",
   "metadata": {},
   "outputs": [
    {
     "data": {
      "text/plain": [
       "2.5758293035489004"
      ]
     },
     "execution_count": 24,
     "metadata": {},
     "output_type": "execute_result"
    }
   ],
   "source": [
    "#finding the hypothesis using critical value\n",
    "critical_value=stats.norm.ppf(1-alpha/2)\n",
    "critical_value"
   ]
  },
  {
   "cell_type": "code",
   "execution_count": 25,
   "id": "445ebfc5",
   "metadata": {},
   "outputs": [
    {
     "data": {
      "text/plain": [
       "2.8284271247461903"
      ]
     },
     "execution_count": 25,
     "metadata": {},
     "output_type": "execute_result"
    }
   ],
   "source": [
    "test_stat"
   ]
  },
  {
   "cell_type": "markdown",
   "id": "1b76b784",
   "metadata": {},
   "source": [
    "since test stat is greater than critical value we to reject the null hypothesis"
   ]
  },
  {
   "cell_type": "markdown",
   "id": "3f2ddccb",
   "metadata": {},
   "source": [
    "**Example 3:** A company claims that its customer satisfaction score averages at 7. A survey of 25 customers finds a mean score of 7.8 with a standard deviation of 1.5. Test if customer satisfaction is statistically different from the claimed score."
   ]
  },
  {
   "cell_type": "markdown",
   "id": "45e04af5",
   "metadata": {},
   "source": [
    "Testing the null hypothesis\n",
    "\n",
    ">$H_0:\\mu=7$\n",
    "\n",
    "against the alternate hypothesis\n",
    "\n",
    ">$H_1:\\mu\\neq7$"
   ]
  },
  {
   "cell_type": "code",
   "execution_count": 20,
   "id": "78d23a77",
   "metadata": {},
   "outputs": [],
   "source": [
    "# Parameters\n",
    "sample_mean = 7.8\n",
    "population_mean = 7\n",
    "sample_std = 1.5\n",
    "n = 25\n",
    "alpha = 0.10\n"
   ]
  },
  {
   "cell_type": "code",
   "execution_count": 39,
   "id": "4aea914c",
   "metadata": {},
   "outputs": [
    {
     "data": {
      "text/plain": [
       "0.004677734981047177"
      ]
     },
     "execution_count": 39,
     "metadata": {},
     "output_type": "execute_result"
    }
   ],
   "source": [
    "#performing hypothesis using p value\n",
    "z_statistic = (sample_mean - population_mean) / (sample_std / np.sqrt(n))\n",
    "p_value = 2 * (1 - stats.norm.cdf(abs(z_statistic)))\n",
    "p_value"
   ]
  },
  {
   "cell_type": "markdown",
   "id": "82793ab0",
   "metadata": {},
   "source": [
    "since p value is less than alpha we reject the null hypothesis"
   ]
  },
  {
   "cell_type": "code",
   "execution_count": 40,
   "id": "68cce66d",
   "metadata": {},
   "outputs": [
    {
     "data": {
      "text/plain": [
       "2.5758293035489004"
      ]
     },
     "execution_count": 40,
     "metadata": {},
     "output_type": "execute_result"
    }
   ],
   "source": [
    "#finding the hypothesis using critical value\n",
    "critical_value=stats.norm.ppf(1-alpha/2)\n",
    "critical_value"
   ]
  },
  {
   "cell_type": "code",
   "execution_count": 41,
   "id": "7a80c971",
   "metadata": {},
   "outputs": [
    {
     "data": {
      "text/plain": [
       "-0.9656854249492379"
      ]
     },
     "execution_count": 41,
     "metadata": {},
     "output_type": "execute_result"
    }
   ],
   "source": [
    "test_stat"
   ]
  },
  {
   "cell_type": "markdown",
   "id": "2eedb6ec",
   "metadata": {},
   "source": [
    "since test statistic is less than critical value we reject the null hypothesis"
   ]
  },
  {
   "cell_type": "markdown",
   "id": "6ae83a3b",
   "metadata": {},
   "source": [
    "**Example 4:** A fitness tracker company claims that users in a specific program take an average of 10,000 steps per day. To verify this, a random sample of 40 users shows a mean daily step count of 10,200 steps with a standard deviation of 800 steps. Test if there is a significant difference from the claimed average."
   ]
  },
  {
   "cell_type": "markdown",
   "id": "80313231",
   "metadata": {},
   "source": [
    "Testing the null hypothesis \n",
    "\n",
    ">$H_0:\\mu=10000$\n",
    "\n",
    "against the alternate hypothesis\n",
    "\n",
    ">$H_1:\\mu\\neq10000$"
   ]
  },
  {
   "cell_type": "code",
   "execution_count": 48,
   "id": "1786a056",
   "metadata": {},
   "outputs": [
    {
     "data": {
      "text/plain": [
       "0.03952847075210474"
      ]
     },
     "execution_count": 48,
     "metadata": {},
     "output_type": "execute_result"
    }
   ],
   "source": [
    "# Parameters\n",
    "sample_mean = 10200\n",
    "population_mean = 10000\n",
    "sample_std = 800\n",
    "n = 40\n",
    "alpha = 0.05\n",
    "#performing the hypothesis using p value\n",
    "z_statistic = (sample_mean - population_mean) / (sample_std / np.sqrt(n))\n",
    "z_stat"
   ]
  },
  {
   "cell_type": "code",
   "execution_count": 49,
   "id": "12d4c251",
   "metadata": {},
   "outputs": [
    {
     "data": {
      "text/plain": [
       "0.11384629800665813"
      ]
     },
     "execution_count": 49,
     "metadata": {},
     "output_type": "execute_result"
    }
   ],
   "source": [
    "p_value = 2 * (1 - stats.norm.cdf(abs(z_statistic)))\n",
    "p_value"
   ]
  },
  {
   "cell_type": "markdown",
   "id": "004e46dd",
   "metadata": {},
   "source": [
    "since p value is less than alpha we reject the null hypothesis"
   ]
  },
  {
   "cell_type": "code",
   "execution_count": 53,
   "id": "5a417310",
   "metadata": {},
   "outputs": [
    {
     "data": {
      "text/plain": [
       "1.959963984540054"
      ]
     },
     "execution_count": 53,
     "metadata": {},
     "output_type": "execute_result"
    }
   ],
   "source": [
    "#performing the hypothesis using critical value\n",
    "critical_value = stats.norm.ppf(1 - alpha / 2)\n",
    "critical_value"
   ]
  },
  {
   "cell_type": "markdown",
   "id": "8b9f7049",
   "metadata": {},
   "source": [
    "**Example 5:** A study claims that college students sleep an average of 7 hours per night. A survey of 36 students finds a mean sleep duration of 6.8 hours with a standard deviation of 0.6 hours. Test if the average sleep duration is significantly different from the claimed value."
   ]
  },
  {
   "cell_type": "markdown",
   "id": "5eb4a190",
   "metadata": {},
   "source": [
    "Testing the null hypothesis \n",
    "\n",
    ">$H_0:\\mu=7$\n",
    "\n",
    "against the alternate hypothesis\n",
    "\n",
    ">$H_1:\\mu\\neq7$"
   ]
  },
  {
   "cell_type": "code",
   "execution_count": 56,
   "id": "4162b046",
   "metadata": {},
   "outputs": [
    {
     "data": {
      "text/plain": [
       "0.045500263896358195"
      ]
     },
     "execution_count": 56,
     "metadata": {},
     "output_type": "execute_result"
    }
   ],
   "source": [
    "# Parameters\n",
    "sample_mean = 6.8\n",
    "population_mean = 7\n",
    "sample_std = 0.6\n",
    "n = 36\n",
    "alpha = 0.05\n",
    "#finding the hypothesis using p value\n",
    "z_stat=(sample_mean-population_mean)/(sample_std/np.sqrt(n))\n",
    "z_stat\n",
    "#p_value\n",
    "p_value=2*(1-stats.norm.cdf(abs(z_stat)))\n",
    "p_value"
   ]
  },
  {
   "cell_type": "markdown",
   "id": "b8fa2756",
   "metadata": {},
   "source": [
    "since the p value is less than alpha we reject the null hypothesis"
   ]
  },
  {
   "cell_type": "code",
   "execution_count": 58,
   "id": "2f9de406",
   "metadata": {},
   "outputs": [
    {
     "data": {
      "text/plain": [
       "1.959963984540054"
      ]
     },
     "execution_count": 58,
     "metadata": {},
     "output_type": "execute_result"
    }
   ],
   "source": [
    "#finding the hypothesis using critical value\n",
    "critical_value=stats.norm.ppf(1-alpha/2)\n",
    "critical_value"
   ]
  },
  {
   "cell_type": "code",
   "execution_count": 59,
   "id": "2e0fe2e3",
   "metadata": {},
   "outputs": [
    {
     "data": {
      "text/plain": [
       "-2.0000000000000018"
      ]
     },
     "execution_count": 59,
     "metadata": {},
     "output_type": "execute_result"
    }
   ],
   "source": [
    "z_stat"
   ]
  },
  {
   "cell_type": "markdown",
   "id": "c3e70104",
   "metadata": {},
   "source": [
    "since the abs(z stat) is greater tha critical value we reject the null hypothesis"
   ]
  },
  {
   "cell_type": "markdown",
   "id": "40f61a38",
   "metadata": {},
   "source": [
    " **Example 6:** A school claims that its students have an average exam score of 75. A random sample of 30 students has an average score of 73 with a standard deviation of 10. Test if the average score is less than 75."
   ]
  },
  {
   "cell_type": "markdown",
   "id": "a8077af6",
   "metadata": {},
   "source": [
    "Testing the Null hypothesis\n",
    "\n",
    ">$H_0:\\mu=75$\n",
    "\n",
    "against the alternate hypothesis\n",
    "\n",
    ">$H_1:\\mu<75$"
   ]
  },
  {
   "cell_type": "code",
   "execution_count": 61,
   "id": "622b6735",
   "metadata": {},
   "outputs": [
    {
     "data": {
      "text/plain": [
       "0.5145640758746927"
      ]
     },
     "execution_count": 61,
     "metadata": {},
     "output_type": "execute_result"
    }
   ],
   "source": [
    "#finding hypothesis using p value\n",
    "# Parameters\n",
    "sample_mean = 73\n",
    "population_mean = 75\n",
    "sample_std = 10\n",
    "n = 30\n",
    "alpha = 0.05\n",
    "#calculating z statistic\n",
    "z_stat=(sample_mean-population_mean)/(sample_std)/np.sqrt(n)\n",
    "z_stat\n",
    "#p_value\n",
    "p_value=stats.norm.cdf(abs(z_stat))\n",
    "p_value"
   ]
  },
  {
   "cell_type": "markdown",
   "id": "b4c0ae00",
   "metadata": {},
   "source": [
    "since p value is greater than alpha we fail to reject the null hypothesis"
   ]
  },
  {
   "cell_type": "code",
   "execution_count": 62,
   "id": "f7a74e2f",
   "metadata": {},
   "outputs": [
    {
     "data": {
      "text/plain": [
       "-1.6448536269514729"
      ]
     },
     "execution_count": 62,
     "metadata": {},
     "output_type": "execute_result"
    }
   ],
   "source": [
    "#finding hypothesis using critical value\n",
    "critical_value=stats.norm.ppf(alpha)\n",
    "critical_value"
   ]
  },
  {
   "cell_type": "code",
   "execution_count": 63,
   "id": "64647aed",
   "metadata": {},
   "outputs": [
    {
     "data": {
      "text/plain": [
       "-0.03651483716701107"
      ]
     },
     "execution_count": 63,
     "metadata": {},
     "output_type": "execute_result"
    }
   ],
   "source": [
    "z_stat"
   ]
  },
  {
   "cell_type": "markdown",
   "id": "667d0ca5",
   "metadata": {},
   "source": [
    "since z stat is less than critical value we fail to reject the null hypothesis"
   ]
  },
  {
   "cell_type": "markdown",
   "id": "22582b43",
   "metadata": {},
   "source": [
    "**Example 7:** A meteorological department claims that the average temperature in a city is 70°F in the summer. A sample of 25 days shows an average temperature of 68°F with a standard deviation of 4°F. Test if the average temperature is less than 70°F."
   ]
  },
  {
   "cell_type": "markdown",
   "id": "45da74d6",
   "metadata": {},
   "source": [
    "Testing the null hypothesis\n",
    "\n",
    ">$H_0:\\mu=70$\n",
    "\n",
    "against the alternate hypothesis\n",
    "\n",
    ">$H_1:\\mu<70$"
   ]
  },
  {
   "cell_type": "code",
   "execution_count": 65,
   "id": "a55851bb",
   "metadata": {},
   "outputs": [
    {
     "data": {
      "text/plain": [
       "0.9937903346742238"
      ]
     },
     "execution_count": 65,
     "metadata": {},
     "output_type": "execute_result"
    }
   ],
   "source": [
    "# Parameters\n",
    "sample_mean = 68\n",
    "population_mean = 70\n",
    "sample_std = 4\n",
    "n = 25\n",
    "alpha = 0.05\n",
    "\n",
    "#calculating hypothesis using p value\n",
    "z_stat=(sample_mean-population_mean)/(sample_std/np.sqrt(n))\n",
    "z_stat\n",
    "#p-value\n",
    "p_value=stats.norm.cdf(abs(z_stat))\n",
    "p_value"
   ]
  },
  {
   "cell_type": "markdown",
   "id": "a8ead7d8",
   "metadata": {},
   "source": [
    "since p value is greater than alpha we fail to reject the null hypothesis\n"
   ]
  },
  {
   "cell_type": "code",
   "execution_count": 67,
   "id": "3f274434",
   "metadata": {},
   "outputs": [
    {
     "data": {
      "text/plain": [
       "-1.6448536269514729"
      ]
     },
     "execution_count": 67,
     "metadata": {},
     "output_type": "execute_result"
    }
   ],
   "source": [
    "#calculating hypothesis using critical value\n",
    "critical_value=stats.norm.ppf(alpha)\n",
    "critical_value\n"
   ]
  },
  {
   "cell_type": "code",
   "execution_count": 68,
   "id": "c9ccc129",
   "metadata": {},
   "outputs": [
    {
     "data": {
      "text/plain": [
       "-2.5"
      ]
     },
     "execution_count": 68,
     "metadata": {},
     "output_type": "execute_result"
    }
   ],
   "source": [
    "z_stat"
   ]
  },
  {
   "cell_type": "markdown",
   "id": "4cfa4a3f",
   "metadata": {},
   "source": [
    "Since z_stat is greater than critical value we fail to reject the null hypothesis"
   ]
  },
  {
   "cell_type": "markdown",
   "id": "6d0848a6",
   "metadata": {},
   "source": [
    "**Example 9:** A small business owner claims that the average monthly sales of their product are 8,000. A sample of 25 months shows an average monthly sales figure of 8,100 with a standard deviation of 500. Test if the average monthly sales are greater than 8,000."
   ]
  },
  {
   "cell_type": "markdown",
   "id": "9eac6da7",
   "metadata": {},
   "source": [
    "Testing the null hypothesis\n",
    "\n",
    ">$H_0:\\mu=8,000$\n",
    "\n",
    "against the alternate hypothesis\n",
    "\n",
    ">$H_1:\\mu>80000$"
   ]
  },
  {
   "cell_type": "code",
   "execution_count": 71,
   "id": "d4739c47",
   "metadata": {},
   "outputs": [
    {
     "data": {
      "text/plain": [
       "0.15865525393145707"
      ]
     },
     "execution_count": 71,
     "metadata": {},
     "output_type": "execute_result"
    }
   ],
   "source": [
    "#calculating hypothesis using p value\n",
    "# Parameters\n",
    "sample_mean = 8100\n",
    "population_mean = 8000\n",
    "sample_std = 500\n",
    "n = 25\n",
    "alpha = 0.05\n",
    "# Z-statistic calculation\n",
    "z_statistic = (sample_mean - population_mean) / (sample_std / np.sqrt(n))\n",
    "#p-value\n",
    "p_value = 1 - stats.norm.cdf(z_statistic)\n",
    "p_value"
   ]
  },
  {
   "cell_type": "markdown",
   "id": "5dc63d6c",
   "metadata": {},
   "source": [
    "since p value is greater than alpha we fail to reject the null hypothesis"
   ]
  },
  {
   "cell_type": "code",
   "execution_count": 72,
   "id": "1f0bcc0a",
   "metadata": {},
   "outputs": [
    {
     "data": {
      "text/plain": [
       "1.6448536269514722"
      ]
     },
     "execution_count": 72,
     "metadata": {},
     "output_type": "execute_result"
    }
   ],
   "source": [
    "#calculating hypothesis using critical value\n",
    "critical_value = stats.norm.ppf(1 - alpha)\n",
    "critical_value"
   ]
  },
  {
   "cell_type": "code",
   "execution_count": 73,
   "id": "d5275ea3",
   "metadata": {},
   "outputs": [
    {
     "data": {
      "text/plain": [
       "-2.5"
      ]
     },
     "execution_count": 73,
     "metadata": {},
     "output_type": "execute_result"
    }
   ],
   "source": [
    "z_stat"
   ]
  },
  {
   "cell_type": "markdown",
   "id": "65f9f4f2",
   "metadata": {},
   "source": [
    "since z_stat is less than critical value we fail to reject the null hypothesis"
   ]
  },
  {
   "cell_type": "markdown",
   "id": "5944f281",
   "metadata": {},
   "source": [
    "**Example 10:** A teacher claims that the average score of students in her class on a standardized test is 75. A sample of 30 students has an average score of 76 with a standard deviation of 4. Test if the average score is greater than 75."
   ]
  },
  {
   "cell_type": "markdown",
   "id": "7faa40f4",
   "metadata": {},
   "source": [
    "Testing the null hypothesis \n",
    "\n",
    ">$H_0:\\mu=75$\n",
    "\n",
    "against the alternate hypothesis\n",
    "\n",
    ">$H_1:\\mu>75$"
   ]
  },
  {
   "cell_type": "code",
   "execution_count": 76,
   "id": "442fcc57",
   "metadata": {},
   "outputs": [
    {
     "data": {
      "text/plain": [
       "0.08545176011539879"
      ]
     },
     "execution_count": 76,
     "metadata": {},
     "output_type": "execute_result"
    }
   ],
   "source": [
    "#calculating hypothesis using p value\n",
    "# Parameters\n",
    "sample_mean = 76\n",
    "population_mean = 75\n",
    "sample_std = 4\n",
    "n = 30\n",
    "alpha = 0.05\n",
    "# Z-statistic calculation\n",
    "z_statistic = (sample_mean - population_mean) / (sample_std / np.sqrt(n))\n",
    "#p_value\n",
    "p_value = 1 - stats.norm.cdf(z_statistic)\n",
    "p_value\n"
   ]
  },
  {
   "cell_type": "markdown",
   "id": "a6c30cbe",
   "metadata": {},
   "source": [
    "since p value is greater than alpha we fail to reject the null hypothesis"
   ]
  },
  {
   "cell_type": "code",
   "execution_count": 77,
   "id": "6033206d",
   "metadata": {},
   "outputs": [
    {
     "data": {
      "text/plain": [
       "1.6448536269514722"
      ]
     },
     "execution_count": 77,
     "metadata": {},
     "output_type": "execute_result"
    }
   ],
   "source": [
    "#calculating hypothesis using critical value\n",
    "critical_value = stats.norm.ppf(1 - alpha)\n",
    "critical_value\n"
   ]
  },
  {
   "cell_type": "code",
   "execution_count": 78,
   "id": "d0ae5188",
   "metadata": {},
   "outputs": [
    {
     "data": {
      "text/plain": [
       "1.3693063937629153"
      ]
     },
     "execution_count": 78,
     "metadata": {},
     "output_type": "execute_result"
    }
   ],
   "source": [
    "z_statistic"
   ]
  },
  {
   "cell_type": "markdown",
   "id": "53cf00b5",
   "metadata": {},
   "source": [
    "since z_statistic is less than critical value we fail to reject the null hypothesis"
   ]
  },
  {
   "cell_type": "code",
   "execution_count": null,
   "id": "89350675",
   "metadata": {},
   "outputs": [],
   "source": []
  }
 ],
 "metadata": {
  "kernelspec": {
   "display_name": "Python 3 (ipykernel)",
   "language": "python",
   "name": "python3"
  },
  "language_info": {
   "codemirror_mode": {
    "name": "ipython",
    "version": 3
   },
   "file_extension": ".py",
   "mimetype": "text/x-python",
   "name": "python",
   "nbconvert_exporter": "python",
   "pygments_lexer": "ipython3",
   "version": "3.11.5"
  }
 },
 "nbformat": 4,
 "nbformat_minor": 5
}
