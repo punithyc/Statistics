{
 "cells": [
  {
   "cell_type": "code",
   "execution_count": 1,
   "id": "4ded0e6e",
   "metadata": {},
   "outputs": [],
   "source": [
    "import numpy as np\n",
    "import pandas as pd\n",
    "import matplotlib.pyplot as plt\n",
    "import seaborn as sns\n",
    "import plotly.express as px\n",
    "import scipy.stats as stats\n",
    "%matplotlib inline"
   ]
  },
  {
   "cell_type": "markdown",
   "id": "375d0617",
   "metadata": {},
   "source": [
    "### One proportion Z-test\n",
    "\n",
    "**Assumptions:**\n",
    "* The sample data must be randomly selected from the population\n",
    "*  For the Z-test to be valid, both $np_0$ and $n(1-p_0)$ should be at least 5, ensuring the sampling distribution of the sample proportion approximates normality.\n",
    "* Observations in the sample should be independent."
   ]
  },
  {
   "cell_type": "markdown",
   "id": "5d1acb63",
   "metadata": {},
   "source": [
    "**Example 1:** A candidate’s campaign team wants to verify if more than 55% of a sample of 500 voters support their candidate. In the sample, 280 voters support the candidate.\n",
    "\n",
    "* Sample size $(n)$ = 500\n",
    "* Observed successes $(x)$ = 280 \n",
    "* Hypothesized proportion $(p_0)$ = 0.55\n",
    "\n",
    "**Assumptions:**\n",
    "* $np_0$=500X0.55=275\n",
    "* $n(1-p_0)$=500X0.45=225"
   ]
  },
  {
   "cell_type": "markdown",
   "id": "4bebb8e8",
   "metadata": {},
   "source": [
    "Testing the null hypothesis \n",
    "\n",
    ">$H_0:p=0.55$\n",
    "\n",
    "against the alternate hypothesis\n",
    "\n",
    ">$H_1=p>0.55$"
   ]
  },
  {
   "cell_type": "code",
   "execution_count": 2,
   "id": "4a19e3fd",
   "metadata": {},
   "outputs": [
    {
     "data": {
      "text/plain": [
       "0.32618624782631384"
      ]
     },
     "execution_count": 2,
     "metadata": {},
     "output_type": "execute_result"
    }
   ],
   "source": [
    "# Data\n",
    "n = 500\n",
    "x = 280\n",
    "p0 = 0.55\n",
    "# Z-test calculation\n",
    "from statsmodels.stats.proportion import proportions_ztest\n",
    "z_stat, p_value = proportions_ztest(count=x, nobs=n, value=p0, alternative='larger')\n",
    "p_value"
   ]
  },
  {
   "cell_type": "markdown",
   "id": "8e09352f",
   "metadata": {},
   "source": [
    "since p value is greater than alpha we fail to reject the null hypothesis"
   ]
  },
  {
   "cell_type": "code",
   "execution_count": 3,
   "id": "0be83764",
   "metadata": {},
   "outputs": [
    {
     "data": {
      "text/plain": [
       "1.6448536269514722"
      ]
     },
     "execution_count": 3,
     "metadata": {},
     "output_type": "execute_result"
    }
   ],
   "source": [
    "#testing the hypothesis using critical value\n",
    "alpha = 0.05\n",
    "critical_value = stats.norm.ppf(1 - alpha)\n",
    "critical_value"
   ]
  },
  {
   "cell_type": "code",
   "execution_count": 4,
   "id": "362fa85f",
   "metadata": {},
   "outputs": [
    {
     "data": {
      "text/plain": [
       "0.4504687313477799"
      ]
     },
     "execution_count": 4,
     "metadata": {},
     "output_type": "execute_result"
    }
   ],
   "source": [
    "z_stat"
   ]
  },
  {
   "cell_type": "markdown",
   "id": "a8e20bf5",
   "metadata": {},
   "source": [
    "since z-stat is less than the critical value we fail to reject the null hypothesis"
   ]
  },
  {
   "cell_type": "markdown",
   "id": "4ffd2dcd",
   "metadata": {},
   "source": [
    "**Example 2:** A company claims its defect rate is 2%. A quality control manager wants to test if the defect rate is less than 2% based on a sample of 1,000 units, where 15 defects were found.\n",
    "\n",
    "* Sample size $(n)$ = 1,000\n",
    "* Observed successes $(x)$ = 15\n",
    "* Hypothesized proportion $(p_0)$ = 0.02\n",
    "\n",
    "**Assumptions**\n",
    "* $np_0$=1000X0.02=20\n",
    "* $n(1-p_0)$=1000X0.98=980\n",
    "\n",
    "since both are greater than 5 it satisfies the assumptions"
   ]
  },
  {
   "cell_type": "markdown",
   "id": "a7bb0222",
   "metadata": {},
   "source": [
    "Testing the null hypothesis\n",
    "\n",
    ">$H_0:p=0.02$\n",
    "\n",
    "against the alternate hypothesis\n",
    "\n",
    ">$H_1:p<0.02$"
   ]
  },
  {
   "cell_type": "code",
   "execution_count": 5,
   "id": "de96e335",
   "metadata": {},
   "outputs": [
    {
     "data": {
      "text/plain": [
       "0.09666564976962666"
      ]
     },
     "execution_count": 5,
     "metadata": {},
     "output_type": "execute_result"
    }
   ],
   "source": [
    "# Data\n",
    "n = 1000\n",
    "x = 15\n",
    "p0 = 0.02\n",
    "#z-test\n",
    "z_stat,p_value=proportions_ztest(count=x,nobs=n,value=p0,alternative='smaller')\n",
    "p_value"
   ]
  },
  {
   "cell_type": "markdown",
   "id": "67740a7b",
   "metadata": {},
   "source": [
    "since p value is greater than alpha we fail to reject the null hypothesis"
   ]
  },
  {
   "cell_type": "code",
   "execution_count": 6,
   "id": "d9f1ce82",
   "metadata": {},
   "outputs": [
    {
     "data": {
      "text/plain": [
       "-1.6448536269514729"
      ]
     },
     "execution_count": 6,
     "metadata": {},
     "output_type": "execute_result"
    }
   ],
   "source": [
    "#testing the hypothesis using critical value\n",
    "alpha=0.05\n",
    "critical_value=stats.norm.ppf(alpha)\n",
    "critical_value"
   ]
  },
  {
   "cell_type": "code",
   "execution_count": 7,
   "id": "96c7e3f2",
   "metadata": {},
   "outputs": [
    {
     "data": {
      "text/plain": [
       "-1.3007872144692096"
      ]
     },
     "execution_count": 7,
     "metadata": {},
     "output_type": "execute_result"
    }
   ],
   "source": [
    "z_stat"
   ]
  },
  {
   "cell_type": "markdown",
   "id": "23cc2bb2",
   "metadata": {},
   "source": [
    "since the z_stat is less than the critical value we fail to reject the null hypothesis"
   ]
  },
  {
   "cell_type": "markdown",
   "id": "949974f3",
   "metadata": {},
   "source": [
    "**Example 3:**  A service center claims that at least 80% of their customers are satisfied. Out of 250 surveyed customers, 190 indicated satisfaction.\n",
    "\n",
    "* Sample size $(n)$ = 250\n",
    "* Observed successes $(x)$ = 190\n",
    "* Hypothesized proportion $(p_0)$ = 0.80\n",
    "\n",
    "**Assumptions**\n",
    "* $np_0$=250X0.80=200\n",
    "* $n(1-p_0)$=250X0.20=50\n",
    "\n",
    "since both are greater than 5 it satisfies all the assumptions"
   ]
  },
  {
   "cell_type": "markdown",
   "id": "8f17ff9b",
   "metadata": {},
   "source": [
    "Testing the null hypothesis\n",
    "\n",
    ">$H_0:p=0.80$\n",
    "\n",
    "against the alternate hypothesis\n",
    "\n",
    ">$H_1:p<0.80$"
   ]
  },
  {
   "cell_type": "code",
   "execution_count": 8,
   "id": "865c04c3",
   "metadata": {},
   "outputs": [
    {
     "data": {
      "text/plain": [
       "0.0693203169066091"
      ]
     },
     "execution_count": 8,
     "metadata": {},
     "output_type": "execute_result"
    }
   ],
   "source": [
    "# Data\n",
    "n = 250\n",
    "x = 190\n",
    "p0 = 0.80\n",
    "#z-test\n",
    "z_stat,p_value=proportions_ztest(count=x,nobs=n,value=p0,alternative='smaller')\n",
    "p_value"
   ]
  },
  {
   "cell_type": "markdown",
   "id": "b33aa5dc",
   "metadata": {},
   "source": [
    "since p value is greater than alpha we fail to reject the null hypothesis"
   ]
  },
  {
   "cell_type": "code",
   "execution_count": 9,
   "id": "c29fdbc7",
   "metadata": {},
   "outputs": [
    {
     "data": {
      "text/plain": [
       "-1.6448536269514729"
      ]
     },
     "execution_count": 9,
     "metadata": {},
     "output_type": "execute_result"
    }
   ],
   "source": [
    "#hypothesis using critical value\n",
    "alpha=0.05\n",
    "critical_value=stats.norm.ppf(alpha)\n",
    "critical_value"
   ]
  },
  {
   "cell_type": "code",
   "execution_count": 10,
   "id": "3a055ac4",
   "metadata": {},
   "outputs": [
    {
     "data": {
      "text/plain": [
       "-1.480872194397732"
      ]
     },
     "execution_count": 10,
     "metadata": {},
     "output_type": "execute_result"
    }
   ],
   "source": [
    "z_stat"
   ]
  },
  {
   "cell_type": "markdown",
   "id": "2cd9b145",
   "metadata": {},
   "source": [
    "since z stat is less than critical value we fail to reject the null hypothesis"
   ]
  },
  {
   "cell_type": "markdown",
   "id": "fb8ccdf4",
   "metadata": {},
   "source": [
    "**Example 4:** A marketing team believes that their online ad campaign has a conversion rate of at least 5%. Out of 600 users who viewed the ad, 25 made a purchase.\n",
    "\n",
    "* Sample size $(n)$ = 600\n",
    "* Observed successes $(x)$ = 25\n",
    "* Hypothesized proportion $(p_0)$ = 0.05\n",
    "\n",
    "**Assumptions**\n",
    "* $np_0$=600X0.05=30\n",
    "* $n(1-p_0)$=600X0.95=570\n",
    "\n",
    "since both are greater than 5 it satisfies all the assumptions"
   ]
  },
  {
   "cell_type": "markdown",
   "id": "6f1451e2",
   "metadata": {},
   "source": [
    "Testing the null hypothesis\n",
    "\n",
    ">$H_0:p=0.05$\n",
    "\n",
    "against the alternate hypothesis\n",
    "\n",
    ">$H_1:p<0.05$"
   ]
  },
  {
   "cell_type": "code",
   "execution_count": 11,
   "id": "3d8b1b06",
   "metadata": {},
   "outputs": [
    {
     "data": {
      "text/plain": [
       "0.15350694901691242"
      ]
     },
     "execution_count": 11,
     "metadata": {},
     "output_type": "execute_result"
    }
   ],
   "source": [
    "# Data\n",
    "n = 600\n",
    "x = 25\n",
    "p0 = 0.05\n",
    "\n",
    "#z_stat\n",
    "z_stat,p_value=proportions_ztest(count=x,nobs=n,value=p0,alternative='smaller')\n",
    "p_value"
   ]
  },
  {
   "cell_type": "markdown",
   "id": "941a03f2",
   "metadata": {},
   "source": [
    "since p value is greater than alpha we fail to reject the null hypothesis"
   ]
  },
  {
   "cell_type": "code",
   "execution_count": 12,
   "id": "02d9b11a",
   "metadata": {},
   "outputs": [
    {
     "data": {
      "text/plain": [
       "-1.6448536269514729"
      ]
     },
     "execution_count": 12,
     "metadata": {},
     "output_type": "execute_result"
    }
   ],
   "source": [
    "#testing the hypothesis using critical value\n",
    "alpha=0.05\n",
    "critical_value=stats.norm.ppf(alpha)\n",
    "critical_value"
   ]
  },
  {
   "cell_type": "code",
   "execution_count": 13,
   "id": "78606959",
   "metadata": {},
   "outputs": [
    {
     "data": {
      "text/plain": [
       "-1.0215078369104988"
      ]
     },
     "execution_count": 13,
     "metadata": {},
     "output_type": "execute_result"
    }
   ],
   "source": [
    "z_stat"
   ]
  },
  {
   "cell_type": "markdown",
   "id": "8cd80b98",
   "metadata": {},
   "source": [
    "since z_stat is less than critical value we fail to reject the null hypothesis"
   ]
  },
  {
   "cell_type": "markdown",
   "id": "b38cfeba",
   "metadata": {},
   "source": [
    "**Example 5:** A health organization claims that at least 70% of a region’s population is vaccinated. Out of a sample of 1,200 individuals, 820 were vaccinated.\n",
    "\n",
    "* Sample size $(n)$ = 1200\n",
    "* Observed successes $(x)$ = 820\n",
    "* Hypothesized proportion $(p_0)$ = 0.70\n",
    "\n",
    "**Assumptions**\n",
    "* $np_0$=1200X0.70=840\n",
    "* $n(1-p_0)$=1200X0.30=360\n",
    "\n",
    "since both are greater than 5 it satisfies all the assumptions"
   ]
  },
  {
   "cell_type": "markdown",
   "id": "bc586818",
   "metadata": {},
   "source": [
    "Testing the null hypothesis \n",
    "\n",
    ">$H_0:p=0.70$\n",
    "\n",
    "against the alternate hypothesis\n",
    "\n",
    ">$H_1:p<0.70$"
   ]
  },
  {
   "cell_type": "code",
   "execution_count": 14,
   "id": "712a7a52",
   "metadata": {},
   "outputs": [
    {
     "data": {
      "text/plain": [
       "0.10727642555328526"
      ]
     },
     "execution_count": 14,
     "metadata": {},
     "output_type": "execute_result"
    }
   ],
   "source": [
    "# Data\n",
    "n = 1200\n",
    "x = 820\n",
    "p0 = 0.70\n",
    "\n",
    "# Z-test calculation\n",
    "z_stat,p_value=proportions_ztest(count=x,nobs=n,value=p0,alternative='smaller')\n",
    "p_value"
   ]
  },
  {
   "cell_type": "markdown",
   "id": "f1666274",
   "metadata": {},
   "source": [
    "since p value is greater than alpha we fail to reject the null hypothesis"
   ]
  },
  {
   "cell_type": "code",
   "execution_count": 15,
   "id": "3352bb21",
   "metadata": {},
   "outputs": [
    {
     "data": {
      "text/plain": [
       "-1.6448536269514729"
      ]
     },
     "execution_count": 15,
     "metadata": {},
     "output_type": "execute_result"
    }
   ],
   "source": [
    "#testing hypothesis using critical value\n",
    "alpha=0.05\n",
    "critical_value=stats.norm.ppf(alpha)\n",
    "critical_value"
   ]
  },
  {
   "cell_type": "code",
   "execution_count": 16,
   "id": "e955758f",
   "metadata": {},
   "outputs": [
    {
     "data": {
      "text/plain": [
       "-1.2411432056761775"
      ]
     },
     "execution_count": 16,
     "metadata": {},
     "output_type": "execute_result"
    }
   ],
   "source": [
    "z_stat"
   ]
  },
  {
   "cell_type": "markdown",
   "id": "4df646f5",
   "metadata": {},
   "source": [
    "since z_stat is less than critical value we fail to reject the null hypothesis"
   ]
  },
  {
   "cell_type": "markdown",
   "id": "410e2b9a",
   "metadata": {},
   "source": [
    "**Example 6:** A bank manager wants to confirm that the loan approval rate is at least 40%. Out of 500 loan applications, 180 were approved.\n",
    "\n",
    "* Sample size $(n)$ = 500\n",
    "* Observed successes $(x)$ = 180\n",
    "* Hypothesized proportion $(p_0)$ = 0.40\n",
    "\n",
    "**Assumptions**\n",
    "* $np_0$=500X0.40=200\n",
    "* $n(1-p_0)$=500X0.60=300\n",
    "\n",
    "since both are greater than 5 it satisfies all the assumptions"
   ]
  },
  {
   "cell_type": "markdown",
   "id": "1c780d57",
   "metadata": {},
   "source": [
    "Testing the null hypothesis \n",
    "\n",
    ">$H_0:p=0.40$\n",
    "\n",
    "against the alternate hypothesis\n",
    "\n",
    ">$H_1:p<0.40$"
   ]
  },
  {
   "cell_type": "code",
   "execution_count": 17,
   "id": "524c7c1e",
   "metadata": {},
   "outputs": [
    {
     "data": {
      "text/plain": [
       "0.03120370928435278"
      ]
     },
     "execution_count": 17,
     "metadata": {},
     "output_type": "execute_result"
    }
   ],
   "source": [
    "# Data\n",
    "n = 500\n",
    "x = 180\n",
    "p0 = 0.40\n",
    "\n",
    "# Z-test calculation\n",
    "z_stat, p_value = proportions_ztest(count=x, nobs=n, value=p0, alternative='smaller')\n",
    "p_value"
   ]
  },
  {
   "cell_type": "markdown",
   "id": "49e27c2c",
   "metadata": {},
   "source": [
    "since p value is less than alpha we reject the null hypothesis"
   ]
  },
  {
   "cell_type": "code",
   "execution_count": 18,
   "id": "3914577b",
   "metadata": {},
   "outputs": [
    {
     "data": {
      "text/plain": [
       "-1.6448536269514729"
      ]
     },
     "execution_count": 18,
     "metadata": {},
     "output_type": "execute_result"
    }
   ],
   "source": [
    "#finding hypothesis using critical value\n",
    "alpha=0.05\n",
    "critical_value=stats.norm.ppf(alpha)\n",
    "critical_value"
   ]
  },
  {
   "cell_type": "code",
   "execution_count": 19,
   "id": "01f5c94e",
   "metadata": {},
   "outputs": [
    {
     "data": {
      "text/plain": [
       "-1.8633899812498265"
      ]
     },
     "execution_count": 19,
     "metadata": {},
     "output_type": "execute_result"
    }
   ],
   "source": [
    "z_stat"
   ]
  },
  {
   "cell_type": "markdown",
   "id": "740db3d3",
   "metadata": {},
   "source": [
    "since z_stat is greater than critical value we reject the null hypothesis"
   ]
  },
  {
   "cell_type": "markdown",
   "id": "2309f81f",
   "metadata": {},
   "source": [
    "**Example 7:** A car manufacturer claims that the defect rate in a specific model should not exceed 2%. Out of 1,000 cars inspected, 30 were found to be defective.\n",
    "\n",
    "* Sample size $(n)$ = 1000\n",
    "* Observed successes $(x)$ = 30\n",
    "* Hypothesized proportion $(p_0)$ = 0.02\n",
    "\n",
    "**Assumptions**\n",
    "* $np_0$=1000X0.02=20\n",
    "* $n(1-p_0)$=1000X0.98=980\n",
    "\n",
    "since both are greater than 5 it satisfies all the assumptions"
   ]
  },
  {
   "cell_type": "markdown",
   "id": "bd4f34c5",
   "metadata": {},
   "source": [
    "Testing the null hypothesis \n",
    "\n",
    ">$H_0:p=0.02$\n",
    "\n",
    "against the alternate hypothesis\n",
    "\n",
    ">$H_1:p>0.02$"
   ]
  },
  {
   "cell_type": "code",
   "execution_count": 20,
   "id": "70b3a6a2",
   "metadata": {},
   "outputs": [
    {
     "data": {
      "text/plain": [
       "0.0318867521351953"
      ]
     },
     "execution_count": 20,
     "metadata": {},
     "output_type": "execute_result"
    }
   ],
   "source": [
    "# Data\n",
    "n = 1000\n",
    "x = 30\n",
    "p0 = 0.02\n",
    "\n",
    "# Z-test calculation\n",
    "z_stat, p_value = proportions_ztest(count=x, nobs=n, value=p0, alternative='larger')\n",
    "p_value"
   ]
  },
  {
   "cell_type": "markdown",
   "id": "477b58be",
   "metadata": {},
   "source": [
    "since p value less than alpha we reject the null hypothesis"
   ]
  },
  {
   "cell_type": "code",
   "execution_count": 21,
   "id": "9ee8fe0d",
   "metadata": {},
   "outputs": [
    {
     "data": {
      "text/plain": [
       "1.6448536269514722"
      ]
     },
     "execution_count": 21,
     "metadata": {},
     "output_type": "execute_result"
    }
   ],
   "source": [
    "#finding hypothesis using critical value\n",
    "alpha=0.05\n",
    "critical_value=stats.norm.ppf(1-alpha)\n",
    "critical_value"
   ]
  },
  {
   "cell_type": "code",
   "execution_count": 22,
   "id": "eb14b840",
   "metadata": {},
   "outputs": [
    {
     "data": {
      "text/plain": [
       "1.8537599944001615"
      ]
     },
     "execution_count": 22,
     "metadata": {},
     "output_type": "execute_result"
    }
   ],
   "source": [
    "z_stat"
   ]
  },
  {
   "cell_type": "markdown",
   "id": "802b6a66",
   "metadata": {},
   "source": [
    "since z stat is greater than critical_value we reject the null hypothesis"
   ]
  },
  {
   "cell_type": "markdown",
   "id": "4b9a598a",
   "metadata": {},
   "source": [
    "**Example 8:** A company claims that at least 85% of its employees are satisfied with their job. In a survey of 400 employees, 320 indicated they were satisfied.\n",
    "\n",
    "* Sample size $(n)$ = 400\n",
    "* Observed successes $(x)$ = 320\n",
    "* Hypothesized proportion $(p_0)$ = 0.85\n",
    "\n",
    "**Assumptions**\n",
    "* $np_0$=400X0.85=340\n",
    "* $n(1-p_0)$=400X0.15=60\n",
    "\n",
    "since both are greater than 5 it satisfies all the assumptions"
   ]
  },
  {
   "cell_type": "markdown",
   "id": "ad4653c3",
   "metadata": {},
   "source": [
    "Testing the null hypothesis \n",
    "\n",
    ">$H_0:p=0.85$\n",
    "\n",
    "against the alternate hypothesis\n",
    "\n",
    ">$H_1:p<0.85$"
   ]
  },
  {
   "cell_type": "code",
   "execution_count": 23,
   "id": "aa60b08b",
   "metadata": {},
   "outputs": [
    {
     "data": {
      "text/plain": [
       "0.006209665325776195"
      ]
     },
     "execution_count": 23,
     "metadata": {},
     "output_type": "execute_result"
    }
   ],
   "source": [
    "# Data\n",
    "n = 400\n",
    "x = 320\n",
    "p0 = 0.85\n",
    "\n",
    "# Z-test calculation\n",
    "z_stat, p_value = proportions_ztest(count=x, nobs=n, value=p0, alternative='smaller')\n",
    "p_value"
   ]
  },
  {
   "cell_type": "markdown",
   "id": "eba484e2",
   "metadata": {},
   "source": [
    "since p value is less than alpha we reject the null hypothesis"
   ]
  },
  {
   "cell_type": "code",
   "execution_count": 24,
   "id": "c321581b",
   "metadata": {},
   "outputs": [
    {
     "data": {
      "text/plain": [
       "-1.6448536269514729"
      ]
     },
     "execution_count": 24,
     "metadata": {},
     "output_type": "execute_result"
    }
   ],
   "source": [
    "#hypothesis using critical value\n",
    "alpha=0.05\n",
    "critical_value=stats.norm.ppf(alpha)\n",
    "critical_value"
   ]
  },
  {
   "cell_type": "code",
   "execution_count": 25,
   "id": "b6313067",
   "metadata": {},
   "outputs": [
    {
     "data": {
      "text/plain": [
       "-2.4999999999999964"
      ]
     },
     "execution_count": 25,
     "metadata": {},
     "output_type": "execute_result"
    }
   ],
   "source": [
    "z_stat"
   ]
  },
  {
   "cell_type": "markdown",
   "id": "03e89ae0",
   "metadata": {},
   "source": [
    "since z_stat is greater than critical value we reject the null hypothesis"
   ]
  },
  {
   "cell_type": "markdown",
   "id": "a2b22246",
   "metadata": {},
   "source": [
    "**Example 9:** A candidate claims that at least 65% of voters support their platform. In a poll of 1,200 voters, 780 expressed support.\n",
    "\n",
    "\n",
    "* Sample size $(n)$ = 1200\n",
    "* Observed successes $(x)$ = 780\n",
    "* Hypothesized proportion $(p_0)$ = 0.65\n",
    "\n",
    "**Assumptions**\n",
    "* $np_0$=1200X0.65=780\n",
    "* $n(1-p_0)$=1200X0.35=420\n",
    "\n",
    "since both are greater than 5 it satisfies all the assumptions"
   ]
  },
  {
   "cell_type": "markdown",
   "id": "6967f426",
   "metadata": {},
   "source": [
    "Testing the null hypothesis \n",
    "\n",
    ">$H_0:p=0.65$\n",
    "\n",
    "against the alternate hypothesis\n",
    "\n",
    ">$H_1:p<0.65$"
   ]
  },
  {
   "cell_type": "code",
   "execution_count": 26,
   "id": "22d8005d",
   "metadata": {},
   "outputs": [
    {
     "data": {
      "text/plain": [
       "0.5"
      ]
     },
     "execution_count": 26,
     "metadata": {},
     "output_type": "execute_result"
    }
   ],
   "source": [
    "# Data\n",
    "n = 1200\n",
    "x = 780\n",
    "p0 = 0.65\n",
    "\n",
    "# Z-test calculation\n",
    "z_stat, p_value = proportions_ztest(count=x, nobs=n, value=p0, alternative='smaller')\n",
    "p_value"
   ]
  },
  {
   "cell_type": "markdown",
   "id": "d06af486",
   "metadata": {},
   "source": [
    "since p value is greater than alpha we fail to reject the null hypothesis"
   ]
  },
  {
   "cell_type": "code",
   "execution_count": 27,
   "id": "66bd8553",
   "metadata": {},
   "outputs": [
    {
     "data": {
      "text/plain": [
       "-1.6448536269514729"
      ]
     },
     "execution_count": 27,
     "metadata": {},
     "output_type": "execute_result"
    }
   ],
   "source": [
    "# Critical value approach\n",
    "alpha = 0.05\n",
    "critical_value = stats.norm.ppf(alpha)\n",
    "critical_value"
   ]
  },
  {
   "cell_type": "code",
   "execution_count": 28,
   "id": "b5593eac",
   "metadata": {},
   "outputs": [
    {
     "data": {
      "text/plain": [
       "0.0"
      ]
     },
     "execution_count": 28,
     "metadata": {},
     "output_type": "execute_result"
    }
   ],
   "source": [
    "z_stat"
   ]
  },
  {
   "cell_type": "markdown",
   "id": "dbee1c0b",
   "metadata": {},
   "source": [
    "since z_stat is less than critical_value we fail to reject the null hypothesis"
   ]
  },
  {
   "cell_type": "markdown",
   "id": "845ce06d",
   "metadata": {},
   "source": [
    "**Example 10:** A university claims that 55% of high school graduates in its region enroll in college. Out of a sample of 800 high school graduates, 420 were found to have enrolled in college.\n",
    "\n",
    "* Sample size $(n)$ = 800\n",
    "* Observed successes $(x)$ = 420\n",
    "* Hypothesized proportion $(p_0)$ = 0.55\n",
    "\n",
    "**Assumptions**\n",
    "* $np_0$=800X0.55=440\n",
    "* $n(1-p_0)$=800X0.45=360\n",
    "\n",
    "since both are greater than 5 it satisfies all the assumptions"
   ]
  },
  {
   "cell_type": "markdown",
   "id": "77fe4228",
   "metadata": {},
   "source": [
    "Testing the null hypothesis \n",
    "\n",
    ">$H_0:p=0.55$\n",
    "\n",
    "against the alternate hypothesis\n",
    "\n",
    ">$H_1:p<0.55$"
   ]
  },
  {
   "cell_type": "code",
   "execution_count": 29,
   "id": "9f6df89b",
   "metadata": {},
   "outputs": [
    {
     "data": {
      "text/plain": [
       "0.07838999925606543"
      ]
     },
     "execution_count": 29,
     "metadata": {},
     "output_type": "execute_result"
    }
   ],
   "source": [
    "# Data\n",
    "n = 800\n",
    "x = 420\n",
    "p0 = 0.55\n",
    "\n",
    "# Z-test calculation\n",
    "z_stat, p_value = proportions_ztest(count=x, nobs=n, value=p0, alternative='smaller')\n",
    "p_value"
   ]
  },
  {
   "cell_type": "markdown",
   "id": "ae1e6925",
   "metadata": {},
   "source": [
    "since p value is greater than alpha we fail to reject the null hypothesis"
   ]
  },
  {
   "cell_type": "code",
   "execution_count": 30,
   "id": "d8eefed3",
   "metadata": {},
   "outputs": [
    {
     "data": {
      "text/plain": [
       "-1.6448536269514729"
      ]
     },
     "execution_count": 30,
     "metadata": {},
     "output_type": "execute_result"
    }
   ],
   "source": [
    "#critical value approach\n",
    "alpha = 0.05\n",
    "critical_value = stats.norm.ppf(alpha)\n",
    "critical_value"
   ]
  },
  {
   "cell_type": "code",
   "execution_count": 31,
   "id": "30fb5949",
   "metadata": {},
   "outputs": [
    {
     "data": {
      "text/plain": [
       "-1.4159846508095786"
      ]
     },
     "execution_count": 31,
     "metadata": {},
     "output_type": "execute_result"
    }
   ],
   "source": [
    "z_stat"
   ]
  },
  {
   "cell_type": "markdown",
   "id": "9f6909b1",
   "metadata": {},
   "source": [
    "since z stat is less than critical value we fail to reject the null hypothesis"
   ]
  },
  {
   "cell_type": "code",
   "execution_count": null,
   "id": "6725af06",
   "metadata": {},
   "outputs": [],
   "source": []
  }
 ],
 "metadata": {
  "kernelspec": {
   "display_name": "Python 3 (ipykernel)",
   "language": "python",
   "name": "python3"
  },
  "language_info": {
   "codemirror_mode": {
    "name": "ipython",
    "version": 3
   },
   "file_extension": ".py",
   "mimetype": "text/x-python",
   "name": "python",
   "nbconvert_exporter": "python",
   "pygments_lexer": "ipython3",
   "version": "3.11.5"
  }
 },
 "nbformat": 4,
 "nbformat_minor": 5
}
