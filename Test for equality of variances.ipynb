{
 "cells": [
  {
   "cell_type": "code",
   "execution_count": 1,
   "id": "43557b32",
   "metadata": {},
   "outputs": [],
   "source": [
    "import numpy as np\n",
    "import pandas as pd\n",
    "import seaborn as sns\n",
    "import matplotlib.pyplot as plt\n",
    "import plotly.express as px\n",
    "import scipy.stats as stats\n",
    "%matplotlib inline"
   ]
  },
  {
   "cell_type": "markdown",
   "id": "0bc8ba18",
   "metadata": {},
   "source": [
    "**Example 1:** A factory uses two machines to manufacture parts. The quality control team wants to check if the output variability (variance in dimensions) differs between the machines."
   ]
  },
  {
   "cell_type": "code",
   "execution_count": 2,
   "id": "98d460d3",
   "metadata": {},
   "outputs": [],
   "source": [
    "# Sample data for variances and sample sizes\n",
    "s1_squared = 2.8  # variance for Machine 1\n",
    "s2_squared = 1.9  # variance for Machine 2\n",
    "n1 = 15  # sample size for Machine 1\n",
    "n2 = 15  # sample size for Machine 2\n",
    "alpha = 0.05"
   ]
  },
  {
   "cell_type": "markdown",
   "id": "6a4502e5",
   "metadata": {},
   "source": [
    "Testing the null hypothesis\n",
    "\n",
    ">$H_0:\\sigma_1^2=\\sigma_2^2$\n",
    "\n",
    "against the alternate hypothesis\n",
    "\n",
    ">$H_1:\\sigma_1^2\\neq\\sigma_2^2$"
   ]
  },
  {
   "cell_type": "code",
   "execution_count": 4,
   "id": "e83031af",
   "metadata": {},
   "outputs": [
    {
     "data": {
      "text/plain": [
       "0.47743040147928806"
      ]
     },
     "execution_count": 4,
     "metadata": {},
     "output_type": "execute_result"
    }
   ],
   "source": [
    "#calculating the hypothesis using p value\n",
    "#calculating f static\n",
    "f_stat=s1_squared/s2_squared\n",
    "#degrees of freedom\n",
    "df1=n1-1\n",
    "df2=n2-1\n",
    "#p-value\n",
    "p_value=2*(1-stats.f.cdf(f_stat,df1,df2))\n",
    "p_value"
   ]
  },
  {
   "cell_type": "markdown",
   "id": "84360ad3",
   "metadata": {},
   "source": [
    "since p value is greater than alpha we fail to reject the null hypothesis"
   ]
  },
  {
   "cell_type": "code",
   "execution_count": 9,
   "id": "c3dcfb4b",
   "metadata": {},
   "outputs": [
    {
     "name": "stdout",
     "output_type": "stream",
     "text": [
      "0.33572960066081176 2.97858752410188\n"
     ]
    }
   ],
   "source": [
    "#calculating the hypothesis using critical value\n",
    "lower=stats.f.ppf(alpha/2,df1,df2)\n",
    "upper=stats.f.ppf(1-alpha/2,df1,df2)\n",
    "print(lower,upper)"
   ]
  },
  {
   "cell_type": "code",
   "execution_count": 11,
   "id": "8799e12c",
   "metadata": {},
   "outputs": [
    {
     "data": {
      "text/plain": [
       "1.4736842105263157"
      ]
     },
     "execution_count": 11,
     "metadata": {},
     "output_type": "execute_result"
    }
   ],
   "source": [
    "f_stat"
   ]
  },
  {
   "cell_type": "markdown",
   "id": "c6e17f82",
   "metadata": {},
   "source": [
    "since f_stat lies in between the critical_values(0.33,2.97) we fail to reject the null hypothesis"
   ]
  },
  {
   "cell_type": "markdown",
   "id": "6acf0dae",
   "metadata": {},
   "source": [
    "**Example 2:** A school has two classes, and it wants to test if the variance in test scores differs between the two. If one class shows more variability in performance, it might indicate different teaching methods or external factors."
   ]
  },
  {
   "cell_type": "code",
   "execution_count": 12,
   "id": "cb05b1a9",
   "metadata": {},
   "outputs": [],
   "source": [
    "# Sample data for variances and sample sizes\n",
    "s1_squared = 9.2  # variance for Class 1\n",
    "s2_squared = 7.5  # variance for Class 2\n",
    "n1 = 20  # sample size for Class 1\n",
    "n2 = 22  # sample size for Class 2\n",
    "alpha = 0.05  # significance level"
   ]
  },
  {
   "cell_type": "markdown",
   "id": "e9facbbe",
   "metadata": {},
   "source": [
    "Testing the null hypothesis\n",
    "\n",
    ">$H_0:\\sigma_1^2=\\sigma_2^2$\n",
    "\n",
    "against the alternate hypothesis\n",
    "\n",
    ">$H_1:\\sigma_1^2\\neq\\sigma_2^2$"
   ]
  },
  {
   "cell_type": "code",
   "execution_count": 14,
   "id": "3818c687",
   "metadata": {},
   "outputs": [
    {
     "data": {
      "text/plain": [
       "0.6466082905271744"
      ]
     },
     "execution_count": 14,
     "metadata": {},
     "output_type": "execute_result"
    }
   ],
   "source": [
    "#F_static\n",
    "f_stat=s1_squared/s2_squared\n",
    "#degrees of freedom\n",
    "df1=n1-1\n",
    "df2=n2-1\n",
    "#p_value\n",
    "p_value=2*(1-stats.f.cdf(f_stat,df1,df2))\n",
    "p_value"
   ]
  },
  {
   "cell_type": "markdown",
   "id": "acf52bea",
   "metadata": {},
   "source": [
    "since p value is greater than alpha we fail to reject the null hypothesis"
   ]
  },
  {
   "cell_type": "code",
   "execution_count": 15,
   "id": "df707a76",
   "metadata": {},
   "outputs": [
    {
     "name": "stdout",
     "output_type": "stream",
     "text": [
      "0.4011308780615479 2.442404049690661\n"
     ]
    }
   ],
   "source": [
    "#calculating the hypothesis using critical value\n",
    "lower=stats.f.ppf(alpha/2,df1,df2)\n",
    "upper=stats.f.ppf(1-alpha/2,df1,df2)\n",
    "print(lower,upper)"
   ]
  },
  {
   "cell_type": "code",
   "execution_count": 16,
   "id": "45fd2fcc",
   "metadata": {},
   "outputs": [
    {
     "data": {
      "text/plain": [
       "1.2266666666666666"
      ]
     },
     "execution_count": 16,
     "metadata": {},
     "output_type": "execute_result"
    }
   ],
   "source": [
    "f_stat"
   ]
  },
  {
   "cell_type": "markdown",
   "id": "c03ed9c2",
   "metadata": {},
   "source": [
    "since the f_stat lies in between the critical area(0.40,2.44) we fail to reject the null hypothesis"
   ]
  },
  {
   "cell_type": "markdown",
   "id": "db3e55cb",
   "metadata": {},
   "source": [
    "**Example 3:** A school wants to check if the variance in test scores for Class 1 is greater than the variance in test scores for Class 2. The greater variability in Class 1 could indicate inconsistent performance among students."
   ]
  },
  {
   "cell_type": "code",
   "execution_count": 18,
   "id": "72631aa9",
   "metadata": {},
   "outputs": [],
   "source": [
    "# Sample data for variances and sample sizes\n",
    "s1_squared = 20  # variance for Class 1\n",
    "s2_squared = 15  # variance for Class 2\n",
    "n1 = 30          # sample size for Class 1\n",
    "n2 = 25          # sample size for Class 2\n",
    "alpha = 0.05     # significance level"
   ]
  },
  {
   "cell_type": "markdown",
   "id": "47578def",
   "metadata": {},
   "source": [
    "Testing the null hypothesis\n",
    "\n",
    ">$H_0:\\sigma_1^2≤\\sigma_2^2$\n",
    "\n",
    "against the alternate hypothesis\n",
    "\n",
    ">$H_1:\\sigma_1^2>\\sigma_2^2$"
   ]
  },
  {
   "cell_type": "code",
   "execution_count": 19,
   "id": "b8d8d4bc",
   "metadata": {},
   "outputs": [
    {
     "data": {
      "text/plain": [
       "0.9999999999970753"
      ]
     },
     "execution_count": 19,
     "metadata": {},
     "output_type": "execute_result"
    }
   ],
   "source": [
    "#f_stat\n",
    "df1=n1-1\n",
    "df2=n2-1\n",
    "f_stat=s1_squared/s2_squared\n",
    "p_value=1-stats.f.cdf(alpha,df1,df2)\n",
    "p_value"
   ]
  },
  {
   "cell_type": "markdown",
   "id": "ee9de69f",
   "metadata": {},
   "source": [
    "since p value is greater than alpha we fail to reject the null hypothesis"
   ]
  },
  {
   "cell_type": "code",
   "execution_count": 20,
   "id": "b5b13d44",
   "metadata": {},
   "outputs": [
    {
     "data": {
      "text/plain": [
       "0.4738313466037325"
      ]
     },
     "execution_count": 20,
     "metadata": {},
     "output_type": "execute_result"
    }
   ],
   "source": [
    "#calculating the hypothesis using critical value\n",
    "critical_value=1-stats.f.ppf(alpha,df1,df2)\n",
    "critical_value"
   ]
  },
  {
   "cell_type": "code",
   "execution_count": 21,
   "id": "baeceb04",
   "metadata": {},
   "outputs": [
    {
     "data": {
      "text/plain": [
       "1.3333333333333333"
      ]
     },
     "execution_count": 21,
     "metadata": {},
     "output_type": "execute_result"
    }
   ],
   "source": [
    "f_stat"
   ]
  },
  {
   "cell_type": "markdown",
   "id": "d98a2d13",
   "metadata": {},
   "source": [
    "since f_stat is greater than the critcal value we fail to reject the null hypothesis"
   ]
  },
  {
   "cell_type": "markdown",
   "id": "2eb78a90",
   "metadata": {},
   "source": [
    "**Example 4:** A factory has two machines, and it wants to check if the variance in the temperature of Machine 1 is less than that of Machine 2. A smaller variance would mean Machine 1 has more consistent temperature control."
   ]
  },
  {
   "cell_type": "code",
   "execution_count": 22,
   "id": "00220a29",
   "metadata": {},
   "outputs": [],
   "source": [
    "# Sample data for variances and sample sizes\n",
    "s1_squared = 10  # variance for Machine 1\n",
    "s2_squared = 12  # variance for Machine 2\n",
    "n1 = 50          # sample size for Machine 1\n",
    "n2 = 50          # sample size for Machine 2\n",
    "alpha = 0.05     # significance level\n"
   ]
  },
  {
   "cell_type": "markdown",
   "id": "dc54c37a",
   "metadata": {},
   "source": [
    "Testing the null hypothesis\n",
    "\n",
    ">$H_0:\\sigma_1^2≥\\sigma_2^2$\n",
    "\n",
    "against the alternate hypothesis\n",
    "\n",
    ">$H_1:\\sigma_1^2<\\sigma_2^2$"
   ]
  },
  {
   "cell_type": "code",
   "execution_count": 24,
   "id": "575e024f",
   "metadata": {},
   "outputs": [
    {
     "data": {
      "text/plain": [
       "0.2628963224048937"
      ]
     },
     "execution_count": 24,
     "metadata": {},
     "output_type": "execute_result"
    }
   ],
   "source": [
    "# Degrees of freedom\n",
    "df1 = n1 - 1\n",
    "df2 = n2 - 1\n",
    "\n",
    "# Calculate F-statistic\n",
    "F_statistic = s1_squared / s2_squared\n",
    "\n",
    "# p-value for one-tailed test \n",
    "p_value = f.cdf(F_statistic, df1, df2)\n",
    "p_value"
   ]
  },
  {
   "cell_type": "markdown",
   "id": "1a643fa4",
   "metadata": {},
   "source": [
    "since p value is greater than alpha we fail to reject the null hypothesis"
   ]
  },
  {
   "cell_type": "code",
   "execution_count": 25,
   "id": "c217aafc",
   "metadata": {},
   "outputs": [
    {
     "data": {
      "text/plain": [
       "0.6221654675017775"
      ]
     },
     "execution_count": 25,
     "metadata": {},
     "output_type": "execute_result"
    }
   ],
   "source": [
    "# Critical value \n",
    "critical_value = f.ppf(alpha, df1, df2)\n",
    "critical_value"
   ]
  },
  {
   "cell_type": "code",
   "execution_count": 29,
   "id": "0803fc26",
   "metadata": {},
   "outputs": [
    {
     "data": {
      "text/plain": [
       "0.8333333333333334"
      ]
     },
     "execution_count": 29,
     "metadata": {},
     "output_type": "execute_result"
    }
   ],
   "source": [
    "F_statistic"
   ]
  },
  {
   "cell_type": "markdown",
   "id": "7161a714",
   "metadata": {},
   "source": [
    "since f_statistic is less than the critical value we fail to reject the null hypothesis"
   ]
  },
  {
   "cell_type": "markdown",
   "id": "98d5ca5f",
   "metadata": {},
   "source": [
    "**Example 5:** Two different marketing campaigns are run by a company, and it wants to check if the variance in the response rates of Campaign 1 is greater than that of Campaign 2. A greater variance would suggest that the results of Campaign 1 are less consistent."
   ]
  },
  {
   "cell_type": "code",
   "execution_count": 30,
   "id": "ed0a5f92",
   "metadata": {},
   "outputs": [],
   "source": [
    "# Sample data for variances and sample sizes\n",
    "s1_squared = 25  # variance for Campaign 1\n",
    "s2_squared = 20  # variance for Campaign 2\n",
    "n1 = 40          # sample size for Campaign 1\n",
    "n2 = 35          # sample size for Campaign 2\n",
    "alpha = 0.05     # significance level"
   ]
  },
  {
   "cell_type": "markdown",
   "id": "6b6e3f4c",
   "metadata": {},
   "source": [
    "Testing the null hypothesis\n",
    "\n",
    ">$H_0:\\sigma_1^2≤\\sigma_2^2$\n",
    "\n",
    "against the alternate hypothesis\n",
    "\n",
    ">$H_1:\\sigma_1^2>\\sigma_2^2$"
   ]
  },
  {
   "cell_type": "code",
   "execution_count": 32,
   "id": "00e5ad32",
   "metadata": {},
   "outputs": [
    {
     "data": {
      "text/plain": [
       "0.25529895339775455"
      ]
     },
     "execution_count": 32,
     "metadata": {},
     "output_type": "execute_result"
    }
   ],
   "source": [
    "# Calculate F-statistic\n",
    "F_statistic = s1_squared / s2_squared\n",
    "\n",
    "# Degrees of freedom\n",
    "df1 = n1 - 1\n",
    "df2 = n2 - 1\n",
    "\n",
    "# p-value for one-tailed test \n",
    "p_value = 1 - f.cdf(F_statistic, df1, df2)\n",
    "p_value"
   ]
  },
  {
   "cell_type": "markdown",
   "id": "f74ea5ac",
   "metadata": {},
   "source": [
    "since p value is greater than alpha we fail to reject the null hypothesis\n"
   ]
  },
  {
   "cell_type": "code",
   "execution_count": 33,
   "id": "b463c596",
   "metadata": {},
   "outputs": [
    {
     "data": {
      "text/plain": [
       "1.7490730378791757"
      ]
     },
     "execution_count": 33,
     "metadata": {},
     "output_type": "execute_result"
    }
   ],
   "source": [
    "# Critical value \n",
    "critical_value = f.ppf(1 - alpha, df1, df2)\n",
    "critical_value"
   ]
  },
  {
   "cell_type": "code",
   "execution_count": 34,
   "id": "033c2095",
   "metadata": {},
   "outputs": [
    {
     "data": {
      "text/plain": [
       "1.25"
      ]
     },
     "execution_count": 34,
     "metadata": {},
     "output_type": "execute_result"
    }
   ],
   "source": [
    "F_statistic "
   ]
  },
  {
   "cell_type": "markdown",
   "id": "5c4d657d",
   "metadata": {},
   "source": [
    "since f_stat is less than the critical value we fail to reject the null hypothesis"
   ]
  },
  {
   "cell_type": "markdown",
   "id": "d2678752",
   "metadata": {},
   "source": [
    "**Example 6:** A company wants to check if the variance in salaries for Department A is less than the variance in salaries for Department B. This can indicate that Department A has more uniform salaries compared to Department B."
   ]
  },
  {
   "cell_type": "code",
   "execution_count": 35,
   "id": "4eba415b",
   "metadata": {},
   "outputs": [],
   "source": [
    "# Sample data for variances and sample sizes\n",
    "s1_squared = 18  # variance for Department A\n",
    "s2_squared = 24  # variance for Department B\n",
    "n1 = 60          # sample size for Department A\n",
    "n2 = 55          # sample size for Department B\n",
    "alpha = 0.05     # significance level"
   ]
  },
  {
   "cell_type": "markdown",
   "id": "2c5af9d6",
   "metadata": {},
   "source": [
    "Testing the null hypothesis\n",
    "\n",
    ">$H_0:\\sigma_1^2≥\\sigma_2^2$\n",
    "\n",
    "against the alternate hypothesis\n",
    "\n",
    ">$H_1:\\sigma_1^2<\\sigma_2^2$"
   ]
  },
  {
   "cell_type": "code",
   "execution_count": 36,
   "id": "b5c10bfa",
   "metadata": {},
   "outputs": [
    {
     "data": {
      "text/plain": [
       "0.140128347751143"
      ]
     },
     "execution_count": 36,
     "metadata": {},
     "output_type": "execute_result"
    }
   ],
   "source": [
    "# Calculate F-statistic\n",
    "F_statistic = s1_squared / s2_squared\n",
    "\n",
    "# Degrees of freedom\n",
    "df1 = n1 - 1\n",
    "df2 = n2 - 1\n",
    "\n",
    "# p-value for one-tailed test \n",
    "p_value = f.cdf(F_statistic, df1, df2)\n",
    "p_value\n"
   ]
  },
  {
   "cell_type": "markdown",
   "id": "edd8f1d0",
   "metadata": {},
   "source": [
    "since p value is greater than alpha we fail to reject the null hypothesis"
   ]
  },
  {
   "cell_type": "code",
   "execution_count": 39,
   "id": "42dd09aa",
   "metadata": {},
   "outputs": [
    {
     "data": {
      "text/plain": [
       "0.6444820810346026"
      ]
     },
     "execution_count": 39,
     "metadata": {},
     "output_type": "execute_result"
    }
   ],
   "source": [
    "# Critical value \n",
    "critical_value = f.ppf(alpha, df1, df2)\n",
    "critical_value"
   ]
  },
  {
   "cell_type": "code",
   "execution_count": 38,
   "id": "476faf1c",
   "metadata": {},
   "outputs": [
    {
     "data": {
      "text/plain": [
       "0.75"
      ]
     },
     "execution_count": 38,
     "metadata": {},
     "output_type": "execute_result"
    }
   ],
   "source": [
    "F_statistic"
   ]
  },
  {
   "cell_type": "markdown",
   "id": "32c8a5d3",
   "metadata": {},
   "source": [
    "since f_stat is greater than the critical value we fail to reject the null hypothesis"
   ]
  },
  {
   "cell_type": "code",
   "execution_count": null,
   "id": "db4555ec",
   "metadata": {},
   "outputs": [],
   "source": []
  }
 ],
 "metadata": {
  "kernelspec": {
   "display_name": "Python 3 (ipykernel)",
   "language": "python",
   "name": "python3"
  },
  "language_info": {
   "codemirror_mode": {
    "name": "ipython",
    "version": 3
   },
   "file_extension": ".py",
   "mimetype": "text/x-python",
   "name": "python",
   "nbconvert_exporter": "python",
   "pygments_lexer": "ipython3",
   "version": "3.11.5"
  }
 },
 "nbformat": 4,
 "nbformat_minor": 5
}
