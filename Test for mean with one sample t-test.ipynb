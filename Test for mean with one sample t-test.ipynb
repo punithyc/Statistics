{
 "cells": [
  {
   "cell_type": "code",
   "execution_count": 1,
   "id": "0691c824",
   "metadata": {},
   "outputs": [],
   "source": [
    "import numpy as np\n",
    "import pandas as pd\n",
    "import matplotlib.pyplot as plt\n",
    "import seaborn as sns\n",
    "import plotly.express as px\n",
    "import scipy.stats as stats\n",
    "%matplotlib inline"
   ]
  },
  {
   "cell_type": "code",
   "execution_count": 2,
   "id": "dca08677",
   "metadata": {},
   "outputs": [],
   "source": [
    "from scipy.stats import ttest_1samp"
   ]
  },
  {
   "cell_type": "markdown",
   "id": "7add23ca",
   "metadata": {},
   "source": [
    "**Example 1:** A call center manager wants to verify if the average wait time for customers has changed from the industry standard of 3 minutes. They take a random sample of 10 wait times (in minutes) from recent calls.\n",
    "\n",
    "Data: \n",
    "2.5\n",
    ",\n",
    "3.1\n",
    ",\n",
    "2.7\n",
    ",\n",
    "3.2\n",
    ",\n",
    "3.4\n",
    ",\n",
    "3.0\n",
    ",\n",
    "2.8\n",
    ",\n",
    "3.5\n",
    ",\n",
    "2.9\n",
    ",\n",
    "3.3\n",
    "2.5,3.1,2.7,3.2,3.4,3.0,2.8,3.5,2.9,3.3\n",
    "\n",
    "Population Mean: 3.0"
   ]
  },
  {
   "cell_type": "markdown",
   "id": "7cebe451",
   "metadata": {},
   "source": [
    ">$H_0:μ=3.0$\n",
    "\n",
    ">$H_1:𝜇≠3.0$"
   ]
  },
  {
   "cell_type": "code",
   "execution_count": 14,
   "id": "eaa00e26",
   "metadata": {},
   "outputs": [
    {
     "data": {
      "text/plain": [
       "0.7022041268374997"
      ]
     },
     "execution_count": 14,
     "metadata": {},
     "output_type": "execute_result"
    }
   ],
   "source": [
    "#sample data\n",
    "data = [2.5, 3.1, 2.7, 3.2, 3.4, 3.0, 2.8, 3.5, 2.9, 3.3]\n",
    "population_mean = 3.0\n",
    "#calculating test static\n",
    "test_static,p_value=stats.ttest_1samp(data1,population_mean,alternative='two-sided')\n",
    "p_value"
   ]
  },
  {
   "cell_type": "markdown",
   "id": "5a4982b7",
   "metadata": {},
   "source": [
    "Since p value is greater than 0 we fail to reject the null hypothesis"
   ]
  },
  {
   "cell_type": "code",
   "execution_count": 13,
   "id": "454b9500",
   "metadata": {},
   "outputs": [
    {
     "data": {
      "text/plain": [
       "2.2621571627409915"
      ]
     },
     "execution_count": 13,
     "metadata": {},
     "output_type": "execute_result"
    }
   ],
   "source": [
    "#finding hypothesis using critical value\n",
    "import scipy.stats as stats\n",
    "\n",
    "# Given parameters\n",
    "alpha = 0.05  # Significance level for a two-sided test\n",
    "n1 = len(data1)  # Sample size\n",
    "\n",
    "# Calculate degrees of freedom\n",
    "df1 = n1 - 1\n",
    "\n",
    "# Critical t-value for a two-tailed test at 95% confidence level\n",
    "critical_t_value1 = stats.t.ppf(1 - alpha / 2, df1)\n",
    "critical_t_value1\n"
   ]
  },
  {
   "cell_type": "code",
   "execution_count": 12,
   "id": "cd22c717",
   "metadata": {},
   "outputs": [
    {
     "data": {
      "text/plain": [
       "0.39477101697586175"
      ]
     },
     "execution_count": 12,
     "metadata": {},
     "output_type": "execute_result"
    }
   ],
   "source": [
    "test_static"
   ]
  },
  {
   "cell_type": "markdown",
   "id": "0ce2f146",
   "metadata": {},
   "source": [
    "since test static is less than the critical value we fail to reject the null hypothesis"
   ]
  },
  {
   "cell_type": "markdown",
   "id": "ae05d4cb",
   "metadata": {},
   "source": [
    "**Example 2:** A coffee shop manager believes their new menu may have impacted customer satisfaction. They take a sample of 12 recent satisfaction scores (on \n",
    "a 1–5 scale), hoping to see if the average rating has increased from 4.\n",
    "\n",
    "Data: \n",
    "4\n",
    ",\n",
    "5\n",
    ",\n",
    "4\n",
    ",\n",
    "4\n",
    ",\n",
    "5\n",
    ",\n",
    "4\n",
    ",\n",
    "4\n",
    ",\n",
    "5\n",
    ",\n",
    "3\n",
    ",\n",
    "5\n",
    ",\n",
    "4\n",
    ",\n",
    "5\n",
    "Population_Mean: 4.0"
   ]
  },
  {
   "cell_type": "markdown",
   "id": "9d2ae2fb",
   "metadata": {},
   "source": [
    "Testing the null hypothesis\n",
    ">$H_0:𝜇≤4.0$\n",
    "    \n",
    "against the alternate hypothesis\n",
    ">$H_1:μ>4.0$\n"
   ]
  },
  {
   "cell_type": "code",
   "execution_count": 18,
   "id": "58b8a7fc",
   "metadata": {},
   "outputs": [
    {
     "data": {
      "text/plain": [
       "0.051957861331607166"
      ]
     },
     "execution_count": 18,
     "metadata": {},
     "output_type": "execute_result"
    }
   ],
   "source": [
    "#finding hypothesis using p value\n",
    "Data= [4 , 5 , 4 , 4 , 5 , 4 , 4 , 5 , 3 , 5 , 4 , 5]\n",
    "Population_Mean= 4.0\n",
    "test_static,p_value=ttest_1samp(Data,Population_Mean,alternative='greater')\n",
    "p_value"
   ]
  },
  {
   "cell_type": "markdown",
   "id": "bf2f9be2",
   "metadata": {},
   "source": [
    "since p value is greater than alpha we fail to reject null hypothesis"
   ]
  },
  {
   "cell_type": "code",
   "execution_count": 22,
   "id": "511c1b4a",
   "metadata": {},
   "outputs": [
    {
     "data": {
      "text/plain": [
       "1.7958848187036691"
      ]
     },
     "execution_count": 22,
     "metadata": {},
     "output_type": "execute_result"
    }
   ],
   "source": [
    "#finding hypothesis using critical value\n",
    "df=len(Data)-1\n",
    "df\n",
    "alpha=0.05\n",
    "critical_value=stats.t.ppf(1-alpha,df)\n",
    "critical_value"
   ]
  },
  {
   "cell_type": "code",
   "execution_count": 23,
   "id": "b68a9aab",
   "metadata": {},
   "outputs": [
    {
     "data": {
      "text/plain": [
       "1.7728105208558353"
      ]
     },
     "execution_count": 23,
     "metadata": {},
     "output_type": "execute_result"
    }
   ],
   "source": [
    "test_static"
   ]
  },
  {
   "cell_type": "markdown",
   "id": "429495f8",
   "metadata": {},
   "source": [
    "since teststatic is less than critical value we fail to reject the null hypothesis"
   ]
  },
  {
   "cell_type": "markdown",
   "id": "f44b597c",
   "metadata": {},
   "source": [
    "**Example 3:** A food company aims to check if their packaging machine is correctly calibrated to produce packs with an average weight of 500g. They sample 15 packs to test if the average weight is significantly different."
   ]
  },
  {
   "cell_type": "markdown",
   "id": "bb738577",
   "metadata": {},
   "source": [
    "Testing the null Hypothesis\n",
    "\n",
    ">$H_0:\\mu=500$\n",
    "\n",
    "against the alternate Hypothesis\n",
    ">$H_1:\\mu\\neq500$"
   ]
  },
  {
   "cell_type": "code",
   "execution_count": 26,
   "id": "920c55bf",
   "metadata": {},
   "outputs": [
    {
     "data": {
      "text/plain": [
       "1.0"
      ]
     },
     "execution_count": 26,
     "metadata": {},
     "output_type": "execute_result"
    }
   ],
   "source": [
    "#finding the hypothesis using p value\n",
    "#sample data\n",
    "data = [502, 499, 498, 503, 497, 501, 500, 499, 501, 502, 498, 497, 499, 503, 501]\n",
    "population_mean = 500\n",
    "#calculating test statistic\n",
    "test_statistic,p_value=ttest_1samp(data,population_mean,alternative='two-sided')\n",
    "p_value"
   ]
  },
  {
   "cell_type": "markdown",
   "id": "6435ed6c",
   "metadata": {},
   "source": [
    "since p value is greater than alpha we fail to reject the null  hypothesis"
   ]
  },
  {
   "cell_type": "code",
   "execution_count": 27,
   "id": "33e3b721",
   "metadata": {},
   "outputs": [
    {
     "data": {
      "text/plain": [
       "0.6924170695700048"
      ]
     },
     "execution_count": 27,
     "metadata": {},
     "output_type": "execute_result"
    }
   ],
   "source": [
    "#finding hypothesis using critical value\n",
    "df=len(data)-1\n",
    "alpha=0.5\n",
    "critical_value=stats.t.ppf(1-alpha/2,df)\n",
    "critical_value"
   ]
  },
  {
   "cell_type": "code",
   "execution_count": 28,
   "id": "b79b196c",
   "metadata": {},
   "outputs": [
    {
     "data": {
      "text/plain": [
       "0.0"
      ]
     },
     "execution_count": 28,
     "metadata": {},
     "output_type": "execute_result"
    }
   ],
   "source": [
    "test_statistic"
   ]
  },
  {
   "cell_type": "markdown",
   "id": "90137885",
   "metadata": {},
   "source": [
    "since test_statistic is less than critical value we fail to reject the null hypothesis"
   ]
  },
  {
   "cell_type": "markdown",
   "id": "8f8ad881",
   "metadata": {},
   "source": [
    "**Example 4:** A personal trainer wants to see if a new gym program affects members' average number of visits per month. The current standard is 10 visits per month, and they sample 8 members' visit numbers."
   ]
  },
  {
   "cell_type": "markdown",
   "id": "b974154c",
   "metadata": {},
   "source": [
    "Testing the null hypothesis \n",
    "\n",
    ">$H_0:\\mu=10$\n",
    "\n",
    "against the alternate hypothesis\n",
    "\n",
    ">$H_1:\\mu>10$"
   ]
  },
  {
   "cell_type": "code",
   "execution_count": 31,
   "id": "9eb1871f",
   "metadata": {},
   "outputs": [
    {
     "data": {
      "text/plain": [
       "0.22561943600083895"
      ]
     },
     "execution_count": 31,
     "metadata": {},
     "output_type": "execute_result"
    }
   ],
   "source": [
    "#Finding the hypothesis using the p-value\n",
    "#sample data\n",
    "data = [12, 9, 10, 13, 8, 11, 12, 9]\n",
    "population_mean = 10\n",
    "#Calculate t-statistic\n",
    "test_stat,p_value=ttest_1samp(data,population_mean,alternative='greater')\n",
    "p_value"
   ]
  },
  {
   "cell_type": "markdown",
   "id": "32d7b157",
   "metadata": {},
   "source": [
    "Since p value is greater than alpha we fail to reject the null hypothesis"
   ]
  },
  {
   "cell_type": "code",
   "execution_count": 34,
   "id": "79aa7421",
   "metadata": {},
   "outputs": [
    {
     "data": {
      "text/plain": [
       "1.894578605061305"
      ]
     },
     "execution_count": 34,
     "metadata": {},
     "output_type": "execute_result"
    }
   ],
   "source": [
    "#finding hypothesis using critical value\n",
    "df=len(data)-1\n",
    "alpha=0.05\n",
    "critical_value=stats.t.ppf(1-alpha,df)\n",
    "critical_value"
   ]
  },
  {
   "cell_type": "code",
   "execution_count": 35,
   "id": "97e21e59",
   "metadata": {},
   "outputs": [
    {
     "data": {
      "text/plain": [
       "0.7977240352174657"
      ]
     },
     "execution_count": 35,
     "metadata": {},
     "output_type": "execute_result"
    }
   ],
   "source": [
    "test_stat"
   ]
  },
  {
   "cell_type": "markdown",
   "id": "c4880019",
   "metadata": {},
   "source": [
    "Since test stat is less than critical value we fail to reject the null hypothesis"
   ]
  },
  {
   "cell_type": "markdown",
   "id": "b1a8c13d",
   "metadata": {},
   "source": [
    "**Example 5:**"
   ]
  },
  {
   "cell_type": "markdown",
   "id": "f993c964",
   "metadata": {},
   "source": [
    "Testing the null hypothesis\n",
    "\n",
    ">$H_0:\\mu=5$\n",
    "\n",
    "against the alternate hypothesis\n",
    "\n",
    ">$H_1:\\mu<5$"
   ]
  },
  {
   "cell_type": "code",
   "execution_count": 37,
   "id": "56753e52",
   "metadata": {},
   "outputs": [
    {
     "data": {
      "text/plain": [
       "0.6211299636135219"
      ]
     },
     "execution_count": 37,
     "metadata": {},
     "output_type": "execute_result"
    }
   ],
   "source": [
    "#Finding hypothesis using p value\n",
    "# Sample data\n",
    "data = [5, 4, 6, 5, 4, 5, 6, 4, 5, 7]\n",
    "population_mean = 5\n",
    "test_stat,p_value=ttest_1samp(data,population_mean,alternative='less')\n",
    "p_value\n"
   ]
  },
  {
   "cell_type": "markdown",
   "id": "3bbd7bfb",
   "metadata": {},
   "source": [
    "since p value is greater than alpha we fail to reject the null hypothesis"
   ]
  },
  {
   "cell_type": "code",
   "execution_count": 45,
   "id": "f5a167ef",
   "metadata": {},
   "outputs": [
    {
     "data": {
      "text/plain": [
       "-1.8331129326536337"
      ]
     },
     "execution_count": 45,
     "metadata": {},
     "output_type": "execute_result"
    }
   ],
   "source": [
    "# Step 2: Check degrees of freedom\n",
    "n = len(data10)\n",
    "degrees_of_freedom = n - 1\n",
    "\n",
    "# Step 3: Calculate critical value\n",
    "alpha = 0.05\n",
    "critical_value10 = stats.t.ppf(alpha, degrees_of_freedom)\n",
    "critical_value10"
   ]
  },
  {
   "cell_type": "code",
   "execution_count": 43,
   "id": "15b6032e",
   "metadata": {},
   "outputs": [
    {
     "data": {
      "text/plain": [
       "0.31799936400190687"
      ]
     },
     "execution_count": 43,
     "metadata": {},
     "output_type": "execute_result"
    }
   ],
   "source": [
    "test_stat"
   ]
  },
  {
   "cell_type": "markdown",
   "id": "e116367f",
   "metadata": {},
   "source": [
    "since test stat is lesser than absolute of critical value we fail to reject the null hypotheis"
   ]
  },
  {
   "cell_type": "code",
   "execution_count": null,
   "id": "2ed9dee2",
   "metadata": {},
   "outputs": [],
   "source": []
  }
 ],
 "metadata": {
  "kernelspec": {
   "display_name": "Python 3 (ipykernel)",
   "language": "python",
   "name": "python3"
  },
  "language_info": {
   "codemirror_mode": {
    "name": "ipython",
    "version": 3
   },
   "file_extension": ".py",
   "mimetype": "text/x-python",
   "name": "python",
   "nbconvert_exporter": "python",
   "pygments_lexer": "ipython3",
   "version": "3.11.5"
  }
 },
 "nbformat": 4,
 "nbformat_minor": 5
}
