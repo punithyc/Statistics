{
 "cells": [
  {
   "cell_type": "code",
   "execution_count": 1,
   "id": "d090df53",
   "metadata": {},
   "outputs": [],
   "source": [
    "import numpy as np\n",
    "import pandas as pd\n",
    "import matplotlib.pyplot as plt\n",
    "import seaborn as sns\n",
    "import plotly.express as px\n",
    "import scipy.stats as stats\n",
    "%matplotlib inline"
   ]
  },
  {
   "cell_type": "markdown",
   "id": "c01e6d92",
   "metadata": {},
   "source": [
    "### Test for Independence"
   ]
  },
  {
   "cell_type": "markdown",
   "id": "9902ccd2",
   "metadata": {},
   "source": [
    "**Assumptions for chi square test:**\n",
    "\n",
    "* The data must be in two categorical variables.\n",
    "*  Each cell in the contingency table should have an expected frequency of at least 5 for the Chi-Square test to be valid.\n",
    "* Random sampling from the population"
   ]
  },
  {
   "cell_type": "markdown",
   "id": "1a61deb0",
   "metadata": {},
   "source": [
    "**Example 1 :** A retailer wants to check if product preference (electronics or clothing) is independent of customer gender (male or female).\n"
   ]
  },
  {
   "cell_type": "code",
   "execution_count": 2,
   "id": "3fccd601",
   "metadata": {},
   "outputs": [
    {
     "data": {
      "text/html": [
       "<div>\n",
       "<style scoped>\n",
       "    .dataframe tbody tr th:only-of-type {\n",
       "        vertical-align: middle;\n",
       "    }\n",
       "\n",
       "    .dataframe tbody tr th {\n",
       "        vertical-align: top;\n",
       "    }\n",
       "\n",
       "    .dataframe thead th {\n",
       "        text-align: right;\n",
       "    }\n",
       "</style>\n",
       "<table border=\"1\" class=\"dataframe\">\n",
       "  <thead>\n",
       "    <tr style=\"text-align: right;\">\n",
       "      <th></th>\n",
       "      <th>Electronics</th>\n",
       "      <th>Clothing</th>\n",
       "    </tr>\n",
       "    <tr>\n",
       "      <th>Gender</th>\n",
       "      <th></th>\n",
       "      <th></th>\n",
       "    </tr>\n",
       "  </thead>\n",
       "  <tbody>\n",
       "    <tr>\n",
       "      <th>Male</th>\n",
       "      <td>40</td>\n",
       "      <td>60</td>\n",
       "    </tr>\n",
       "    <tr>\n",
       "      <th>Female</th>\n",
       "      <td>70</td>\n",
       "      <td>30</td>\n",
       "    </tr>\n",
       "  </tbody>\n",
       "</table>\n",
       "</div>"
      ],
      "text/plain": [
       "        Electronics  Clothing\n",
       "Gender                       \n",
       "Male             40        60\n",
       "Female           70        30"
      ]
     },
     "execution_count": 2,
     "metadata": {},
     "output_type": "execute_result"
    }
   ],
   "source": [
    "# Create data\n",
    "data = {'Gender': ['Male', 'Female'], 'Electronics': [40, 70], 'Clothing': [60, 30]}\n",
    "df = pd.DataFrame(data).set_index('Gender')\n",
    "df"
   ]
  },
  {
   "cell_type": "markdown",
   "id": "8506ca43",
   "metadata": {},
   "source": [
    "Testing the null hypothesis\n",
    "\n",
    ">$H_0:$ Product preference is independent of gender\n",
    "\n",
    "against the alternative hypothesis\n",
    "\n",
    ">$H_1:$ product preference is dependent of gender"
   ]
  },
  {
   "cell_type": "code",
   "execution_count": 3,
   "id": "3df03ea9",
   "metadata": {},
   "outputs": [
    {
     "data": {
      "text/plain": [
       "3.7579211012441855e-05"
      ]
     },
     "execution_count": 3,
     "metadata": {},
     "output_type": "execute_result"
    }
   ],
   "source": [
    "#performing the hypothesis using p value\n",
    "from scipy.stats import chi2_contingency\n",
    "chi2_stat,p_val,dof,expected=chi2_contingency(df)\n",
    "p_val"
   ]
  },
  {
   "cell_type": "code",
   "execution_count": 4,
   "id": "cfe9a634",
   "metadata": {},
   "outputs": [
    {
     "data": {
      "text/plain": [
       "array([[55., 45.],\n",
       "       [55., 45.]])"
      ]
     },
     "execution_count": 4,
     "metadata": {},
     "output_type": "execute_result"
    }
   ],
   "source": [
    "expected"
   ]
  },
  {
   "cell_type": "code",
   "execution_count": 5,
   "id": "98494279",
   "metadata": {},
   "outputs": [
    {
     "data": {
      "text/plain": [
       "1"
      ]
     },
     "execution_count": 5,
     "metadata": {},
     "output_type": "execute_result"
    }
   ],
   "source": [
    "dof"
   ]
  },
  {
   "cell_type": "markdown",
   "id": "b17a86d2",
   "metadata": {},
   "source": [
    "since p value is less than alpha we reject the null hypothesis. Hence we dont have enough statistical significance to conclude that product preference is independent of gender"
   ]
  },
  {
   "cell_type": "code",
   "execution_count": 6,
   "id": "36dcdebc",
   "metadata": {},
   "outputs": [
    {
     "data": {
      "text/plain": [
       "3.841458820694124"
      ]
     },
     "execution_count": 6,
     "metadata": {},
     "output_type": "execute_result"
    }
   ],
   "source": [
    "#testing the hypothesis using critical value\n",
    "from scipy.stats import chi2\n",
    "alpha=0.05\n",
    "critical_value=chi2.ppf(1-alpha,dof)\n",
    "critical_value"
   ]
  },
  {
   "cell_type": "code",
   "execution_count": 7,
   "id": "147dc78e",
   "metadata": {},
   "outputs": [
    {
     "data": {
      "text/plain": [
       "3.841458820694124"
      ]
     },
     "execution_count": 7,
     "metadata": {},
     "output_type": "execute_result"
    }
   ],
   "source": [
    "critical_value"
   ]
  },
  {
   "cell_type": "code",
   "execution_count": 8,
   "id": "aa4b59d7",
   "metadata": {},
   "outputs": [
    {
     "data": {
      "text/plain": [
       "16.98989898989899"
      ]
     },
     "execution_count": 8,
     "metadata": {},
     "output_type": "execute_result"
    }
   ],
   "source": [
    "chi2_stat"
   ]
  },
  {
   "cell_type": "markdown",
   "id": "61070075",
   "metadata": {},
   "source": [
    "hence chi2_stat is greater than the critical value we reject the null hypothesis"
   ]
  },
  {
   "cell_type": "markdown",
   "id": "83f5cc5d",
   "metadata": {},
   "source": [
    "**Example 2:** A researcher wants to check if smoking habits (smoker, non-smoker) are independent of education level (high school, undergraduate, postgraduate)."
   ]
  },
  {
   "cell_type": "code",
   "execution_count": 9,
   "id": "5ff86d5b",
   "metadata": {},
   "outputs": [
    {
     "data": {
      "text/html": [
       "<div>\n",
       "<style scoped>\n",
       "    .dataframe tbody tr th:only-of-type {\n",
       "        vertical-align: middle;\n",
       "    }\n",
       "\n",
       "    .dataframe tbody tr th {\n",
       "        vertical-align: top;\n",
       "    }\n",
       "\n",
       "    .dataframe thead th {\n",
       "        text-align: right;\n",
       "    }\n",
       "</style>\n",
       "<table border=\"1\" class=\"dataframe\">\n",
       "  <thead>\n",
       "    <tr style=\"text-align: right;\">\n",
       "      <th></th>\n",
       "      <th>Smoker</th>\n",
       "      <th>Non-Smoker</th>\n",
       "    </tr>\n",
       "    <tr>\n",
       "      <th>Education</th>\n",
       "      <th></th>\n",
       "      <th></th>\n",
       "    </tr>\n",
       "  </thead>\n",
       "  <tbody>\n",
       "    <tr>\n",
       "      <th>High School</th>\n",
       "      <td>30</td>\n",
       "      <td>70</td>\n",
       "    </tr>\n",
       "    <tr>\n",
       "      <th>Undergraduate</th>\n",
       "      <td>40</td>\n",
       "      <td>60</td>\n",
       "    </tr>\n",
       "    <tr>\n",
       "      <th>Postgraduate</th>\n",
       "      <td>20</td>\n",
       "      <td>80</td>\n",
       "    </tr>\n",
       "  </tbody>\n",
       "</table>\n",
       "</div>"
      ],
      "text/plain": [
       "               Smoker  Non-Smoker\n",
       "Education                        \n",
       "High School        30          70\n",
       "Undergraduate      40          60\n",
       "Postgraduate       20          80"
      ]
     },
     "execution_count": 9,
     "metadata": {},
     "output_type": "execute_result"
    }
   ],
   "source": [
    "# Data\n",
    "data = {'Education': ['High School', 'Undergraduate', 'Postgraduate'],\n",
    "        'Smoker': [30, 40, 20], 'Non-Smoker': [70, 60, 80]}\n",
    "df = pd.DataFrame(data).set_index('Education')\n",
    "df"
   ]
  },
  {
   "cell_type": "markdown",
   "id": "e499e278",
   "metadata": {},
   "source": [
    "Testing the null hypothesis \n",
    "\n",
    ">$H_0:$ smoking habits are independent of education level\n",
    "\n",
    "against the alternate hypothesis\n",
    "\n",
    ">$H_1:$ smoking habits are dependent of education level"
   ]
  },
  {
   "cell_type": "code",
   "execution_count": 10,
   "id": "a9a8aefe",
   "metadata": {},
   "outputs": [
    {
     "data": {
      "text/plain": [
       "0.008549309479686051"
      ]
     },
     "execution_count": 10,
     "metadata": {},
     "output_type": "execute_result"
    }
   ],
   "source": [
    "#testing the hypothesis using p value\n",
    "chi2_stat,p_value,dof,expected=chi2_contingency(df)\n",
    "p_value"
   ]
  },
  {
   "cell_type": "code",
   "execution_count": 11,
   "id": "377e1a32",
   "metadata": {},
   "outputs": [
    {
     "data": {
      "text/plain": [
       "array([[30., 70.],\n",
       "       [30., 70.],\n",
       "       [30., 70.]])"
      ]
     },
     "execution_count": 11,
     "metadata": {},
     "output_type": "execute_result"
    }
   ],
   "source": [
    "expected"
   ]
  },
  {
   "cell_type": "code",
   "execution_count": 12,
   "id": "3fe78a71",
   "metadata": {},
   "outputs": [
    {
     "data": {
      "text/html": [
       "<div>\n",
       "<style scoped>\n",
       "    .dataframe tbody tr th:only-of-type {\n",
       "        vertical-align: middle;\n",
       "    }\n",
       "\n",
       "    .dataframe tbody tr th {\n",
       "        vertical-align: top;\n",
       "    }\n",
       "\n",
       "    .dataframe thead th {\n",
       "        text-align: right;\n",
       "    }\n",
       "</style>\n",
       "<table border=\"1\" class=\"dataframe\">\n",
       "  <thead>\n",
       "    <tr style=\"text-align: right;\">\n",
       "      <th></th>\n",
       "      <th>Smoker</th>\n",
       "      <th>Non-Smoker</th>\n",
       "    </tr>\n",
       "    <tr>\n",
       "      <th>Education</th>\n",
       "      <th></th>\n",
       "      <th></th>\n",
       "    </tr>\n",
       "  </thead>\n",
       "  <tbody>\n",
       "    <tr>\n",
       "      <th>High School</th>\n",
       "      <td>30</td>\n",
       "      <td>70</td>\n",
       "    </tr>\n",
       "    <tr>\n",
       "      <th>Undergraduate</th>\n",
       "      <td>40</td>\n",
       "      <td>60</td>\n",
       "    </tr>\n",
       "    <tr>\n",
       "      <th>Postgraduate</th>\n",
       "      <td>20</td>\n",
       "      <td>80</td>\n",
       "    </tr>\n",
       "  </tbody>\n",
       "</table>\n",
       "</div>"
      ],
      "text/plain": [
       "               Smoker  Non-Smoker\n",
       "Education                        \n",
       "High School        30          70\n",
       "Undergraduate      40          60\n",
       "Postgraduate       20          80"
      ]
     },
     "execution_count": 12,
     "metadata": {},
     "output_type": "execute_result"
    }
   ],
   "source": [
    "df"
   ]
  },
  {
   "cell_type": "markdown",
   "id": "1c2b2f35",
   "metadata": {},
   "source": [
    "hence p value is less than alpha we reject the null hypothesis. hence we dont have enough statistical evidence to conclude that smoking habits are independent of education level"
   ]
  },
  {
   "cell_type": "markdown",
   "id": "5f3378eb",
   "metadata": {},
   "source": [
    "**Example 3:** A company wants to determine if internet usage frequency (daily, rarely) is independent of age group (under 18, 18-35, over 35)."
   ]
  },
  {
   "cell_type": "code",
   "execution_count": 13,
   "id": "5895ac32",
   "metadata": {},
   "outputs": [
    {
     "data": {
      "text/html": [
       "<div>\n",
       "<style scoped>\n",
       "    .dataframe tbody tr th:only-of-type {\n",
       "        vertical-align: middle;\n",
       "    }\n",
       "\n",
       "    .dataframe tbody tr th {\n",
       "        vertical-align: top;\n",
       "    }\n",
       "\n",
       "    .dataframe thead th {\n",
       "        text-align: right;\n",
       "    }\n",
       "</style>\n",
       "<table border=\"1\" class=\"dataframe\">\n",
       "  <thead>\n",
       "    <tr style=\"text-align: right;\">\n",
       "      <th></th>\n",
       "      <th>Daily</th>\n",
       "      <th>Rarely</th>\n",
       "    </tr>\n",
       "    <tr>\n",
       "      <th>Age Group</th>\n",
       "      <th></th>\n",
       "      <th></th>\n",
       "    </tr>\n",
       "  </thead>\n",
       "  <tbody>\n",
       "    <tr>\n",
       "      <th>Under 18</th>\n",
       "      <td>120</td>\n",
       "      <td>30</td>\n",
       "    </tr>\n",
       "    <tr>\n",
       "      <th>18-35</th>\n",
       "      <td>200</td>\n",
       "      <td>50</td>\n",
       "    </tr>\n",
       "    <tr>\n",
       "      <th>Over 35</th>\n",
       "      <td>90</td>\n",
       "      <td>80</td>\n",
       "    </tr>\n",
       "  </tbody>\n",
       "</table>\n",
       "</div>"
      ],
      "text/plain": [
       "           Daily  Rarely\n",
       "Age Group               \n",
       "Under 18     120      30\n",
       "18-35        200      50\n",
       "Over 35       90      80"
      ]
     },
     "execution_count": 13,
     "metadata": {},
     "output_type": "execute_result"
    }
   ],
   "source": [
    "import pandas as pd\n",
    "data = {'Age Group': ['Under 18', '18-35', 'Over 35'], 'Daily': [120, 200, 90], 'Rarely': [30, 50, 80]}\n",
    "df = pd.DataFrame(data).set_index('Age Group')\n",
    "df"
   ]
  },
  {
   "cell_type": "markdown",
   "id": "049e190f",
   "metadata": {},
   "source": [
    "Testing the null hypothesis\n",
    "\n",
    ">$H_0:$ Internet usage is independent of group\n",
    "\n",
    "against the alternate hypothesis\n",
    "\n",
    ">$H_1:$ internet usage is dependent of group"
   ]
  },
  {
   "cell_type": "code",
   "execution_count": 14,
   "id": "f716c30f",
   "metadata": {},
   "outputs": [
    {
     "data": {
      "text/plain": [
       "4.0361504913600605e-10"
      ]
     },
     "execution_count": 14,
     "metadata": {},
     "output_type": "execute_result"
    }
   ],
   "source": [
    "#testing the hypothesis using p value\n",
    "chi2_stat,p_value,dof,expected=chi2_contingency(df)\n",
    "p_value"
   ]
  },
  {
   "cell_type": "code",
   "execution_count": 15,
   "id": "4c967d15",
   "metadata": {},
   "outputs": [
    {
     "data": {
      "text/plain": [
       "array([[107.89473684,  42.10526316],\n",
       "       [179.8245614 ,  70.1754386 ],\n",
       "       [122.28070175,  47.71929825]])"
      ]
     },
     "execution_count": 15,
     "metadata": {},
     "output_type": "execute_result"
    }
   ],
   "source": [
    "expected"
   ]
  },
  {
   "cell_type": "code",
   "execution_count": 16,
   "id": "7a5987fe",
   "metadata": {},
   "outputs": [
    {
     "data": {
      "text/plain": [
       "2"
      ]
     },
     "execution_count": 16,
     "metadata": {},
     "output_type": "execute_result"
    }
   ],
   "source": [
    "dof"
   ]
  },
  {
   "cell_type": "markdown",
   "id": "4a0cf3f3",
   "metadata": {},
   "source": [
    "hence p value is less than alpha we reject the null hypothesis. hence we dont have enough statistical evidence to conclude that internet usage is independent of group"
   ]
  },
  {
   "cell_type": "markdown",
   "id": "7b5e82cb",
   "metadata": {},
   "source": [
    "**Example 4:** The HR department wants to determine if there’s an association between employee department (Sales, Engineering, HR) and job satisfaction level (Satisfied, Dissatisfied). They want to know if satisfaction levels vary significantly across departments."
   ]
  },
  {
   "cell_type": "code",
   "execution_count": 17,
   "id": "355c9f35",
   "metadata": {},
   "outputs": [],
   "source": [
    "#Data\n",
    "import pandas as pd\n",
    "data = {'Department': ['Sales', 'Engineering', 'HR'], 'Satisfied': [90, 110, 80], 'Dissatisfied': [30, 40, 20]}\n",
    "df = pd.DataFrame(data).set_index('Department')\n"
   ]
  },
  {
   "cell_type": "code",
   "execution_count": 18,
   "id": "485de2d6",
   "metadata": {},
   "outputs": [
    {
     "data": {
      "text/html": [
       "<div>\n",
       "<style scoped>\n",
       "    .dataframe tbody tr th:only-of-type {\n",
       "        vertical-align: middle;\n",
       "    }\n",
       "\n",
       "    .dataframe tbody tr th {\n",
       "        vertical-align: top;\n",
       "    }\n",
       "\n",
       "    .dataframe thead th {\n",
       "        text-align: right;\n",
       "    }\n",
       "</style>\n",
       "<table border=\"1\" class=\"dataframe\">\n",
       "  <thead>\n",
       "    <tr style=\"text-align: right;\">\n",
       "      <th></th>\n",
       "      <th>Satisfied</th>\n",
       "      <th>Dissatisfied</th>\n",
       "    </tr>\n",
       "    <tr>\n",
       "      <th>Department</th>\n",
       "      <th></th>\n",
       "      <th></th>\n",
       "    </tr>\n",
       "  </thead>\n",
       "  <tbody>\n",
       "    <tr>\n",
       "      <th>Sales</th>\n",
       "      <td>90</td>\n",
       "      <td>30</td>\n",
       "    </tr>\n",
       "    <tr>\n",
       "      <th>Engineering</th>\n",
       "      <td>110</td>\n",
       "      <td>40</td>\n",
       "    </tr>\n",
       "    <tr>\n",
       "      <th>HR</th>\n",
       "      <td>80</td>\n",
       "      <td>20</td>\n",
       "    </tr>\n",
       "  </tbody>\n",
       "</table>\n",
       "</div>"
      ],
      "text/plain": [
       "             Satisfied  Dissatisfied\n",
       "Department                          \n",
       "Sales               90            30\n",
       "Engineering        110            40\n",
       "HR                  80            20"
      ]
     },
     "execution_count": 18,
     "metadata": {},
     "output_type": "execute_result"
    }
   ],
   "source": [
    "df"
   ]
  },
  {
   "cell_type": "markdown",
   "id": "361f2436",
   "metadata": {},
   "source": [
    "Testing the null hypothesis\n",
    "\n",
    ">$H_0:$ Job satisfaction level is independent of employee department.\n",
    "\n",
    "against the alternate hypothesis\n",
    "\n",
    ">$H_1:$ Job satisfaction level depends on employee department.\n"
   ]
  },
  {
   "cell_type": "code",
   "execution_count": 19,
   "id": "bdf49b55",
   "metadata": {
    "scrolled": true
   },
   "outputs": [
    {
     "data": {
      "text/plain": [
       "0.47408794626106643"
      ]
     },
     "execution_count": 19,
     "metadata": {},
     "output_type": "execute_result"
    }
   ],
   "source": [
    "#testing the hypothesis using p value\n",
    "chi2_stat,p_value,dof,expected=chi2_contingency(df)\n",
    "p_value"
   ]
  },
  {
   "cell_type": "code",
   "execution_count": 20,
   "id": "70214d96",
   "metadata": {},
   "outputs": [
    {
     "data": {
      "text/plain": [
       "array([[ 90.81081081,  29.18918919],\n",
       "       [113.51351351,  36.48648649],\n",
       "       [ 75.67567568,  24.32432432]])"
      ]
     },
     "execution_count": 20,
     "metadata": {},
     "output_type": "execute_result"
    }
   ],
   "source": [
    "expected"
   ]
  },
  {
   "cell_type": "code",
   "execution_count": 21,
   "id": "2ea896d7",
   "metadata": {},
   "outputs": [
    {
     "data": {
      "text/plain": [
       "2"
      ]
     },
     "execution_count": 21,
     "metadata": {},
     "output_type": "execute_result"
    }
   ],
   "source": [
    "dof"
   ]
  },
  {
   "cell_type": "markdown",
   "id": "daea8a51",
   "metadata": {},
   "source": [
    "since p value is greater than alpha we fail to reject the null hypotesis, hence we have enough statistical evidence to conclude that job satisfaction is independent of employee department"
   ]
  },
  {
   "cell_type": "markdown",
   "id": "3037e557",
   "metadata": {},
   "source": [
    "**Example 5:** Researchers want to investigate whether blood type (A, B, AB, O) is associated with disease presence (Yes, No). They hypothesize that disease occurrence may vary among different blood types."
   ]
  },
  {
   "cell_type": "code",
   "execution_count": 22,
   "id": "23795545",
   "metadata": {},
   "outputs": [],
   "source": [
    "import pandas as pd\n",
    "data = {'Blood Type': ['A', 'B', 'AB', 'O'], 'Disease Yes': [45, 35, 20, 50], 'Disease No': [155, 65, 30, 100]}\n",
    "df = pd.DataFrame(data).set_index('Blood Type')\n"
   ]
  },
  {
   "cell_type": "code",
   "execution_count": 23,
   "id": "35289701",
   "metadata": {},
   "outputs": [
    {
     "data": {
      "text/html": [
       "<div>\n",
       "<style scoped>\n",
       "    .dataframe tbody tr th:only-of-type {\n",
       "        vertical-align: middle;\n",
       "    }\n",
       "\n",
       "    .dataframe tbody tr th {\n",
       "        vertical-align: top;\n",
       "    }\n",
       "\n",
       "    .dataframe thead th {\n",
       "        text-align: right;\n",
       "    }\n",
       "</style>\n",
       "<table border=\"1\" class=\"dataframe\">\n",
       "  <thead>\n",
       "    <tr style=\"text-align: right;\">\n",
       "      <th></th>\n",
       "      <th>Disease Yes</th>\n",
       "      <th>Disease No</th>\n",
       "    </tr>\n",
       "    <tr>\n",
       "      <th>Blood Type</th>\n",
       "      <th></th>\n",
       "      <th></th>\n",
       "    </tr>\n",
       "  </thead>\n",
       "  <tbody>\n",
       "    <tr>\n",
       "      <th>A</th>\n",
       "      <td>45</td>\n",
       "      <td>155</td>\n",
       "    </tr>\n",
       "    <tr>\n",
       "      <th>B</th>\n",
       "      <td>35</td>\n",
       "      <td>65</td>\n",
       "    </tr>\n",
       "    <tr>\n",
       "      <th>AB</th>\n",
       "      <td>20</td>\n",
       "      <td>30</td>\n",
       "    </tr>\n",
       "    <tr>\n",
       "      <th>O</th>\n",
       "      <td>50</td>\n",
       "      <td>100</td>\n",
       "    </tr>\n",
       "  </tbody>\n",
       "</table>\n",
       "</div>"
      ],
      "text/plain": [
       "            Disease Yes  Disease No\n",
       "Blood Type                         \n",
       "A                    45         155\n",
       "B                    35          65\n",
       "AB                   20          30\n",
       "O                    50         100"
      ]
     },
     "execution_count": 23,
     "metadata": {},
     "output_type": "execute_result"
    }
   ],
   "source": [
    "df"
   ]
  },
  {
   "cell_type": "markdown",
   "id": "f1fc73fd",
   "metadata": {},
   "source": [
    "Testing the null hypothesis\n",
    "\n",
    ">$H_0:$ Disease presence is independent of blood type.\n",
    "\n",
    "against the alternate hypothesis\n",
    "\n",
    ">$H_1:$  Disease presence depends on blood type."
   ]
  },
  {
   "cell_type": "code",
   "execution_count": 24,
   "id": "03d4d60e",
   "metadata": {},
   "outputs": [
    {
     "data": {
      "text/plain": [
       "0.021081101112631517"
      ]
     },
     "execution_count": 24,
     "metadata": {},
     "output_type": "execute_result"
    }
   ],
   "source": [
    "#testing the hypothesis using p value\n",
    "chi2_stat,p_value,dof,expected=chi2_contingency(df)\n",
    "p_value"
   ]
  },
  {
   "cell_type": "code",
   "execution_count": 25,
   "id": "74c73d28",
   "metadata": {},
   "outputs": [
    {
     "data": {
      "text/plain": [
       "array([[ 60., 140.],\n",
       "       [ 30.,  70.],\n",
       "       [ 15.,  35.],\n",
       "       [ 45., 105.]])"
      ]
     },
     "execution_count": 25,
     "metadata": {},
     "output_type": "execute_result"
    }
   ],
   "source": [
    "expected"
   ]
  },
  {
   "cell_type": "code",
   "execution_count": 26,
   "id": "46efafac",
   "metadata": {},
   "outputs": [
    {
     "data": {
      "text/plain": [
       "3"
      ]
     },
     "execution_count": 26,
     "metadata": {},
     "output_type": "execute_result"
    }
   ],
   "source": [
    "dof"
   ]
  },
  {
   "cell_type": "markdown",
   "id": "2a20decb",
   "metadata": {},
   "source": [
    "hence p value is less than alpha we reject the null hypothesis. hence we dont have enough statistical evidence to conclude that Disease presence is independent of blood type"
   ]
  },
  {
   "cell_type": "markdown",
   "id": "ab3cd606",
   "metadata": {},
   "source": [
    "**Example 6:**  A consulting firm wants to determine whether education level (High School, Bachelor’s, Master’s, PhD) has an impact on career progression (Promoted, Not Promoted) across different departments and genders."
   ]
  },
  {
   "cell_type": "code",
   "execution_count": 27,
   "id": "e382f58c",
   "metadata": {},
   "outputs": [
    {
     "data": {
      "text/html": [
       "<div>\n",
       "<style scoped>\n",
       "    .dataframe tbody tr th:only-of-type {\n",
       "        vertical-align: middle;\n",
       "    }\n",
       "\n",
       "    .dataframe tbody tr th {\n",
       "        vertical-align: top;\n",
       "    }\n",
       "\n",
       "    .dataframe thead th {\n",
       "        text-align: right;\n",
       "    }\n",
       "</style>\n",
       "<table border=\"1\" class=\"dataframe\">\n",
       "  <thead>\n",
       "    <tr style=\"text-align: right;\">\n",
       "      <th></th>\n",
       "      <th>Department</th>\n",
       "      <th>Gender</th>\n",
       "      <th>Education</th>\n",
       "      <th>Promoted</th>\n",
       "      <th>Not Promoted</th>\n",
       "    </tr>\n",
       "  </thead>\n",
       "  <tbody>\n",
       "    <tr>\n",
       "      <th>0</th>\n",
       "      <td>Sales</td>\n",
       "      <td>Male</td>\n",
       "      <td>High School</td>\n",
       "      <td>20</td>\n",
       "      <td>60</td>\n",
       "    </tr>\n",
       "    <tr>\n",
       "      <th>1</th>\n",
       "      <td>Sales</td>\n",
       "      <td>Female</td>\n",
       "      <td>Bachelor's</td>\n",
       "      <td>35</td>\n",
       "      <td>65</td>\n",
       "    </tr>\n",
       "    <tr>\n",
       "      <th>2</th>\n",
       "      <td>Engineering</td>\n",
       "      <td>Male</td>\n",
       "      <td>Master's</td>\n",
       "      <td>50</td>\n",
       "      <td>50</td>\n",
       "    </tr>\n",
       "    <tr>\n",
       "      <th>3</th>\n",
       "      <td>HR</td>\n",
       "      <td>Female</td>\n",
       "      <td>PhD</td>\n",
       "      <td>15</td>\n",
       "      <td>25</td>\n",
       "    </tr>\n",
       "    <tr>\n",
       "      <th>4</th>\n",
       "      <td>Marketing</td>\n",
       "      <td>Female</td>\n",
       "      <td>High School</td>\n",
       "      <td>30</td>\n",
       "      <td>50</td>\n",
       "    </tr>\n",
       "    <tr>\n",
       "      <th>5</th>\n",
       "      <td>IT</td>\n",
       "      <td>Male</td>\n",
       "      <td>Bachelor's</td>\n",
       "      <td>45</td>\n",
       "      <td>55</td>\n",
       "    </tr>\n",
       "    <tr>\n",
       "      <th>6</th>\n",
       "      <td>Finance</td>\n",
       "      <td>Male</td>\n",
       "      <td>Master's</td>\n",
       "      <td>40</td>\n",
       "      <td>40</td>\n",
       "    </tr>\n",
       "  </tbody>\n",
       "</table>\n",
       "</div>"
      ],
      "text/plain": [
       "    Department  Gender    Education  Promoted  Not Promoted\n",
       "0        Sales    Male  High School        20            60\n",
       "1        Sales  Female   Bachelor's        35            65\n",
       "2  Engineering    Male     Master's        50            50\n",
       "3           HR  Female          PhD        15            25\n",
       "4    Marketing  Female  High School        30            50\n",
       "5           IT    Male   Bachelor's        45            55\n",
       "6      Finance    Male     Master's        40            40"
      ]
     },
     "execution_count": 27,
     "metadata": {},
     "output_type": "execute_result"
    }
   ],
   "source": [
    "#data\n",
    "data = {\n",
    "    'Department': ['Sales', 'Sales', 'Engineering', 'HR', 'Marketing', 'IT', 'Finance'],\n",
    "    'Gender': ['Male', 'Female', 'Male', 'Female', 'Female', 'Male', 'Male'],\n",
    "    'Education': ['High School', 'Bachelor\\'s', 'Master\\'s', 'PhD', 'High School', 'Bachelor\\'s', 'Master\\'s'],\n",
    "    'Promoted': [20, 35, 50, 15, 30, 45, 40],\n",
    "    'Not Promoted': [60, 65, 50, 25, 50, 55, 40]\n",
    "}\n",
    "\n",
    "df = pd.DataFrame(data)\n",
    "df"
   ]
  },
  {
   "cell_type": "markdown",
   "id": "eb331d09",
   "metadata": {},
   "source": [
    "Testing the null hypothesis\n",
    "\n",
    ">$H_0:$ Education level and career progression are independent\n",
    "\n",
    "against the alternate hypothesis\n",
    "\n",
    ">$H_1:$ Education level and career progression are dependent"
   ]
  },
  {
   "cell_type": "code",
   "execution_count": 28,
   "id": "f151c036",
   "metadata": {},
   "outputs": [
    {
     "data": {
      "text/plain": [
       "0.008378023801285984"
      ]
     },
     "execution_count": 28,
     "metadata": {},
     "output_type": "execute_result"
    }
   ],
   "source": [
    "#Testing the hypothesis using p value\n",
    "df = df.drop(columns=['Department', 'Gender'])\n",
    "contingency_table = df.set_index('Education')\n",
    "chi2_stat, p_value, dof, expected = stats.chi2_contingency(contingency_table)\n",
    "p_value"
   ]
  },
  {
   "cell_type": "code",
   "execution_count": 29,
   "id": "7ead2172",
   "metadata": {},
   "outputs": [
    {
     "data": {
      "text/plain": [
       "array([[32.4137931 , 47.5862069 ],\n",
       "       [40.51724138, 59.48275862],\n",
       "       [40.51724138, 59.48275862],\n",
       "       [16.20689655, 23.79310345],\n",
       "       [32.4137931 , 47.5862069 ],\n",
       "       [40.51724138, 59.48275862],\n",
       "       [32.4137931 , 47.5862069 ]])"
      ]
     },
     "execution_count": 29,
     "metadata": {},
     "output_type": "execute_result"
    }
   ],
   "source": [
    "expected"
   ]
  },
  {
   "cell_type": "code",
   "execution_count": 30,
   "id": "d10ea81c",
   "metadata": {},
   "outputs": [
    {
     "data": {
      "text/plain": [
       "6"
      ]
     },
     "execution_count": 30,
     "metadata": {},
     "output_type": "execute_result"
    }
   ],
   "source": [
    "dof"
   ]
  },
  {
   "cell_type": "markdown",
   "id": "c63ffe1e",
   "metadata": {},
   "source": [
    "since p value is less than alpha we reject the null hypothesis and hence we dont have enough statistical evidence to conclude that education level and carrer progression are independent"
   ]
  },
  {
   "cell_type": "markdown",
   "id": "ffecfbcd",
   "metadata": {},
   "source": [
    "**Example 7:** A company wants to determine if customer preferences between Brand A and Brand B are independent of the city in which they live. They survey customers in three cities (City 1, City 2, City 3) and record their preferences for either Brand A or Brand B."
   ]
  },
  {
   "cell_type": "code",
   "execution_count": 31,
   "id": "58670479",
   "metadata": {},
   "outputs": [
    {
     "data": {
      "text/html": [
       "<div>\n",
       "<style scoped>\n",
       "    .dataframe tbody tr th:only-of-type {\n",
       "        vertical-align: middle;\n",
       "    }\n",
       "\n",
       "    .dataframe tbody tr th {\n",
       "        vertical-align: top;\n",
       "    }\n",
       "\n",
       "    .dataframe thead th {\n",
       "        text-align: right;\n",
       "    }\n",
       "</style>\n",
       "<table border=\"1\" class=\"dataframe\">\n",
       "  <thead>\n",
       "    <tr style=\"text-align: right;\">\n",
       "      <th></th>\n",
       "      <th>City</th>\n",
       "      <th>Brand A</th>\n",
       "      <th>Brand B</th>\n",
       "    </tr>\n",
       "  </thead>\n",
       "  <tbody>\n",
       "    <tr>\n",
       "      <th>0</th>\n",
       "      <td>City 1</td>\n",
       "      <td>150</td>\n",
       "      <td>200</td>\n",
       "    </tr>\n",
       "    <tr>\n",
       "      <th>1</th>\n",
       "      <td>City 2</td>\n",
       "      <td>250</td>\n",
       "      <td>150</td>\n",
       "    </tr>\n",
       "    <tr>\n",
       "      <th>2</th>\n",
       "      <td>City 3</td>\n",
       "      <td>300</td>\n",
       "      <td>100</td>\n",
       "    </tr>\n",
       "  </tbody>\n",
       "</table>\n",
       "</div>"
      ],
      "text/plain": [
       "     City  Brand A  Brand B\n",
       "0  City 1      150      200\n",
       "1  City 2      250      150\n",
       "2  City 3      300      100"
      ]
     },
     "execution_count": 31,
     "metadata": {},
     "output_type": "execute_result"
    }
   ],
   "source": [
    "#Data\n",
    "data = {\n",
    "    'City': ['City 1', 'City 2', 'City 3'],\n",
    "    'Brand A': [150, 250, 300],\n",
    "    'Brand B': [200, 150, 100]\n",
    "}\n",
    "\n",
    "df = pd.DataFrame(data)\n",
    "df"
   ]
  },
  {
   "cell_type": "markdown",
   "id": "9cc1b0f2",
   "metadata": {},
   "source": [
    "Testing the null hypothesis\n",
    "\n",
    ">$H_0:$  Customer preference for Brand A or Brand B is independent of the city.\n",
    "\n",
    "against the alternate hypothesis\n",
    "\n",
    ">$H_1:$  Customer preference for Brand A or Brand B is dependent of the city."
   ]
  },
  {
   "cell_type": "code",
   "execution_count": 32,
   "id": "affbc2fc",
   "metadata": {},
   "outputs": [
    {
     "data": {
      "text/plain": [
       "1.85813982196859e-18"
      ]
     },
     "execution_count": 32,
     "metadata": {},
     "output_type": "execute_result"
    }
   ],
   "source": [
    "#testing the hypothesis\n",
    "contingency_table = df.drop(columns=['City'])\n",
    "chi2_stat, p_value, dof, expected = stats.chi2_contingency(contingency_table)\n",
    "p_value"
   ]
  },
  {
   "cell_type": "code",
   "execution_count": 33,
   "id": "28a80169",
   "metadata": {},
   "outputs": [
    {
     "data": {
      "text/plain": [
       "array([[213.04347826, 136.95652174],\n",
       "       [243.47826087, 156.52173913],\n",
       "       [243.47826087, 156.52173913]])"
      ]
     },
     "execution_count": 33,
     "metadata": {},
     "output_type": "execute_result"
    }
   ],
   "source": [
    "expected"
   ]
  },
  {
   "cell_type": "code",
   "execution_count": 34,
   "id": "d1b8f08b",
   "metadata": {},
   "outputs": [
    {
     "data": {
      "text/plain": [
       "2"
      ]
     },
     "execution_count": 34,
     "metadata": {},
     "output_type": "execute_result"
    }
   ],
   "source": [
    "dof"
   ]
  },
  {
   "cell_type": "markdown",
   "id": "d786e908",
   "metadata": {},
   "source": [
    "since p value is less than alpha we reject the null hypothesis and hence we dont have enough statistical evidence to conclude that Customer preference for Brand A or Brand B is independent of the city"
   ]
  },
  {
   "cell_type": "markdown",
   "id": "74f81227",
   "metadata": {},
   "source": [
    "**Example 8:** A health organization conducts a survey across three different age groups (18-29, 30-49, and 50+) to determine if there is an association between age and preference for different types of exercise (e.g., Gym, Yoga, and Outdoor activities). The data is collected as follows:"
   ]
  },
  {
   "cell_type": "code",
   "execution_count": 35,
   "id": "1f68ece2",
   "metadata": {
    "scrolled": true
   },
   "outputs": [
    {
     "data": {
      "text/html": [
       "<div>\n",
       "<style scoped>\n",
       "    .dataframe tbody tr th:only-of-type {\n",
       "        vertical-align: middle;\n",
       "    }\n",
       "\n",
       "    .dataframe tbody tr th {\n",
       "        vertical-align: top;\n",
       "    }\n",
       "\n",
       "    .dataframe thead th {\n",
       "        text-align: right;\n",
       "    }\n",
       "</style>\n",
       "<table border=\"1\" class=\"dataframe\">\n",
       "  <thead>\n",
       "    <tr style=\"text-align: right;\">\n",
       "      <th></th>\n",
       "      <th>Age Group</th>\n",
       "      <th>Gym</th>\n",
       "      <th>Yoga</th>\n",
       "      <th>Outdoor</th>\n",
       "    </tr>\n",
       "  </thead>\n",
       "  <tbody>\n",
       "    <tr>\n",
       "      <th>0</th>\n",
       "      <td>18-29</td>\n",
       "      <td>120</td>\n",
       "      <td>60</td>\n",
       "      <td>80</td>\n",
       "    </tr>\n",
       "    <tr>\n",
       "      <th>1</th>\n",
       "      <td>30-49</td>\n",
       "      <td>100</td>\n",
       "      <td>110</td>\n",
       "      <td>70</td>\n",
       "    </tr>\n",
       "    <tr>\n",
       "      <th>2</th>\n",
       "      <td>50+</td>\n",
       "      <td>40</td>\n",
       "      <td>90</td>\n",
       "      <td>70</td>\n",
       "    </tr>\n",
       "  </tbody>\n",
       "</table>\n",
       "</div>"
      ],
      "text/plain": [
       "  Age Group  Gym  Yoga  Outdoor\n",
       "0     18-29  120    60       80\n",
       "1     30-49  100   110       70\n",
       "2       50+   40    90       70"
      ]
     },
     "execution_count": 35,
     "metadata": {},
     "output_type": "execute_result"
    }
   ],
   "source": [
    "#Data\n",
    "data = {\n",
    "    'Age Group': ['18-29', '30-49', '50+'],\n",
    "    'Gym': [120, 100, 40],\n",
    "    'Yoga': [60, 110, 90],\n",
    "    'Outdoor': [80, 70, 70]\n",
    "}\n",
    "\n",
    "df = pd.DataFrame(data)\n",
    "df"
   ]
  },
  {
   "cell_type": "markdown",
   "id": "eb60f775",
   "metadata": {},
   "source": [
    "Testing the null hypothesis\n",
    "\n",
    ">$H_0:$ Age group and exercise preference is independent\n",
    "\n",
    "against the alternate hypothesis\n",
    "\n",
    ">$H_1:$ Age group and exercise preference is dependent"
   ]
  },
  {
   "cell_type": "code",
   "execution_count": 36,
   "id": "e07fd093",
   "metadata": {},
   "outputs": [
    {
     "data": {
      "text/plain": [
       "7.084492437489176e-09"
      ]
     },
     "execution_count": 36,
     "metadata": {},
     "output_type": "execute_result"
    }
   ],
   "source": [
    "#testing the hypothesis\n",
    "contingency_table = df.drop(columns=['Age Group'])\n",
    "chi2_stat, p_value, dof, expected = stats.chi2_contingency(contingency_table)\n",
    "p_value"
   ]
  },
  {
   "cell_type": "code",
   "execution_count": 37,
   "id": "2922ccad",
   "metadata": {},
   "outputs": [
    {
     "data": {
      "text/plain": [
       "array([[91.35135135, 91.35135135, 77.2972973 ],\n",
       "       [98.37837838, 98.37837838, 83.24324324],\n",
       "       [70.27027027, 70.27027027, 59.45945946]])"
      ]
     },
     "execution_count": 37,
     "metadata": {},
     "output_type": "execute_result"
    }
   ],
   "source": [
    "expected"
   ]
  },
  {
   "cell_type": "code",
   "execution_count": 38,
   "id": "b58fa362",
   "metadata": {},
   "outputs": [
    {
     "data": {
      "text/plain": [
       "4"
      ]
     },
     "execution_count": 38,
     "metadata": {},
     "output_type": "execute_result"
    }
   ],
   "source": [
    "dof"
   ]
  },
  {
   "cell_type": "markdown",
   "id": "aa910c84",
   "metadata": {},
   "source": [
    "hence p value is less than alpha we reject the null hypothesis and we dont have enough statistical evidence that Age group and exercise preference is independent\n"
   ]
  },
  {
   "cell_type": "code",
   "execution_count": null,
   "id": "aaec5945",
   "metadata": {},
   "outputs": [],
   "source": []
  }
 ],
 "metadata": {
  "kernelspec": {
   "display_name": "Python 3 (ipykernel)",
   "language": "python",
   "name": "python3"
  },
  "language_info": {
   "codemirror_mode": {
    "name": "ipython",
    "version": 3
   },
   "file_extension": ".py",
   "mimetype": "text/x-python",
   "name": "python",
   "nbconvert_exporter": "python",
   "pygments_lexer": "ipython3",
   "version": "3.11.5"
  }
 },
 "nbformat": 4,
 "nbformat_minor": 5
}
