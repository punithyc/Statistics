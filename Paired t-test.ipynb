{
 "cells": [
  {
   "cell_type": "code",
   "execution_count": 1,
   "id": "8ee6cd26",
   "metadata": {},
   "outputs": [],
   "source": [
    "import numpy as np\n",
    "import pandas as pd\n",
    "import matplotlib.pyplot as plt\n",
    "import seaborn as sns\n",
    "import plotly.express as px\n",
    "import scipy.stats as stats\n",
    "%matplotlib inline"
   ]
  },
  {
   "cell_type": "markdown",
   "id": "66ff003b",
   "metadata": {},
   "source": [
    "### Paired sample t test for equality of means"
   ]
  },
  {
   "cell_type": "markdown",
   "id": "aabba1bd",
   "metadata": {},
   "source": [
    "**Assumptions:** \n",
    "\n",
    "* continious data\n",
    "* Normally distributed populations\n",
    "* independent observations\n",
    "* Random sampling from the population"
   ]
  },
  {
   "cell_type": "markdown",
   "id": "90ca9f33",
   "metadata": {},
   "source": [
    "**Example 1:** A group of patients' blood pressure levels are measured before and after taking a new medication. We want to test if the medication significantly lowers blood pressure."
   ]
  },
  {
   "cell_type": "code",
   "execution_count": 2,
   "id": "45f9d6c9",
   "metadata": {},
   "outputs": [],
   "source": [
    "#Data\n",
    "before = [150, 145, 160, 155, 148]\n",
    "after =[140, 138, 152, 145, 142]"
   ]
  },
  {
   "cell_type": "markdown",
   "id": "cfd9aa72",
   "metadata": {},
   "source": [
    "Testing the null hypothesis\n",
    "\n",
    ">$H_0:\\mu_1=\\mu_2$\n",
    "\n",
    "against the alternate hypothesis\n",
    "\n",
    ">$H_1:\\mu_1<\\mu_2$"
   ]
  },
  {
   "cell_type": "code",
   "execution_count": 3,
   "id": "532f66ab",
   "metadata": {},
   "outputs": [
    {
     "data": {
      "text/plain": [
       "0.9997446366847184"
      ]
     },
     "execution_count": 3,
     "metadata": {},
     "output_type": "execute_result"
    }
   ],
   "source": [
    "#testing the hypothesis using p value\n",
    "t_stat,p_value=stats.ttest_rel(before,after,alternative='less')\n",
    "p_value"
   ]
  },
  {
   "cell_type": "markdown",
   "id": "8425810f",
   "metadata": {},
   "source": [
    "As p value is greater than alpha we fail to reject the null hypothesis hence we have enough statistical evidence to conclude that there is no change in blood pressure after and before the meditation"
   ]
  },
  {
   "cell_type": "code",
   "execution_count": 4,
   "id": "adfbe0f5",
   "metadata": {},
   "outputs": [
    {
     "data": {
      "text/plain": [
       "-2.1318467813362907"
      ]
     },
     "execution_count": 4,
     "metadata": {},
     "output_type": "execute_result"
    }
   ],
   "source": [
    "#testing the hypothesis using critical value\n",
    "alpha=0.05\n",
    "df=len(before)-1\n",
    "critical_value=stats.t.ppf(alpha,df)\n",
    "critical_value"
   ]
  },
  {
   "cell_type": "code",
   "execution_count": 5,
   "id": "bfaa787f",
   "metadata": {},
   "outputs": [
    {
     "data": {
      "text/plain": [
       "10.249999999999998"
      ]
     },
     "execution_count": 5,
     "metadata": {},
     "output_type": "execute_result"
    }
   ],
   "source": [
    "t_stat"
   ]
  },
  {
   "cell_type": "markdown",
   "id": "f99e33ac",
   "metadata": {},
   "source": [
    "since t_stat is less than the critical value we fail to reject the null hypothesis"
   ]
  },
  {
   "cell_type": "markdown",
   "id": "8280934a",
   "metadata": {},
   "source": [
    "### 2nd method"
   ]
  },
  {
   "cell_type": "code",
   "execution_count": 6,
   "id": "23f088a4",
   "metadata": {},
   "outputs": [
    {
     "data": {
      "text/plain": [
       "0.9999997484765496"
      ]
     },
     "execution_count": 6,
     "metadata": {},
     "output_type": "execute_result"
    }
   ],
   "source": [
    "#calculating the hypothesis using ttest_1samp and p_value\n",
    "differences=before=after\n",
    "t_stat,p_value=stats.ttest_1samp(differences,0,alternative='less')\n",
    "p_value"
   ]
  },
  {
   "cell_type": "markdown",
   "id": "fc12096c",
   "metadata": {},
   "source": [
    "since the p value is greater than alpha we fail to reject the null hypothesis"
   ]
  },
  {
   "cell_type": "markdown",
   "id": "2b9e4ef8",
   "metadata": {},
   "source": [
    "**Example 2:** Participants’ weights are recorded before and after a weight loss program. We want to test if the program is effective in reducing weight."
   ]
  },
  {
   "cell_type": "code",
   "execution_count": 7,
   "id": "bd0838ab",
   "metadata": {},
   "outputs": [],
   "source": [
    "# Weights before and after program\n",
    "before = [80, 85, 78, 90, 95]\n",
    "after = [76, 83, 75, 87, 92]"
   ]
  },
  {
   "cell_type": "markdown",
   "id": "ab71ce44",
   "metadata": {},
   "source": [
    "Testing the null hypothesis\n",
    "\n",
    ">$H_0:\\mu_1=\\mu_2$\n",
    "\n",
    "against the alternate hypothesis\n",
    "\n",
    ">$H_1:\\mu_1<\\mu_2$"
   ]
  },
  {
   "cell_type": "code",
   "execution_count": 8,
   "id": "01afb3c5",
   "metadata": {},
   "outputs": [
    {
     "data": {
      "text/plain": [
       "0.9996555453175302"
      ]
     },
     "execution_count": 8,
     "metadata": {},
     "output_type": "execute_result"
    }
   ],
   "source": [
    "#checking the hypothesis using p value\n",
    "t_stat,p_value=stats.ttest_rel(before,after,alternative='less')\n",
    "p_value"
   ]
  },
  {
   "cell_type": "markdown",
   "id": "063803a2",
   "metadata": {},
   "source": [
    "since p value is greater than alpha we fail to reject the null hypothesis\n",
    "hence we can conclude that we dont have enough statistical evidence to conclude that the weights are decreased"
   ]
  },
  {
   "cell_type": "code",
   "execution_count": 9,
   "id": "b681687e",
   "metadata": {},
   "outputs": [
    {
     "data": {
      "text/plain": [
       "-2.1318467813362907"
      ]
     },
     "execution_count": 9,
     "metadata": {},
     "output_type": "execute_result"
    }
   ],
   "source": [
    "#checking the hypothesis using critical value\n",
    "alpha=0.05\n",
    "df=len(before)-1\n",
    "critical_value=stats.t.ppf(alpha,df)\n",
    "critical_value"
   ]
  },
  {
   "cell_type": "code",
   "execution_count": 10,
   "id": "ecc69950",
   "metadata": {},
   "outputs": [
    {
     "data": {
      "text/plain": [
       "9.486832980505138"
      ]
     },
     "execution_count": 10,
     "metadata": {},
     "output_type": "execute_result"
    }
   ],
   "source": [
    "t_stat"
   ]
  },
  {
   "cell_type": "markdown",
   "id": "e5711792",
   "metadata": {},
   "source": [
    "since t_stat is less than the critical value we fail to reject the null hypothesis"
   ]
  },
  {
   "cell_type": "markdown",
   "id": "1c0ea24e",
   "metadata": {},
   "source": [
    "**Example 3:** Reaction times are measured before and after caffeine intake for a group of people. We want to test if caffeine intake improves reaction time (i.e., makes it faster).\n"
   ]
  },
  {
   "cell_type": "code",
   "execution_count": 11,
   "id": "83773df8",
   "metadata": {},
   "outputs": [],
   "source": [
    "# Reaction times before and after caffeine\n",
    "before = [0.7, 0.6, 0.8, 0.75, 0.72]\n",
    "after = [0.65, 0.55, 0.75, 0.70, 0.68]"
   ]
  },
  {
   "cell_type": "markdown",
   "id": "ae90c7b8",
   "metadata": {},
   "source": [
    "Testing the null hypothesis\n",
    "\n",
    ">$H_0:\\mu_1=\\mu_2$\n",
    "\n",
    "against the alternate hypothesis\n",
    "\n",
    ">$H_1:\\mu_1<\\mu_2$"
   ]
  },
  {
   "cell_type": "code",
   "execution_count": 12,
   "id": "cae3cf07",
   "metadata": {},
   "outputs": [
    {
     "data": {
      "text/plain": [
       "0.9999910614642413"
      ]
     },
     "execution_count": 12,
     "metadata": {},
     "output_type": "execute_result"
    }
   ],
   "source": [
    "#checking the hypothesis using p value\n",
    "t_stat,p_value=stats.ttest_rel(before,after,alternative='less')\n",
    "p_value"
   ]
  },
  {
   "cell_type": "markdown",
   "id": "d43c234a",
   "metadata": {},
   "source": [
    "since p value is greater than alpha we fail to reject the null hypothesis"
   ]
  },
  {
   "cell_type": "code",
   "execution_count": 13,
   "id": "380a4d8e",
   "metadata": {},
   "outputs": [
    {
     "data": {
      "text/plain": [
       "-2.1318467813362907"
      ]
     },
     "execution_count": 13,
     "metadata": {},
     "output_type": "execute_result"
    }
   ],
   "source": [
    "#checking the hypothesis using critical value\n",
    "alpha=0.05\n",
    "df=len(before)-1\n",
    "critical_value=stats.t.ppf(alpha,df)\n",
    "critical_value"
   ]
  },
  {
   "cell_type": "code",
   "execution_count": 14,
   "id": "5ff66a6c",
   "metadata": {},
   "outputs": [
    {
     "data": {
      "text/plain": [
       "23.99999999999983"
      ]
     },
     "execution_count": 14,
     "metadata": {},
     "output_type": "execute_result"
    }
   ],
   "source": [
    "t_stat"
   ]
  },
  {
   "cell_type": "markdown",
   "id": "f79ec40f",
   "metadata": {},
   "source": [
    "since t stat is less than the critical value we fail to reject the null hypothesis"
   ]
  },
  {
   "cell_type": "markdown",
   "id": "8556800d",
   "metadata": {},
   "source": [
    "**Example 4:** Memory recall scores are measured before and after a period of sleep for a group of individuals. We want to test if sleep improves memory recall."
   ]
  },
  {
   "cell_type": "code",
   "execution_count": 15,
   "id": "f6f44e0d",
   "metadata": {},
   "outputs": [],
   "source": [
    "# Recall scores before and after sleep\n",
    "before =[20, 18, 19, 22, 21]\n",
    "after = [24, 22, 23, 25, 23]"
   ]
  },
  {
   "cell_type": "markdown",
   "id": "b9e43f81",
   "metadata": {},
   "source": [
    "Testing the null hypothesis\n",
    "\n",
    ">$H_0:\\mu_1=\\mu_2$\n",
    "\n",
    "against the alternate hypothesis\n",
    "\n",
    ">$H_1:\\mu_1<\\mu_2$"
   ]
  },
  {
   "cell_type": "code",
   "execution_count": 16,
   "id": "74fb0877",
   "metadata": {},
   "outputs": [
    {
     "data": {
      "text/plain": [
       "0.9994747109646054"
      ]
     },
     "execution_count": 16,
     "metadata": {},
     "output_type": "execute_result"
    }
   ],
   "source": [
    "#checking the hypothesis using p value\n",
    "t_stat,p_value=stats.ttest_rel(before,after,alternative='greater')\n",
    "p_value"
   ]
  },
  {
   "cell_type": "markdown",
   "id": "4983be58",
   "metadata": {},
   "source": [
    "since the p value is greater than the alpha we fail to reject the null hypothesis"
   ]
  },
  {
   "cell_type": "code",
   "execution_count": 17,
   "id": "4d6cd2b2",
   "metadata": {},
   "outputs": [
    {
     "data": {
      "text/plain": [
       "2.13184678133629"
      ]
     },
     "execution_count": 17,
     "metadata": {},
     "output_type": "execute_result"
    }
   ],
   "source": [
    "#checking the hypothesis using critical value\n",
    "alpha=0.05\n",
    "df=len(before)-1\n",
    "critical_value=stats.t.ppf(1-alpha,df)\n",
    "critical_value"
   ]
  },
  {
   "cell_type": "code",
   "execution_count": 18,
   "id": "4f1ba98c",
   "metadata": {},
   "outputs": [
    {
     "data": {
      "text/plain": [
       "-8.5"
      ]
     },
     "execution_count": 18,
     "metadata": {},
     "output_type": "execute_result"
    }
   ],
   "source": [
    "t_stat"
   ]
  },
  {
   "cell_type": "markdown",
   "id": "66613f44",
   "metadata": {},
   "source": [
    "since t stat is less than the critical value we fail to reject the null hypothesis"
   ]
  },
  {
   "cell_type": "markdown",
   "id": "3f270c53",
   "metadata": {},
   "source": [
    "**Example 5:** Employees’ productivity scores are measured before and after participating in a training program. We want to determine if the training program has significantly increased productivity."
   ]
  },
  {
   "cell_type": "code",
   "execution_count": 19,
   "id": "e0ce3063",
   "metadata": {},
   "outputs": [],
   "source": [
    "# Productivity scores before and after training\n",
    "before = [55, 60, 58, 59, 62]\n",
    "after = [65, 68, 70, 66, 72]"
   ]
  },
  {
   "cell_type": "code",
   "execution_count": 20,
   "id": "32c0421d",
   "metadata": {},
   "outputs": [
    {
     "data": {
      "text/plain": [
       "0.999790233758192"
      ]
     },
     "execution_count": 20,
     "metadata": {},
     "output_type": "execute_result"
    }
   ],
   "source": [
    "#checking the hypothesis using p value\n",
    "t_stat,p_value=stats.ttest_rel(before,after,alternative='greater')\n",
    "p_value\n"
   ]
  },
  {
   "cell_type": "markdown",
   "id": "4453acc0",
   "metadata": {},
   "source": [
    "since p value is greater than alpha we fail to reject the null hypothesis"
   ]
  },
  {
   "cell_type": "code",
   "execution_count": 21,
   "id": "fcd6a7a0",
   "metadata": {},
   "outputs": [
    {
     "data": {
      "text/plain": [
       "2.13184678133629"
      ]
     },
     "execution_count": 21,
     "metadata": {},
     "output_type": "execute_result"
    }
   ],
   "source": [
    "#checking the hypothesis using critical value\n",
    "alpha=0.05\n",
    "df=len(before)-1\n",
    "critical_value=stats.t.ppf(1-alpha,df)\n",
    "critical_value\n"
   ]
  },
  {
   "cell_type": "code",
   "execution_count": 22,
   "id": "25a18831",
   "metadata": {},
   "outputs": [
    {
     "data": {
      "text/plain": [
       "-10.782539491916404"
      ]
     },
     "execution_count": 22,
     "metadata": {},
     "output_type": "execute_result"
    }
   ],
   "source": [
    "t_stat"
   ]
  },
  {
   "cell_type": "markdown",
   "id": "c2cbdbe6",
   "metadata": {},
   "source": [
    "since t_stat is less than the critical value we fail to reject the null hypothesis"
   ]
  }
 ],
 "metadata": {
  "kernelspec": {
   "display_name": "Python 3 (ipykernel)",
   "language": "python",
   "name": "python3"
  },
  "language_info": {
   "codemirror_mode": {
    "name": "ipython",
    "version": 3
   },
   "file_extension": ".py",
   "mimetype": "text/x-python",
   "name": "python",
   "nbconvert_exporter": "python",
   "pygments_lexer": "ipython3",
   "version": "3.11.5"
  }
 },
 "nbformat": 4,
 "nbformat_minor": 5
}
