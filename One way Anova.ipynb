{
 "cells": [
  {
   "cell_type": "code",
   "execution_count": 1,
   "id": "bf1dd120",
   "metadata": {},
   "outputs": [],
   "source": [
    "import numpy as np\n",
    "import pandas as pd\n",
    "import matplotlib.pyplot as plt\n",
    "import seaborn as sns\n",
    "import plotly.express as px\n",
    "import scipy.stats as stats\n",
    "%matplotlib inline"
   ]
  },
  {
   "cell_type": "markdown",
   "id": "b1c366be",
   "metadata": {},
   "source": [
    "### One way Anova"
   ]
  },
  {
   "cell_type": "markdown",
   "id": "d5b0255b",
   "metadata": {},
   "source": [
    "**Assumptions for one way Anova:** \n",
    "\n",
    "* The populations are normally distributed\n",
    "* Samples are independent simple random samples\n",
    "* The variances between groups should be similar."
   ]
  },
  {
   "cell_type": "markdown",
   "id": "9f1c19b7",
   "metadata": {},
   "source": [
    "**Example 1:** A restaurant chain manager wants to compare customer satisfaction ratings across four different branches in the city."
   ]
  },
  {
   "cell_type": "code",
   "execution_count": 2,
   "id": "bdf498cb",
   "metadata": {},
   "outputs": [],
   "source": [
    "#Data\n",
    "branch_A = [7.2, 7.5, 6.8, 8.0, 7.9, 7.3, 7.1, 6.9, 7.6, 7.4]\n",
    "branch_B = [6.8, 7.0, 7.2, 7.5, 6.9, 7.3, 6.7, 6.5, 7.1, 6.6]\n",
    "branch_C = [8.2, 8.1, 8.5, 8.3, 8.0, 7.9, 8.2, 8.4, 8.3, 8.5]\n",
    "branch_D = [7.0, 7.2, 6.8, 7.1, 7.4, 6.9, 7.0, 6.8, 7.1, 6.7]"
   ]
  },
  {
   "cell_type": "markdown",
   "id": "2e9c0bba",
   "metadata": {},
   "source": [
    "Testing the null hypothesis\n",
    "\n",
    ">$H_0:\\mu_1=\\mu_2=\\mu_3$\n",
    "\n",
    "against the alternate hypothesis\n",
    "\n",
    ">$H_1:$ At least one branch is different"
   ]
  },
  {
   "cell_type": "code",
   "execution_count": 3,
   "id": "259a290b",
   "metadata": {},
   "outputs": [
    {
     "name": "stdout",
     "output_type": "stream",
     "text": [
      "ShapiroResult(statistic=0.9695002436637878, pvalue=0.8861736059188843)\n",
      "ShapiroResult(statistic=0.9808780550956726, pvalue=0.9696930646896362)\n",
      "ShapiroResult(statistic=0.9540717601776123, pvalue=0.7167389392852783)\n",
      "ShapiroResult(statistic=0.9673692584037781, pvalue=0.8654400110244751)\n"
     ]
    }
   ],
   "source": [
    "#checking the assumptions\n",
    "#Normality\n",
    "norm_A=stats.shapiro(branch_A)\n",
    "norm_B=stats.shapiro(branch_B)\n",
    "norm_C=stats.shapiro(branch_C)\n",
    "norm_D=stats.shapiro(branch_D)\n",
    "print(norm_A)\n",
    "print(norm_B)\n",
    "print(norm_C)\n",
    "print(norm_D)"
   ]
  },
  {
   "cell_type": "markdown",
   "id": "ced68b27",
   "metadata": {},
   "source": [
    "Since the p values of all the branches is greater than 0.5 so we fail to reject the null hypothesis hence we conclude that data follows the normal distribution"
   ]
  },
  {
   "cell_type": "code",
   "execution_count": 4,
   "id": "d499830d",
   "metadata": {},
   "outputs": [
    {
     "data": {
      "text/plain": [
       "LeveneResult(statistic=2.1405919661733583, pvalue=0.11213898260203213)"
      ]
     },
     "execution_count": 4,
     "metadata": {},
     "output_type": "execute_result"
    }
   ],
   "source": [
    "#checking for homogenity of variances\n",
    "levene_test=stats.levene(branch_A, branch_B, branch_C, branch_D)\n",
    "levene_test"
   ]
  },
  {
   "cell_type": "markdown",
   "id": "b955fb8f",
   "metadata": {},
   "source": [
    "since the p value is greater than the 0.5 so it satisfies the assumption of homogenity of variances"
   ]
  },
  {
   "cell_type": "code",
   "execution_count": 5,
   "id": "9888c921",
   "metadata": {},
   "outputs": [
    {
     "data": {
      "text/plain": [
       "9.98794356190338e-12"
      ]
     },
     "execution_count": 5,
     "metadata": {},
     "output_type": "execute_result"
    }
   ],
   "source": [
    "#checking the hypothesis using p value\n",
    "f_stat,p_value=stats.f_oneway(branch_A, branch_B, branch_C, branch_D)\n",
    "p_value"
   ]
  },
  {
   "cell_type": "markdown",
   "id": "34189f69",
   "metadata": {},
   "source": [
    "As the p-value is much less than the significance level, we can reject the null hypothesis. Hence, we do have enough statistical significance to conclude that at least one branch is different from the rest at 5% significance level."
   ]
  },
  {
   "cell_type": "code",
   "execution_count": 32,
   "id": "e9c94388",
   "metadata": {},
   "outputs": [
    {
     "data": {
      "text/plain": [
       "2.866265550940178"
      ]
     },
     "execution_count": 32,
     "metadata": {},
     "output_type": "execute_result"
    }
   ],
   "source": [
    "#checking the hypothesis using critical value\n",
    "alpha=0.05\n",
    "df_between = 3  # 4 branches - 1\n",
    "df_within = len(branch_A) + len(branch_B) + len(branch_C) + len(branch_D) - 4\n",
    "critical_value = stats.f.ppf(1 - alpha, df_between, df_within)\n",
    "critical_value"
   ]
  },
  {
   "cell_type": "code",
   "execution_count": 7,
   "id": "4c0698a3",
   "metadata": {},
   "outputs": [
    {
     "data": {
      "text/plain": [
       "41.17351893816766"
      ]
     },
     "execution_count": 7,
     "metadata": {},
     "output_type": "execute_result"
    }
   ],
   "source": [
    "f_stat"
   ]
  },
  {
   "cell_type": "markdown",
   "id": "37f06f1c",
   "metadata": {},
   "source": [
    "since f stat is greater than the critical value we reject the null hypothesis"
   ]
  },
  {
   "cell_type": "markdown",
   "id": "7d1743f6",
   "metadata": {},
   "source": [
    "**Example 2:** A company wants to determine if sales volume differs among various sales regions (north, south, east, west) for a specific product."
   ]
  },
  {
   "cell_type": "code",
   "execution_count": 8,
   "id": "6b8ca799",
   "metadata": {},
   "outputs": [],
   "source": [
    "# Data\n",
    "region_North =[510, 520, 500, 495, 510, 505, 498, 520, 515, 500]\n",
    "region_South =[480, 470, 475, 465, 490, 485, 480, 475, 470, 460]\n",
    "region_East = [515, 510, 520, 505, 500, 510, 515, 520, 510, 505]\n",
    "region_West = [490, 495, 500, 485, 490, 485, 480, 475, 490, 485]"
   ]
  },
  {
   "cell_type": "markdown",
   "id": "574a590f",
   "metadata": {},
   "source": [
    "Testing the null hypothesis\n",
    "\n",
    ">$H_0:\\mu_1=\\mu_2=\\mu_3=\\mu_4$\n",
    "\n",
    "against the alternate hypothesis\n",
    "\n",
    ">$H_1:$ Atleast one region is different"
   ]
  },
  {
   "cell_type": "code",
   "execution_count": 9,
   "id": "1aee31cc",
   "metadata": {},
   "outputs": [
    {
     "name": "stdout",
     "output_type": "stream",
     "text": [
      "ShapiroResult(statistic=0.921709418296814, pvalue=0.371433287858963)\n",
      "ShapiroResult(statistic=0.9837162494659424, pvalue=0.9819299578666687)\n",
      "ShapiroResult(statistic=0.941914439201355, pvalue=0.5745060443878174)\n",
      "ShapiroResult(statistic=0.968424379825592, pvalue=0.875864565372467)\n"
     ]
    }
   ],
   "source": [
    "#checking the assumptions\n",
    "#normality\n",
    "norm_north=stats.shapiro(region_North)\n",
    "norm_south=stats.shapiro(region_South)\n",
    "norm_east=stats.shapiro(region_East)\n",
    "norm_west=stats.shapiro(region_West)\n",
    "print(norm_north)\n",
    "print(norm_south)\n",
    "print(norm_east)\n",
    "print(norm_west)"
   ]
  },
  {
   "cell_type": "markdown",
   "id": "c6e66cb2",
   "metadata": {},
   "source": [
    "Since the p values of all the regions is greater than 0.5 so we fail to reject the null hypothesis hence we conclude that data follows the normal distribution"
   ]
  },
  {
   "cell_type": "code",
   "execution_count": 10,
   "id": "04867d10",
   "metadata": {},
   "outputs": [
    {
     "data": {
      "text/plain": [
       "LeveneResult(statistic=0.7927031509121063, pvalue=0.5059804441707614)"
      ]
     },
     "execution_count": 10,
     "metadata": {},
     "output_type": "execute_result"
    }
   ],
   "source": [
    "#checking for homogenity of variances\n",
    "levene_test=stats.levene(region_North,region_South,region_East,region_West)\n",
    "levene_test"
   ]
  },
  {
   "cell_type": "markdown",
   "id": "839291b2",
   "metadata": {},
   "source": [
    "since the p value is greater than the 0.5 so it satisfies the assumption of homogenity of variances"
   ]
  },
  {
   "cell_type": "code",
   "execution_count": 11,
   "id": "bf2ffa55",
   "metadata": {},
   "outputs": [
    {
     "data": {
      "text/plain": [
       "3.817833379579858e-12"
      ]
     },
     "execution_count": 11,
     "metadata": {},
     "output_type": "execute_result"
    }
   ],
   "source": [
    "#checking the hypothesis using p value\n",
    "f_stat,p_value=stats.f_oneway(region_North,region_South,region_East,region_West)\n",
    "p_value"
   ]
  },
  {
   "cell_type": "markdown",
   "id": "27717160",
   "metadata": {},
   "source": [
    "since p value is less than alpha we reject the null hypothesis and hence we conclude that we do have enough statistical evidence that atleast one region is different from the others\n"
   ]
  },
  {
   "cell_type": "code",
   "execution_count": 12,
   "id": "db758d69",
   "metadata": {},
   "outputs": [
    {
     "data": {
      "text/plain": [
       "2.866265550940178"
      ]
     },
     "execution_count": 12,
     "metadata": {},
     "output_type": "execute_result"
    }
   ],
   "source": [
    "#checking the hypothesis using critical value\n",
    "alpha=0.05\n",
    "df_between=3\n",
    "#total no of observations - no of groups\n",
    "df_within=len(region_North)+len(region_South)+len(region_East)+len(region_West)-4\n",
    "critical_value=stats.f.ppf(1-alpha,df_between,df_within)\n",
    "critical_value\n"
   ]
  },
  {
   "cell_type": "code",
   "execution_count": 13,
   "id": "e852d10b",
   "metadata": {},
   "outputs": [
    {
     "data": {
      "text/plain": [
       "44.11376990547559"
      ]
     },
     "execution_count": 13,
     "metadata": {},
     "output_type": "execute_result"
    }
   ],
   "source": [
    "f_stat"
   ]
  },
  {
   "cell_type": "markdown",
   "id": "0ba8c2a2",
   "metadata": {},
   "source": [
    "since f stat is greater than the critical value we reject the null hypothesis"
   ]
  },
  {
   "cell_type": "markdown",
   "id": "0a9bac7f",
   "metadata": {},
   "source": [
    "**Example 3:** A teacher wants to check if different study methods (self-study, group study, tutoring, online course) impact student test scores in an exam."
   ]
  },
  {
   "cell_type": "code",
   "execution_count": 14,
   "id": "3a9b30e3",
   "metadata": {},
   "outputs": [],
   "source": [
    "# Data\n",
    "self_study = [65, 70, 68, 72, 66, 71, 69, 68, 70, 67]\n",
    "group_study =[75, 78, 72, 76, 77, 74, 75, 73, 76, 75]\n",
    "tutoring = [85, 82, 87, 84, 86, 83, 85, 86, 84, 82]\n",
    "online_course = [78, 79, 77, 76, 78, 80, 79, 78, 77, 78]"
   ]
  },
  {
   "cell_type": "markdown",
   "id": "94788af9",
   "metadata": {},
   "source": [
    "Testing the null hypothesis\n",
    "\n",
    ">$H_0:\\mu_1=\\mu_2=\\mu_3=\\mu_4$\n",
    "\n",
    "against the alternate hypothesis\n",
    "\n",
    ">$H_1:$ Atleast one method is different"
   ]
  },
  {
   "cell_type": "code",
   "execution_count": 15,
   "id": "163cde47",
   "metadata": {},
   "outputs": [
    {
     "name": "stdout",
     "output_type": "stream",
     "text": [
      "ShapiroResult(statistic=0.9779828190803528, pvalue=0.9534648656845093)\n",
      "ShapiroResult(statistic=0.9755175113677979, pvalue=0.9367681741714478)\n",
      "ShapiroResult(statistic=0.9433293342590332, pvalue=0.5906188488006592)\n",
      "ShapiroResult(statistic=0.9528768062591553, pvalue=0.7025895118713379)\n"
     ]
    }
   ],
   "source": [
    "#checking the assumptions\n",
    "#normality\n",
    "norm_self=stats.shapiro(self_study)\n",
    "norm_group=stats.shapiro(group_study)\n",
    "norm_tutoring=stats.shapiro(tutoring)\n",
    "norm_online=stats.shapiro(online_course)\n",
    "print(norm_self)\n",
    "print(norm_group)\n",
    "print(norm_tutoring)\n",
    "print(norm_online)"
   ]
  },
  {
   "cell_type": "markdown",
   "id": "a8779b13",
   "metadata": {},
   "source": [
    "Since the p values of all the methods is greater than 0.5 so we fail to reject the null hypothesis hence we conclude that data follows the normal distribution"
   ]
  },
  {
   "cell_type": "code",
   "execution_count": 16,
   "id": "c1f7d3ba",
   "metadata": {},
   "outputs": [
    {
     "data": {
      "text/plain": [
       "LeveneResult(statistic=1.659400544959128, pvalue=0.19298856149806995)"
      ]
     },
     "execution_count": 16,
     "metadata": {},
     "output_type": "execute_result"
    }
   ],
   "source": [
    "#checking for homogenity of variances\n",
    "levene_test=stats.levene(self_study,group_study,tutoring,online_course)\n",
    "levene_test"
   ]
  },
  {
   "cell_type": "markdown",
   "id": "976bb6ee",
   "metadata": {},
   "source": [
    "since p value is greater than 0.5 we can conlcude that it satisfies the assumption of homogenity of variances"
   ]
  },
  {
   "cell_type": "code",
   "execution_count": 17,
   "id": "343b7e7b",
   "metadata": {},
   "outputs": [
    {
     "data": {
      "text/plain": [
       "7.862567981806783e-20"
      ]
     },
     "execution_count": 17,
     "metadata": {},
     "output_type": "execute_result"
    }
   ],
   "source": [
    "#checking the hypothesis using p value\n",
    "f_stat,p_value=stats.f_oneway(self_study,group_study,tutoring,online_course)\n",
    "p_value"
   ]
  },
  {
   "cell_type": "markdown",
   "id": "153815e8",
   "metadata": {},
   "source": [
    "since p value is less than alpha we reject the null hypothesis and hence we conclude that we do have enough statistical evidence that atleast one method is different from the others"
   ]
  },
  {
   "cell_type": "code",
   "execution_count": 18,
   "id": "e3dae3bb",
   "metadata": {},
   "outputs": [
    {
     "data": {
      "text/plain": [
       "2.866265550940178"
      ]
     },
     "execution_count": 18,
     "metadata": {},
     "output_type": "execute_result"
    }
   ],
   "source": [
    "#checking the hypothesis using critical value\n",
    "alpha=0.05\n",
    "df_between=3\n",
    "df_within=len(self_study)+len(group_study)+len(tutoring)+len(online_course)-4\n",
    "critical_value=stats.f.ppf(1-alpha,df_between,df_within)\n",
    "critical_value"
   ]
  },
  {
   "cell_type": "code",
   "execution_count": 19,
   "id": "b4f9c8bb",
   "metadata": {},
   "outputs": [
    {
     "data": {
      "text/plain": [
       "138.6150402864816"
      ]
     },
     "execution_count": 19,
     "metadata": {},
     "output_type": "execute_result"
    }
   ],
   "source": [
    "f_stat"
   ]
  },
  {
   "cell_type": "markdown",
   "id": "ab1fc364",
   "metadata": {},
   "source": [
    "since f stat is greater than the critical value we reject the null hypothesis"
   ]
  },
  {
   "cell_type": "markdown",
   "id": "e0c8c1d4",
   "metadata": {},
   "source": [
    "**Example 4:** An agricultural scientist investigates whether three different fertilizers (A, B, C) have different effects on plant growth."
   ]
  },
  {
   "cell_type": "code",
   "execution_count": 20,
   "id": "f0706b3d",
   "metadata": {},
   "outputs": [],
   "source": [
    "#Data\n",
    "fertilizer_A = [25, 28, 26, 27, 29, 30, 25, 28, 27, 26]\n",
    "fertilizer_B = [35, 32, 34, 36, 33, 31, 33, 34, 35, 32]\n",
    "fertilizer_C = [40, 42, 41, 39, 40, 38, 41, 39, 40, 41]"
   ]
  },
  {
   "cell_type": "markdown",
   "id": "944e7f20",
   "metadata": {},
   "source": [
    "Testing the null hypothesis\n",
    "\n",
    ">$H_0:\\mu_1=\\mu_2=\\mu_3=\\mu_4$\n",
    "\n",
    "against the alternate hypothesis\n",
    "\n",
    ">$H_1$: At least one fertilizer type is different"
   ]
  },
  {
   "cell_type": "code",
   "execution_count": 21,
   "id": "cea6afc1",
   "metadata": {},
   "outputs": [
    {
     "name": "stdout",
     "output_type": "stream",
     "text": [
      "ShapiroResult(statistic=0.9480838179588318, pvalue=0.6458873152732849)\n",
      "ShapiroResult(statistic=0.9657219052314758, pvalue=0.8485973477363586)\n",
      "ShapiroResult(statistic=0.9519404172897339, pvalue=0.6914891600608826)\n"
     ]
    }
   ],
   "source": [
    "#checking the assumptions\n",
    "#normality\n",
    "norm_a=stats.shapiro(fertilizer_A)\n",
    "norm_b=stats.shapiro(fertilizer_B)\n",
    "norm_c=stats.shapiro(fertilizer_C)\n",
    "print(norm_a)\n",
    "print(norm_b)\n",
    "print(norm_c)"
   ]
  },
  {
   "cell_type": "markdown",
   "id": "3fb773ff",
   "metadata": {},
   "source": [
    "Since the p values of all the fertilizers is greater than 0.5 so we fail to reject the null hypothesis hence we conclude that data follows the normal distribution"
   ]
  },
  {
   "cell_type": "code",
   "execution_count": 22,
   "id": "7b902b40",
   "metadata": {},
   "outputs": [
    {
     "data": {
      "text/plain": [
       "LeveneResult(statistic=0.7741935483870969, pvalue=0.47104188740573744)"
      ]
     },
     "execution_count": 22,
     "metadata": {},
     "output_type": "execute_result"
    }
   ],
   "source": [
    "#checking the homogenity of variances\n",
    "levene_test=stats.levene(fertilizer_A,fertilizer_B,fertilizer_C)\n",
    "levene_test"
   ]
  },
  {
   "cell_type": "markdown",
   "id": "ea4106bc",
   "metadata": {},
   "source": [
    "since p value is greater than 0.5 we can conlcude that it satisfies the assumption of homogenity of variances"
   ]
  },
  {
   "cell_type": "code",
   "execution_count": 23,
   "id": "65bac196",
   "metadata": {},
   "outputs": [
    {
     "data": {
      "text/plain": [
       "1.3096430809752792e-16"
      ]
     },
     "execution_count": 23,
     "metadata": {},
     "output_type": "execute_result"
    }
   ],
   "source": [
    "#checking the hypothesis using p value\n",
    "f_stat,p_value=stats.f_oneway(fertilizer_A,fertilizer_B,fertilizer_C)\n",
    "p_value"
   ]
  },
  {
   "cell_type": "markdown",
   "id": "a0a7f1a5",
   "metadata": {},
   "source": [
    "since p value is less than alpha we reject the null hypothesis and hence we conclude that we do have enough statistical evidence that atleast one fertilizer is different from the others"
   ]
  },
  {
   "cell_type": "code",
   "execution_count": 24,
   "id": "6e75a71f",
   "metadata": {},
   "outputs": [
    {
     "data": {
      "text/plain": [
       "3.3541308285291986"
      ]
     },
     "execution_count": 24,
     "metadata": {},
     "output_type": "execute_result"
    }
   ],
   "source": [
    "#checking the hypothesis using crtical value\n",
    "alpha=0.05\n",
    "df_between=2\n",
    "df_within=len(fertilizer_A)+len(fertilizer_B)+len(fertilizer_C)-3\n",
    "critical_value=stats.f.ppf(1-alpha,df_between,df_within)\n",
    "critical_value"
   ]
  },
  {
   "cell_type": "code",
   "execution_count": 25,
   "id": "97563bf9",
   "metadata": {},
   "outputs": [
    {
     "data": {
      "text/plain": [
       "189.19402985074603"
      ]
     },
     "execution_count": 25,
     "metadata": {},
     "output_type": "execute_result"
    }
   ],
   "source": [
    "f_stat"
   ]
  },
  {
   "cell_type": "markdown",
   "id": "2c0f433a",
   "metadata": {},
   "source": [
    "since f_stat is greater than critical value we reject the null hypothesis"
   ]
  },
  {
   "cell_type": "markdown",
   "id": "c81f040e",
   "metadata": {},
   "source": [
    "**Example 5:** An HR manager wants to test if there are productivity differences between employees in different departments (sales, marketing, IT, finance)."
   ]
  },
  {
   "cell_type": "code",
   "execution_count": 26,
   "id": "25f3afbb",
   "metadata": {},
   "outputs": [],
   "source": [
    "# Data\n",
    "hr = [50, 55, 60, 58, 53, 52, 54, 51, 56, 59]\n",
    "it = [70, 75, 78, 72, 76, 73, 74, 71, 77, 75]\n",
    "marketing = [65, 67, 69, 66, 68, 64, 62, 63, 66, 65]\n",
    "sales = [85, 88, 90, 92, 89, 87, 88, 91, 90, 89]"
   ]
  },
  {
   "cell_type": "markdown",
   "id": "807f4709",
   "metadata": {},
   "source": [
    "Testing the null hypothesis\n",
    "\n",
    ">$H_0:\\mu_1=\\mu_2=\\mu_3=\\mu_4$\n",
    "\n",
    "against the alternate hypothesis\n",
    "\n",
    ">$H_1:$ Atleast one department is different"
   ]
  },
  {
   "cell_type": "code",
   "execution_count": 27,
   "id": "91484864",
   "metadata": {},
   "outputs": [
    {
     "name": "stdout",
     "output_type": "stream",
     "text": [
      "ShapiroResult(statistic=0.9590273499488831, pvalue=0.7747271656990051)\n",
      "ShapiroResult(statistic=0.9752339720726013, pvalue=0.9346861243247986)\n",
      "ShapiroResult(statistic=0.9839820861816406, pvalue=0.9828903079032898)\n",
      "ShapiroResult(statistic=0.9776149988174438, pvalue=0.951137900352478)\n"
     ]
    }
   ],
   "source": [
    "#checking the assumptions\n",
    "#normality\n",
    "norm_hr=stats.shapiro(hr)\n",
    "norm_it=stats.shapiro(it)\n",
    "norm_market=stats.shapiro(marketing)\n",
    "norm_sales=stats.shapiro(sales)\n",
    "print(norm_hr)\n",
    "print(norm_it)\n",
    "print(norm_market)\n",
    "print(norm_sales)"
   ]
  },
  {
   "cell_type": "markdown",
   "id": "a624e602",
   "metadata": {},
   "source": [
    "Since the p values of all the fertilizers is greater than 0.05 so we fail to reject the null hypothesis hence we conclude that data follows the normal distribution"
   ]
  },
  {
   "cell_type": "code",
   "execution_count": 28,
   "id": "1c7c62fc",
   "metadata": {},
   "outputs": [
    {
     "data": {
      "text/plain": [
       "LeveneResult(statistic=1.5884718498659514, pvalue=0.2090884487096653)"
      ]
     },
     "execution_count": 28,
     "metadata": {},
     "output_type": "execute_result"
    }
   ],
   "source": [
    "#checking the homogenity of variances\n",
    "levene_test=stats.levene(hr,it,marketing,sales)\n",
    "levene_test"
   ]
  },
  {
   "cell_type": "markdown",
   "id": "885eea81",
   "metadata": {},
   "source": [
    "since p value is greater than 0.05 we can conlcude that it satisfies the assumption of homogenity of variances"
   ]
  },
  {
   "cell_type": "code",
   "execution_count": 29,
   "id": "0ce64b7f",
   "metadata": {},
   "outputs": [
    {
     "data": {
      "text/plain": [
       "1.3069119759518921e-25"
      ]
     },
     "execution_count": 29,
     "metadata": {},
     "output_type": "execute_result"
    }
   ],
   "source": [
    "#checking the hypothesis p value\n",
    "f_stat,p_value=stats.f_oneway(it,hr,marketing,sales)\n",
    "p_value"
   ]
  },
  {
   "cell_type": "markdown",
   "id": "97f28ddd",
   "metadata": {},
   "source": [
    "since p value is less than alpha we reject the null hypothesis and hence we conclude that we do have enough statistical evidence that atleast one department is different from the others"
   ]
  },
  {
   "cell_type": "code",
   "execution_count": 30,
   "id": "1d16d7b4",
   "metadata": {},
   "outputs": [
    {
     "data": {
      "text/plain": [
       "2.8387453980206443"
      ]
     },
     "execution_count": 30,
     "metadata": {},
     "output_type": "execute_result"
    }
   ],
   "source": [
    "#checking the hypothesis critical value\n",
    "alpha=0.05\n",
    "df_between=3\n",
    "df_within=len(it)+len(hr)+len(marketing)+len(sales)\n",
    "critical_value=stats.f.ppf(1-alpha,df_between,df_within)\n",
    "critical_value"
   ]
  },
  {
   "cell_type": "code",
   "execution_count": 31,
   "id": "92880c68",
   "metadata": {},
   "outputs": [
    {
     "data": {
      "text/plain": [
       "303.82472549817044"
      ]
     },
     "execution_count": 31,
     "metadata": {},
     "output_type": "execute_result"
    }
   ],
   "source": [
    "f_stat"
   ]
  },
  {
   "cell_type": "markdown",
   "id": "480ba5d8",
   "metadata": {},
   "source": [
    "since f_stat is greater than critical value we reject the null hypothesis"
   ]
  },
  {
   "cell_type": "markdown",
   "id": "7b89cc78",
   "metadata": {},
   "source": [
    "**Example 6:** A school wants to test if three different teaching methods (Traditional, Online, Blended) have a significant effect on student performance in a final exam."
   ]
  },
  {
   "cell_type": "code",
   "execution_count": 34,
   "id": "043e86e0",
   "metadata": {},
   "outputs": [],
   "source": [
    "# Data\n",
    "traditional = [65, 70, 75, 68, 64, 66, 72]\n",
    "online = [80, 82, 85, 83, 79, 84, 81]\n",
    "blended = [75, 78, 80, 76, 74, 79, 77]"
   ]
  },
  {
   "cell_type": "markdown",
   "id": "78973205",
   "metadata": {},
   "source": [
    "Testing the null hypothesis\n",
    "\n",
    ">$H_0:\\mu_1=\\mu_2=\\mu_3$\n",
    "\n",
    "against the alternate hypothesis\n",
    "\n",
    ">$H_1:$ Atleast one teaching method is different"
   ]
  },
  {
   "cell_type": "code",
   "execution_count": 36,
   "id": "d86092ae",
   "metadata": {},
   "outputs": [
    {
     "name": "stdout",
     "output_type": "stream",
     "text": [
      "ShapiroResult(statistic=0.9508326649665833, pvalue=0.7372733354568481)\n",
      "ShapiroResult(statistic=0.9780016541481018, pvalue=0.9492886662483215)\n",
      "ShapiroResult(statistic=0.9780016541481018, pvalue=0.9492886662483215)\n"
     ]
    }
   ],
   "source": [
    "#checking the assumptions\n",
    "#normality\n",
    "norm_traditional=stats.shapiro(traditional)\n",
    "norm_online=stats.shapiro(online)\n",
    "norm_blended=stats.shapiro(blended)\n",
    "print(norm_traditional)\n",
    "print(norm_online)\n",
    "print(norm_blended)"
   ]
  },
  {
   "cell_type": "markdown",
   "id": "7cead5db",
   "metadata": {},
   "source": [
    "Since the p values of all the fertilizers is greater than 0.5 so we fail to reject the null hypothesis hence we conclude that data follows the normal distribution"
   ]
  },
  {
   "cell_type": "code",
   "execution_count": 38,
   "id": "2398ce1d",
   "metadata": {},
   "outputs": [
    {
     "data": {
      "text/plain": [
       "LeveneResult(statistic=1.9607843137254901, pvalue=0.16967110914936154)"
      ]
     },
     "execution_count": 38,
     "metadata": {},
     "output_type": "execute_result"
    }
   ],
   "source": [
    "#checking for the homogenity of variances\n",
    "levene_test=stats.levene(traditional,online,blended)\n",
    "levene_test"
   ]
  },
  {
   "cell_type": "markdown",
   "id": "a44a0929",
   "metadata": {},
   "source": [
    "since p value is greater than 0.05 we can conlcude that it satisfies the assumption of homogenity of variances"
   ]
  },
  {
   "cell_type": "code",
   "execution_count": 39,
   "id": "2e25b36f",
   "metadata": {},
   "outputs": [
    {
     "data": {
      "text/plain": [
       "3.2977350858444203e-07"
      ]
     },
     "execution_count": 39,
     "metadata": {},
     "output_type": "execute_result"
    }
   ],
   "source": [
    "#checking the hypothesis using p value\n",
    "f_stat,p_value=stats.f_oneway(traditional,online,blended)\n",
    "p_value"
   ]
  },
  {
   "cell_type": "markdown",
   "id": "7f7129d6",
   "metadata": {},
   "source": [
    "since p value is less than alpha we reject the null hypothesis and hence we conclude that we do have enough statistical evidence that atleast one teaching method is different from the others"
   ]
  },
  {
   "cell_type": "code",
   "execution_count": 40,
   "id": "1e17baa6",
   "metadata": {},
   "outputs": [
    {
     "data": {
      "text/plain": [
       "3.554557145661787"
      ]
     },
     "execution_count": 40,
     "metadata": {},
     "output_type": "execute_result"
    }
   ],
   "source": [
    "#checking the hypothesis using critical value\n",
    "alpha=0.05\n",
    "df_between=2\n",
    "df_within=len(traditional)+len(online)+len(blended)-3\n",
    "critical_value=stats.f.ppf(1-alpha,df_between,df_within)\n",
    "critical_value"
   ]
  },
  {
   "cell_type": "code",
   "execution_count": 41,
   "id": "f36e5e20",
   "metadata": {},
   "outputs": [
    {
     "data": {
      "text/plain": [
       "38.25423728813558"
      ]
     },
     "execution_count": 41,
     "metadata": {},
     "output_type": "execute_result"
    }
   ],
   "source": [
    "f_stat"
   ]
  },
  {
   "cell_type": "markdown",
   "id": "e3f993a6",
   "metadata": {},
   "source": [
    "since f stat is greater than the critical value we reject the null hypothesis"
   ]
  },
  {
   "cell_type": "markdown",
   "id": "c0863f3f",
   "metadata": {},
   "source": [
    "**Example 7:** A market research company wants to compare coffee consumption preferences (e.g., Black, Espresso, Latte) among three different age groups: 18-30, 31-50, and 51+."
   ]
  },
  {
   "cell_type": "code",
   "execution_count": 43,
   "id": "a28ca380",
   "metadata": {},
   "outputs": [],
   "source": [
    "# Data\n",
    "age_18_30 = [30, 32, 35, 34, 31]\n",
    "age_31_50 = [50, 52, 55, 51, 53]\n",
    "age_51_plus =[45, 44, 46, 47, 45]"
   ]
  },
  {
   "cell_type": "markdown",
   "id": "ead838c2",
   "metadata": {},
   "source": [
    "Testing the null hypothesis\n",
    "\n",
    ">$H_0:\\mu_1=\\mu_2=\\mu_3$\n",
    "\n",
    "against the alternate hypothesis\n",
    "\n",
    ">$H_1:$ Atleast one age group is different."
   ]
  },
  {
   "cell_type": "code",
   "execution_count": 45,
   "id": "54ec7e06",
   "metadata": {},
   "outputs": [
    {
     "name": "stdout",
     "output_type": "stream",
     "text": [
      "ShapiroResult(statistic=0.9523513913154602, pvalue=0.753972589969635)\n",
      "ShapiroResult(statistic=0.9787160754203796, pvalue=0.9276362061500549)\n",
      "ShapiroResult(statistic=0.9608590006828308, pvalue=0.8139519691467285)\n"
     ]
    }
   ],
   "source": [
    "#checking the assumptions\n",
    "#normality\n",
    "norm18_30=stats.shapiro(age_18_30)\n",
    "norm31_50=stats.shapiro(age_31_50)\n",
    "norm51_plus=stats.shapiro(age_51_plus)\n",
    "print(norm18_30)\n",
    "print(norm31_50)\n",
    "print(norm51_plus)"
   ]
  },
  {
   "cell_type": "markdown",
   "id": "f516c53c",
   "metadata": {},
   "source": [
    "Since the p values of all the fertilizers is greater than 0.5 so we fail to reject the null hypothesis hence we conclude that data follows the normal distribution"
   ]
  },
  {
   "cell_type": "code",
   "execution_count": 46,
   "id": "354d3b8e",
   "metadata": {
    "scrolled": true
   },
   "outputs": [
    {
     "data": {
      "text/plain": [
       "LeveneResult(statistic=0.7878787878787876, pvalue=0.4769831436572204)"
      ]
     },
     "execution_count": 46,
     "metadata": {},
     "output_type": "execute_result"
    }
   ],
   "source": [
    "#checking the homogenity of variances\n",
    "levene_test=stats.levene(age_18_30,age_31_50,age_51_plus)\n",
    "levene_test\n"
   ]
  },
  {
   "cell_type": "markdown",
   "id": "f2f719bf",
   "metadata": {},
   "source": [
    "since p value is greater than 0.05 we can conlcude that it satisfies the assumption of homogenity of variances"
   ]
  },
  {
   "cell_type": "code",
   "execution_count": 47,
   "id": "4187a08c",
   "metadata": {},
   "outputs": [
    {
     "data": {
      "text/plain": [
       "0.6554672203185187"
      ]
     },
     "execution_count": 47,
     "metadata": {},
     "output_type": "execute_result"
    }
   ],
   "source": [
    "#checking the hypothesis using p value\n",
    "f_stat,p_value=stats.f_oneway(norm18_30,norm31_50,norm51_plus)\n",
    "p_value"
   ]
  },
  {
   "cell_type": "markdown",
   "id": "a9763fd7",
   "metadata": {},
   "source": [
    "since p value is greater than alpha we reject the null hypothesis and hence we conclude that we don't have enough statistical evidence that atleast one age group is different from the others"
   ]
  },
  {
   "cell_type": "code",
   "execution_count": 48,
   "id": "669e4020",
   "metadata": {},
   "outputs": [
    {
     "data": {
      "text/plain": [
       "3.8852938346523946"
      ]
     },
     "execution_count": 48,
     "metadata": {},
     "output_type": "execute_result"
    }
   ],
   "source": [
    "#checking the hypothesis critical value\n",
    "alpha=0.05\n",
    "df_between=2\n",
    "df_within=len(age_18_30)+len(age_31_50)+len(age_51_plus)-3\n",
    "critical_value=stats.f.ppf(1-alpha,df_between,df_within)\n",
    "critical_value"
   ]
  },
  {
   "cell_type": "code",
   "execution_count": 49,
   "id": "4853f547",
   "metadata": {},
   "outputs": [
    {
     "data": {
      "text/plain": [
       "0.4878820276037316"
      ]
     },
     "execution_count": 49,
     "metadata": {},
     "output_type": "execute_result"
    }
   ],
   "source": [
    "f_stat"
   ]
  },
  {
   "cell_type": "markdown",
   "id": "5e5584a1",
   "metadata": {},
   "source": [
    "since f_stat is less than the critical value we fail to reject the null hypothesis"
   ]
  },
  {
   "cell_type": "markdown",
   "id": "c08cff62",
   "metadata": {},
   "source": [
    "**Example 8:** A clinical trial is testing three types of diets (Low-fat, Mediterranean, Keto) to see if they have different effects on cholesterol levels."
   ]
  },
  {
   "cell_type": "code",
   "execution_count": 50,
   "id": "b4b12664",
   "metadata": {},
   "outputs": [],
   "source": [
    "# Data\n",
    "low_fat = [190, 195, 200, 180, 185]\n",
    "mediterranean = [170, 175, 165, 180, 185]\n",
    "keto = [160, 155, 150, 145, 160]"
   ]
  },
  {
   "cell_type": "markdown",
   "id": "90c80945",
   "metadata": {},
   "source": [
    "testing the null hypothesis$\n",
    "\n",
    ">$H_0:\\mu_1=\\mu_2=\\mu_3$\n",
    "\n",
    "against the alternate hypothesis\n",
    "\n",
    ">$H_1:$ Atleast one cholesterol level is different"
   ]
  },
  {
   "cell_type": "code",
   "execution_count": 51,
   "id": "11549d39",
   "metadata": {},
   "outputs": [
    {
     "name": "stdout",
     "output_type": "stream",
     "text": [
      "ShapiroResult(statistic=0.9867621660232544, pvalue=0.9671739339828491)\n",
      "ShapiroResult(statistic=0.9867621660232544, pvalue=0.9671739339828491)\n",
      "ShapiroResult(statistic=0.9020196199417114, pvalue=0.4211485683917999)\n"
     ]
    }
   ],
   "source": [
    "# Assumptions check\n",
    "#normality\n",
    "norm_low_fat=stats.shapiro(low_fat)\n",
    "norm_mediterranean=stats.shapiro(mediterranean)\n",
    "norm_keto= stats.shapiro(keto)\n",
    "print(norm_low_fat)\n",
    "print(norm_mediterranean)\n",
    "print(norm_keto)"
   ]
  },
  {
   "cell_type": "markdown",
   "id": "3a5cf920",
   "metadata": {},
   "source": [
    "Since the p values of all the fertilizers is greater than 0.5 so we fail to reject the null hypothesis hence we conclude that data follows the normal distribution"
   ]
  },
  {
   "cell_type": "code",
   "execution_count": 52,
   "id": "677e4e93",
   "metadata": {},
   "outputs": [
    {
     "data": {
      "text/plain": [
       "LeveneResult(statistic=0.10526315789473684, pvalue=0.9009095127015454)"
      ]
     },
     "execution_count": 52,
     "metadata": {},
     "output_type": "execute_result"
    }
   ],
   "source": [
    "#checking homogenity of variances\n",
    "levene_test=stats.levene(low_fat, mediterranean, keto)\n",
    "levene_test"
   ]
  },
  {
   "cell_type": "markdown",
   "id": "7f7c930d",
   "metadata": {},
   "source": [
    "since p value is greater than 0.05 we can conlcude that it satisfies the assumption of homogenity of variances"
   ]
  },
  {
   "cell_type": "code",
   "execution_count": 53,
   "id": "e9eb6800",
   "metadata": {},
   "outputs": [
    {
     "data": {
      "text/plain": [
       "2.4180845670048005e-05"
      ]
     },
     "execution_count": 53,
     "metadata": {},
     "output_type": "execute_result"
    }
   ],
   "source": [
    "#checking the hypothesis using p value\n",
    "f_stat, p_value = stats.f_oneway(low_fat, mediterranean, keto)\n",
    "p_value"
   ]
  },
  {
   "cell_type": "markdown",
   "id": "a56d1c7e",
   "metadata": {},
   "source": [
    "since p value is less than alpha we reject the null hypothesis and hence we conclude that we do have enough statistical evidence that atleast one cholesterol level is different from the others"
   ]
  },
  {
   "cell_type": "code",
   "execution_count": 54,
   "id": "c672976f",
   "metadata": {},
   "outputs": [
    {
     "data": {
      "text/plain": [
       "3.8852938346523946"
      ]
     },
     "execution_count": 54,
     "metadata": {},
     "output_type": "execute_result"
    }
   ],
   "source": [
    "#checking the hypothesis using critical value\n",
    "alpha = 0.05\n",
    "df_between = 2\n",
    "df_within = len(low_fat) + len(mediterranean) + len(keto) - 3\n",
    "critical_value = stats.f.ppf(1 - alpha, df_between, df_within)\n",
    "critical_value"
   ]
  },
  {
   "cell_type": "code",
   "execution_count": 55,
   "id": "4cda072a",
   "metadata": {},
   "outputs": [
    {
     "data": {
      "text/plain": [
       "29.283582089552237"
      ]
     },
     "execution_count": 55,
     "metadata": {},
     "output_type": "execute_result"
    }
   ],
   "source": [
    "f_stat"
   ]
  },
  {
   "cell_type": "markdown",
   "id": "a797eb48",
   "metadata": {},
   "source": [
    "since f stat is greater than the critical value we reject the null hypothesis"
   ]
  },
  {
   "cell_type": "code",
   "execution_count": null,
   "id": "b368fe6b",
   "metadata": {},
   "outputs": [],
   "source": []
  }
 ],
 "metadata": {
  "kernelspec": {
   "display_name": "Python 3 (ipykernel)",
   "language": "python",
   "name": "python3"
  },
  "language_info": {
   "codemirror_mode": {
    "name": "ipython",
    "version": 3
   },
   "file_extension": ".py",
   "mimetype": "text/x-python",
   "name": "python",
   "nbconvert_exporter": "python",
   "pygments_lexer": "ipython3",
   "version": "3.11.5"
  }
 },
 "nbformat": 4,
 "nbformat_minor": 5
}
