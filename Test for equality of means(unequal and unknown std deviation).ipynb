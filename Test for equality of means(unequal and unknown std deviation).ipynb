{
 "cells": [
  {
   "cell_type": "code",
   "execution_count": 1,
   "id": "c79e0ed4",
   "metadata": {},
   "outputs": [],
   "source": [
    "import numpy as np\n",
    "import pandas as pd\n",
    "import matplotlib.pyplot as plt\n",
    "import seaborn as sns\n",
    "import scipy.stats as stats\n",
    "import plotly.express as px\n",
    "%matplotlib inline"
   ]
  },
  {
   "cell_type": "markdown",
   "id": "10949778",
   "metadata": {},
   "source": [
    "we use a two-sample t-test for equality of means with unequal and unknown standard deviations, and it's also known as welch's test. This method is useful when comparing the means of two independent samples where the population variances are unknown."
   ]
  },
  {
   "cell_type": "markdown",
   "id": "64d34a34",
   "metadata": {},
   "source": [
    "**Assumptions for 2 sample t-test**\n",
    "\n",
    "* the data should be continious\n",
    "* Each sample should be approximately normally distributed.\n",
    "* The samples should be randomly sampled."
   ]
  },
  {
   "cell_type": "markdown",
   "id": "1547dc93",
   "metadata": {},
   "source": [
    "**Example 1:** A researcher wants to compare the average heights of male and female participants in a study.\n",
    "\n"
   ]
  },
  {
   "cell_type": "markdown",
   "id": "dcd8eb9c",
   "metadata": {},
   "source": [
    "Testing the null hypothesis\n",
    "\n",
    ">$H_0:\\mu_{male}=\\mu_{female}$\n",
    "\n",
    "against the alternate hypotthesis\n",
    "\n",
    ">$H_1:\\mu_{male}\\neq\\mu_{female}$"
   ]
  },
  {
   "cell_type": "code",
   "execution_count": 2,
   "id": "46140d7b",
   "metadata": {},
   "outputs": [
    {
     "name": "stdout",
     "output_type": "stream",
     "text": [
      "ShapiroResult(statistic=0.9621087312698364, pvalue=0.836609959602356)\n",
      "ShapiroResult(statistic=0.974858283996582, pvalue=0.933165431022644)\n"
     ]
    }
   ],
   "source": [
    "#check for the assumptions\n",
    "male_heights = [175, 180, 178, 182, 176, 179, 181]\n",
    "female_heights = [160, 162, 165, 161, 158, 159, 164, 163]\n",
    "#check for normality\n",
    "norm_male=stats.shapiro(male_heights)\n",
    "norm_female=stats.shapiro(female_heights)\n",
    "print(norm_male)\n",
    "print(norm_female)"
   ]
  },
  {
   "cell_type": "markdown",
   "id": "571f256d",
   "metadata": {},
   "source": [
    "The assumption of normality is met because the p-value is greater than 0.05 for both groups"
   ]
  },
  {
   "cell_type": "code",
   "execution_count": 3,
   "id": "04da9c05",
   "metadata": {},
   "outputs": [
    {
     "data": {
      "text/plain": [
       "9.550691407835501e-09"
      ]
     },
     "execution_count": 3,
     "metadata": {},
     "output_type": "execute_result"
    }
   ],
   "source": [
    "#calculating the hypothesis using p value \n",
    "t_stat,p_value=stats.ttest_ind(male_heights,female_heights,equal_var=False)\n",
    "p_value"
   ]
  },
  {
   "cell_type": "markdown",
   "id": "22209863",
   "metadata": {},
   "source": [
    "since p value is less than the alpha we reject the null hypotheis"
   ]
  },
  {
   "cell_type": "code",
   "execution_count": 5,
   "id": "e4807fbd",
   "metadata": {},
   "outputs": [
    {
     "data": {
      "text/plain": [
       "2.1603686564610127"
      ]
     },
     "execution_count": 5,
     "metadata": {},
     "output_type": "execute_result"
    }
   ],
   "source": [
    "#checking the hypothesis using critical value approach\n",
    "alpha=0.05\n",
    "df=len(male_heights)+len(female_heights)-2\n",
    "critical_value=stats.t.ppf(1-alpha/2,df)\n",
    "critical_value"
   ]
  },
  {
   "cell_type": "code",
   "execution_count": 6,
   "id": "29864e26",
   "metadata": {},
   "outputs": [
    {
     "data": {
      "text/plain": [
       "13.246558009296443"
      ]
     },
     "execution_count": 6,
     "metadata": {},
     "output_type": "execute_result"
    }
   ],
   "source": [
    "t_stat"
   ]
  },
  {
   "cell_type": "markdown",
   "id": "19720d78",
   "metadata": {},
   "source": [
    "since test stat is greater than critical value we reject the null hypothesis"
   ]
  },
  {
   "cell_type": "markdown",
   "id": "4b145b84",
   "metadata": {},
   "source": [
    "**Example 2:** A school district wants to compare the average test scores of students from two different schools to see if they are significantly different."
   ]
  },
  {
   "cell_type": "markdown",
   "id": "36340179",
   "metadata": {},
   "source": [
    "checking the null hypothesis \n",
    ">$H_0:\\mu_{schoolA}=\\mu_{schoolB}$\n",
    "\n",
    "against the alternate hypothesis\n",
    "\n",
    ">$H_1:\\mu_{schoolA}\\neq\\mu_{schoolB}$"
   ]
  },
  {
   "cell_type": "code",
   "execution_count": 8,
   "id": "f9c9cb3f",
   "metadata": {},
   "outputs": [
    {
     "name": "stdout",
     "output_type": "stream",
     "text": [
      "ShapiroResult(statistic=0.9641615748405457, pvalue=0.8535423278808594)\n",
      "ShapiroResult(statistic=0.9818894863128662, pvalue=0.9605551362037659)\n"
     ]
    }
   ],
   "source": [
    "#checking for normality\n",
    "school_A = [78, 85, 82, 80, 77, 79, 83]\n",
    "school_B = [70, 75, 72, 73, 74, 71]\n",
    "norm_A = stats.shapiro(school_A)\n",
    "norm_B = stats.shapiro(school_B)\n",
    "print(norm_A)\n",
    "print(norm_B)"
   ]
  },
  {
   "cell_type": "markdown",
   "id": "fe62fa1a",
   "metadata": {},
   "source": [
    "The assumption of normality is met because the p-value is greater than 0.05 for both groups"
   ]
  },
  {
   "cell_type": "code",
   "execution_count": 9,
   "id": "29a84f71",
   "metadata": {},
   "outputs": [
    {
     "data": {
      "text/plain": [
       "0.00010385282032136216"
      ]
     },
     "execution_count": 9,
     "metadata": {},
     "output_type": "execute_result"
    }
   ],
   "source": [
    "#checking the hypothesis using p value approach\n",
    "t_stat, p_value = stats.ttest_ind(school_A, school_B, equal_var=False)\n",
    "p_value"
   ]
  },
  {
   "cell_type": "markdown",
   "id": "785dba04",
   "metadata": {},
   "source": [
    "since the p value is less than the alpha we reject the null hypothesis"
   ]
  },
  {
   "cell_type": "code",
   "execution_count": 10,
   "id": "be9a802e",
   "metadata": {},
   "outputs": [
    {
     "data": {
      "text/plain": [
       "2.200985160082949"
      ]
     },
     "execution_count": 10,
     "metadata": {},
     "output_type": "execute_result"
    }
   ],
   "source": [
    "#checking the hypothesis using critical value approach\n",
    "alpha = 0.05\n",
    "df = (len(school_A) - 1) + (len(school_B) - 1)\n",
    "critical = stats.t.ppf(1 - alpha / 2, df)\n",
    "critical"
   ]
  },
  {
   "cell_type": "code",
   "execution_count": 11,
   "id": "227db9e4",
   "metadata": {},
   "outputs": [
    {
     "data": {
      "text/plain": [
       "6.071993487197258"
      ]
     },
     "execution_count": 11,
     "metadata": {},
     "output_type": "execute_result"
    }
   ],
   "source": [
    "t_stat"
   ]
  },
  {
   "cell_type": "markdown",
   "id": "0834e949",
   "metadata": {},
   "source": [
    "since test stat is greater than critical value we reject the null hypothesis"
   ]
  },
  {
   "cell_type": "markdown",
   "id": "1d884017",
   "metadata": {},
   "source": [
    "**Example 3:** A financial analyst wants to determine if there is a significant difference in average monthly expenses between two cities."
   ]
  },
  {
   "cell_type": "markdown",
   "id": "54f74db8",
   "metadata": {},
   "source": [
    "Testing the null hypothesis \n",
    "\n",
    ">$H_0:\\mu_{cityA}=\\mu{cityB}$\n",
    "\n",
    "against the alternate hypothesis\n",
    "\n",
    ">$H_1:\\mu_{cityA}\\neq\\mu{cityB}$"
   ]
  },
  {
   "cell_type": "code",
   "execution_count": 12,
   "id": "4010d650",
   "metadata": {},
   "outputs": [
    {
     "name": "stdout",
     "output_type": "stream",
     "text": [
      "ShapiroResult(statistic=0.9670993089675903, pvalue=0.8563304543495178)\n",
      "ShapiroResult(statistic=0.9482108354568481, pvalue=0.7257717847824097)\n"
     ]
    }
   ],
   "source": [
    "#check for normality\n",
    "city_A= [1200, 1150, 1300, 1250, 1190]\n",
    "city_B= [1500, 1550, 1480, 1600, 1570, 1550]\n",
    "norm_A = stats.shapiro(city_A)\n",
    "norm_B = stats.shapiro(city_B)\n",
    "print(norm_A)\n",
    "print(norm_B)"
   ]
  },
  {
   "cell_type": "markdown",
   "id": "48f3b69d",
   "metadata": {},
   "source": [
    "The assumption of normality is met because the p-value is greater than 0.05 for both groups"
   ]
  },
  {
   "cell_type": "code",
   "execution_count": 13,
   "id": "052a8446",
   "metadata": {},
   "outputs": [
    {
     "data": {
      "text/plain": [
       "1.2117628977092355e-05"
      ]
     },
     "execution_count": 13,
     "metadata": {},
     "output_type": "execute_result"
    }
   ],
   "source": [
    "#checking the hypothesis using p value approach\n",
    "t_stat, p_value = stats.ttest_ind(city_A, city_B, equal_var=False)\n",
    "p_value\n"
   ]
  },
  {
   "cell_type": "markdown",
   "id": "a88a624b",
   "metadata": {},
   "source": [
    "since the p value is less than the alpha we reject the null hypothesis"
   ]
  },
  {
   "cell_type": "code",
   "execution_count": 14,
   "id": "46948764",
   "metadata": {},
   "outputs": [
    {
     "data": {
      "text/plain": [
       "2.2621571627409915"
      ]
     },
     "execution_count": 14,
     "metadata": {},
     "output_type": "execute_result"
    }
   ],
   "source": [
    "#testing the hypothesis using critical value approach\n",
    "df = (len(city_A) - 1) + (len(city_B) - 1)\n",
    "critical = stats.t.ppf(1 - alpha / 2, df)\n",
    "critical"
   ]
  },
  {
   "cell_type": "code",
   "execution_count": 15,
   "id": "ee12fd97",
   "metadata": {},
   "outputs": [
    {
     "data": {
      "text/plain": [
       "-10.217656744902936"
      ]
     },
     "execution_count": 15,
     "metadata": {},
     "output_type": "execute_result"
    }
   ],
   "source": [
    "t_stat"
   ]
  },
  {
   "cell_type": "markdown",
   "id": "ac3c0d69",
   "metadata": {},
   "source": [
    "since the abs(test stat) is greater than the critical value we reject the null hypothesis"
   ]
  },
  {
   "cell_type": "markdown",
   "id": "027972c2",
   "metadata": {},
   "source": [
    "**Example 4:** A marketing firm wants to analyze if there is a difference in the average time spent on social media between two age groups."
   ]
  },
  {
   "cell_type": "code",
   "execution_count": 16,
   "id": "8abcbe62",
   "metadata": {},
   "outputs": [
    {
     "name": "stdout",
     "output_type": "stream",
     "text": [
      "ShapiroResult(statistic=0.9818894863128662, pvalue=0.9605551362037659)\n",
      "ShapiroResult(statistic=0.9666421413421631, pvalue=0.8732700943946838)\n"
     ]
    }
   ],
   "source": [
    "# Sample time spent on social media (in hours per week)\n",
    "age_group_1_time = [10, 12, 11, 13, 14, 15]\n",
    "age_group_2_time = [8, 9, 7, 10, 9, 11, 8]\n",
    "norm_1 = stats.shapiro(age_group_1_time)\n",
    "norm_2 = stats.shapiro(age_group_2_time)\n",
    "print(norm_1)\n",
    "print(norm_2)"
   ]
  },
  {
   "cell_type": "markdown",
   "id": "a507569c",
   "metadata": {},
   "source": [
    "The assumption of normality is met because the p-value is greater than 0.05 for both groups"
   ]
  },
  {
   "cell_type": "code",
   "execution_count": 17,
   "id": "14652526",
   "metadata": {},
   "outputs": [
    {
     "data": {
      "text/plain": [
       "0.0032899923786475173"
      ]
     },
     "execution_count": 17,
     "metadata": {},
     "output_type": "execute_result"
    }
   ],
   "source": [
    "#checking the hypothesis using p value approach\n",
    "t_stat, p_value = stats.ttest_ind(age_group_1_time, age_group_2_time, equal_var=False)\n",
    "p_value"
   ]
  },
  {
   "cell_type": "markdown",
   "id": "68637fc7",
   "metadata": {},
   "source": [
    "since the p value is less than the alpha we reject the null hypothesis"
   ]
  },
  {
   "cell_type": "code",
   "execution_count": 18,
   "id": "ad714a2a",
   "metadata": {},
   "outputs": [
    {
     "data": {
      "text/plain": [
       "2.200985160082949"
      ]
     },
     "execution_count": 18,
     "metadata": {},
     "output_type": "execute_result"
    }
   ],
   "source": [
    "#checking the hypothesis using critical value approach\n",
    "alpha=0.05\n",
    "df = (len(age_group_1_time) - 1) + (len(age_group_2_time) - 1)\n",
    "critical = stats.t.ppf(1 - alpha / 2, df)\n",
    "critical"
   ]
  },
  {
   "cell_type": "code",
   "execution_count": 19,
   "id": "37145bac",
   "metadata": {},
   "outputs": [
    {
     "data": {
      "text/plain": [
       "3.9703446152237665"
      ]
     },
     "execution_count": 19,
     "metadata": {},
     "output_type": "execute_result"
    }
   ],
   "source": [
    "t_stat"
   ]
  },
  {
   "cell_type": "markdown",
   "id": "886c93f2",
   "metadata": {},
   "source": [
    "since test stat is greater than the critical value we reject the null hypothesis"
   ]
  },
  {
   "cell_type": "markdown",
   "id": "61af7a62",
   "metadata": {},
   "source": [
    "**Example 5:** A nutritionist wants to compare the average daily caloric intake of two different dietary groups."
   ]
  },
  {
   "cell_type": "markdown",
   "id": "baa3497f",
   "metadata": {},
   "source": [
    "Testing the null hypothesis\n",
    "\n",
    ">$H_0:\\mu_{DietA}=\\mu_{DietB}$\n",
    "\n",
    "against the alternate hypothesis\n",
    "\n",
    ">$H_1:\\mu_{DietA}>\\mu_{DietB}$"
   ]
  },
  {
   "cell_type": "code",
   "execution_count": 22,
   "id": "4db1740b",
   "metadata": {},
   "outputs": [
    {
     "name": "stdout",
     "output_type": "stream",
     "text": [
      "ShapiroResult(statistic=0.9787160754203796, pvalue=0.9276362061500549)\n",
      "ShapiroResult(statistic=0.9907985925674438, pvalue=0.9910317063331604)\n"
     ]
    }
   ],
   "source": [
    "#check for normality\n",
    "diet_A=[2200, 2300, 2150, 2400, 2250]\n",
    "diet_B=[2000, 2100, 1900, 2050, 1950, 1980]\n",
    "p_norm_A = stats.shapiro(diet_A)\n",
    "p_norm_B = stats.shapiro(diet_B)\n",
    "print(p_norm_A)\n",
    "print(p_norm_B)"
   ]
  },
  {
   "cell_type": "markdown",
   "id": "dbbab185",
   "metadata": {},
   "source": [
    "The assumption of normality is met because the p-value is greater than 0.05 for both groups"
   ]
  },
  {
   "cell_type": "code",
   "execution_count": 23,
   "id": "3c182b00",
   "metadata": {},
   "outputs": [
    {
     "data": {
      "text/plain": [
       "0.0012849270239915403"
      ]
     },
     "execution_count": 23,
     "metadata": {},
     "output_type": "execute_result"
    }
   ],
   "source": [
    "#check for hypothesis using p value approach\n",
    "t_stat, p_value = stats.ttest_ind(diet_A, diet_B, equal_var=False)\n",
    "p_value"
   ]
  },
  {
   "cell_type": "markdown",
   "id": "1e6ea64c",
   "metadata": {},
   "source": [
    "since the p value is less than alpha we reject the null hypothesis"
   ]
  },
  {
   "cell_type": "code",
   "execution_count": 24,
   "id": "eb3fa08c",
   "metadata": {},
   "outputs": [
    {
     "data": {
      "text/plain": [
       "1.8331129326536333"
      ]
     },
     "execution_count": 24,
     "metadata": {},
     "output_type": "execute_result"
    }
   ],
   "source": [
    "#checking the hypothesis using critical value approach\n",
    "df = (len(diet_A) - 1) + (len(diet_B) - 1)\n",
    "critical = stats.t.ppf(1 - alpha, df) \n",
    "critical"
   ]
  },
  {
   "cell_type": "code",
   "execution_count": 25,
   "id": "199a72bd",
   "metadata": {},
   "outputs": [
    {
     "data": {
      "text/plain": [
       "5.073074262636689"
      ]
     },
     "execution_count": 25,
     "metadata": {},
     "output_type": "execute_result"
    }
   ],
   "source": [
    "t_stat"
   ]
  },
  {
   "cell_type": "markdown",
   "id": "5e3c6dc3",
   "metadata": {},
   "source": [
    "since test stat is greater than the critical value we reject the null hypothesis"
   ]
  },
  {
   "cell_type": "markdown",
   "id": "c85b4a3c",
   "metadata": {},
   "source": [
    "**Example 6:** A sleep researcher wants to know if students who study late at night get less sleep than those who study during the day."
   ]
  },
  {
   "cell_type": "markdown",
   "id": "080ab2c3",
   "metadata": {},
   "source": [
    "Testing the null hypothesis\n",
    "\n",
    ">$H_0:\\mu_{Nightstudy}=\\mu_{Daystudy}$\n",
    "\n",
    "against the alternate hypothesis\n",
    "\n",
    ">$H_1:\\mu_{Nightstudy}<\\mu_{Daystudy}$"
   ]
  },
  {
   "cell_type": "code",
   "execution_count": 26,
   "id": "d99e5800",
   "metadata": {},
   "outputs": [
    {
     "name": "stdout",
     "output_type": "stream",
     "text": [
      "ShapiroResult(statistic=0.9608590006828308, pvalue=0.8139519691467285)\n",
      "ShapiroResult(statistic=0.9345840215682983, pvalue=0.5905229449272156)\n"
     ]
    }
   ],
   "source": [
    "#checking for normality\n",
    "night_study_sleep=[5, 6, 5.5, 4.5, 5]\n",
    "day_study_sleep =[8, 7.5, 9, 8.5, 7, 9, 8]\n",
    "norm_night = stats.shapiro(night_study_sleep)\n",
    "norm_day = stats.shapiro(day_study_sleep)\n",
    "print(norm_night)\n",
    "print(norm_day)"
   ]
  },
  {
   "cell_type": "markdown",
   "id": "2da858f6",
   "metadata": {},
   "source": [
    "The assumption of normality is met because the p-value is greater than 0.05 for both groups"
   ]
  },
  {
   "cell_type": "code",
   "execution_count": 27,
   "id": "eb271a07",
   "metadata": {},
   "outputs": [
    {
     "data": {
      "text/plain": [
       "1.6811208604192438e-05"
      ]
     },
     "execution_count": 27,
     "metadata": {},
     "output_type": "execute_result"
    }
   ],
   "source": [
    "#checking the hypothesis using p value approach\n",
    "t_stat, p_value = stats.ttest_ind(night_study_sleep, day_study_sleep, equal_var=False)\n",
    "p_value"
   ]
  },
  {
   "cell_type": "markdown",
   "id": "9d326d8b",
   "metadata": {},
   "source": [
    "since p value is less than the alpha we reject the null hypothesis"
   ]
  },
  {
   "cell_type": "code",
   "execution_count": 28,
   "id": "974925c1",
   "metadata": {},
   "outputs": [
    {
     "data": {
      "text/plain": [
       "1.8124611228107335"
      ]
     },
     "execution_count": 28,
     "metadata": {},
     "output_type": "execute_result"
    }
   ],
   "source": [
    "#checking the hypothesis using critical value\n",
    "df = (len(night_study_sleep) - 1) + (len(day_study_sleep) - 1)\n",
    "critical = stats.t.ppf(1 - alpha, df)\n",
    "critical"
   ]
  },
  {
   "cell_type": "code",
   "execution_count": 29,
   "id": "8dbc950d",
   "metadata": {},
   "outputs": [
    {
     "data": {
      "text/plain": [
       "-7.730134998318713"
      ]
     },
     "execution_count": 29,
     "metadata": {},
     "output_type": "execute_result"
    }
   ],
   "source": [
    "t_stat"
   ]
  },
  {
   "cell_type": "markdown",
   "id": "e3de3ae8",
   "metadata": {},
   "source": [
    "since the abs(test stat) is greater than the critical value we reject the null hypothesis"
   ]
  },
  {
   "cell_type": "markdown",
   "id": "e2bef6b2",
   "metadata": {},
   "source": [
    "**Example 7:** A fitness expert wants to compare the average weight loss after following two different diet plans for a month."
   ]
  },
  {
   "cell_type": "markdown",
   "id": "2963cc71",
   "metadata": {},
   "source": [
    "Testing the null hypothesis\n",
    "\n",
    ">$H_0:\\mu_{Dietplan1}=\\mu_{Dietplan2}$\n",
    "\n",
    "against the alternate hypothesis\n",
    "\n",
    ">$H_1:\\mu_{Dietplan1}<\\mu_{Dietpan2}$"
   ]
  },
  {
   "cell_type": "code",
   "execution_count": 30,
   "id": "21ff3ca9",
   "metadata": {},
   "outputs": [
    {
     "name": "stdout",
     "output_type": "stream",
     "text": [
      "ShapiroResult(statistic=0.9020196199417114, pvalue=0.4211485683917999)\n",
      "ShapiroResult(statistic=0.958012044429779, pvalue=0.8042958378791809)\n"
     ]
    }
   ],
   "source": [
    "#check for normality\n",
    "diet_plan_1_weight_loss =[2, 3, 1.5, 2.5, 3]\n",
    "diet_plan_2_weight_loss=[5, 4.5, 6, 5.5, 5, 6.5]\n",
    "norm_1 = stats.shapiro(diet_plan_1_weight_loss)\n",
    "norm_2 = stats.shapiro(diet_plan_2_weight_loss)\n",
    "print(norm_1)\n",
    "print(norm_2)"
   ]
  },
  {
   "cell_type": "markdown",
   "id": "0235a504",
   "metadata": {},
   "source": [
    "The assumption of normality is met because the p-value is greater than 0.05 for both groups"
   ]
  },
  {
   "cell_type": "code",
   "execution_count": 31,
   "id": "f8246305",
   "metadata": {},
   "outputs": [
    {
     "data": {
      "text/plain": [
       "5.228919042146084e-05"
      ]
     },
     "execution_count": 31,
     "metadata": {},
     "output_type": "execute_result"
    }
   ],
   "source": [
    "#checking the hypothesis using p value approach\n",
    "t_stat, p_value = stats.ttest_ind(diet_plan_1_weight_loss, diet_plan_2_weight_loss, equal_var=False)\n",
    "p_value"
   ]
  },
  {
   "cell_type": "markdown",
   "id": "07022123",
   "metadata": {},
   "source": [
    "since the p value is less than alpha we reject the null hypothesis"
   ]
  },
  {
   "cell_type": "code",
   "execution_count": 33,
   "id": "ddc6dea5",
   "metadata": {},
   "outputs": [
    {
     "data": {
      "text/plain": [
       "1.8331129326536333"
      ]
     },
     "execution_count": 33,
     "metadata": {},
     "output_type": "execute_result"
    }
   ],
   "source": [
    "#checking the hypothesis using critical value approach\n",
    "df = (len(diet_plan_1_weight_loss) - 1) + (len(diet_plan_2_weight_loss) - 1)\n",
    "critical = stats.t.ppf(1 - alpha, df)\n",
    "critical"
   ]
  },
  {
   "cell_type": "code",
   "execution_count": 34,
   "id": "81c60767",
   "metadata": {},
   "outputs": [
    {
     "data": {
      "text/plain": [
       "-7.2054962293552"
      ]
     },
     "execution_count": 34,
     "metadata": {},
     "output_type": "execute_result"
    }
   ],
   "source": [
    "t_stat"
   ]
  },
  {
   "cell_type": "markdown",
   "id": "822a24f2",
   "metadata": {},
   "source": [
    "since the abs(test stat) is greater than the critical value we reject the null hypothesis"
   ]
  },
  {
   "cell_type": "markdown",
   "id": "e3acf365",
   "metadata": {},
   "source": [
    "**Example 8:** A city planner wants to compare the average travel times between taking the bus and riding a bike."
   ]
  },
  {
   "cell_type": "markdown",
   "id": "f8860880",
   "metadata": {},
   "source": [
    "Testing the null hypothesis\n",
    "\n",
    ">$H_0:\\mu_{Bus}=\\mu_{Bike}$\n",
    "\n",
    "against the alternate hypothesis\n",
    "\n",
    ">$H_1:\\mu_{Bus}>\\mu_{Bike}$"
   ]
  },
  {
   "cell_type": "code",
   "execution_count": 35,
   "id": "094b9cf1",
   "metadata": {},
   "outputs": [
    {
     "name": "stdout",
     "output_type": "stream",
     "text": [
      "ShapiroResult(statistic=0.9581565260887146, pvalue=0.795091450214386)\n",
      "ShapiroResult(statistic=0.9575423002243042, pvalue=0.800613284111023)\n"
     ]
    }
   ],
   "source": [
    "#checking for normality\n",
    "bus_travel_times =[30, 35, 32, 40, 28]\n",
    "bike_travel_times = [20, 22, 25, 23, 24, 19]\n",
    "norm_bus = stats.shapiro(bus_travel_times)\n",
    "norm_bike = stats.shapiro(bike_travel_times)\n",
    "print(norm_bus)\n",
    "print(norm_bike)"
   ]
  },
  {
   "cell_type": "markdown",
   "id": "b1d2fdec",
   "metadata": {},
   "source": [
    "The assumption of normality is met because the p-value is greater than 0.05 for both groups"
   ]
  },
  {
   "cell_type": "code",
   "execution_count": 36,
   "id": "98c079ad",
   "metadata": {},
   "outputs": [
    {
     "data": {
      "text/plain": [
       "0.003941342920251392"
      ]
     },
     "execution_count": 36,
     "metadata": {},
     "output_type": "execute_result"
    }
   ],
   "source": [
    "#checking the hypothesis using p value approach\n",
    "t_stat, p_value = stats.ttest_ind(bus_travel_times, bike_travel_times, equal_var=False)\n",
    "p_value"
   ]
  },
  {
   "cell_type": "markdown",
   "id": "1c248091",
   "metadata": {},
   "source": [
    "since the p value is less than alpha we reject the null hypothesis"
   ]
  },
  {
   "cell_type": "code",
   "execution_count": 37,
   "id": "693b6f98",
   "metadata": {},
   "outputs": [
    {
     "data": {
      "text/plain": [
       "1.8331129326536333"
      ]
     },
     "execution_count": 37,
     "metadata": {},
     "output_type": "execute_result"
    }
   ],
   "source": [
    "#checking the hypothesis using critical value\n",
    "df = (len(bus_travel_times) - 1) + (len(bike_travel_times) - 1)\n",
    "critical = stats.t.ppf(1 - alpha, df)\n",
    "critical"
   ]
  },
  {
   "cell_type": "code",
   "execution_count": 38,
   "id": "9df9189d",
   "metadata": {},
   "outputs": [
    {
     "data": {
      "text/plain": [
       "4.708167536631482"
      ]
     },
     "execution_count": 38,
     "metadata": {},
     "output_type": "execute_result"
    }
   ],
   "source": [
    "t_stat"
   ]
  },
  {
   "cell_type": "markdown",
   "id": "98bcd311",
   "metadata": {},
   "source": [
    "since the test stat is greater than the critical value we reject the null hypothesis"
   ]
  },
  {
   "cell_type": "code",
   "execution_count": null,
   "id": "a87ae93f",
   "metadata": {},
   "outputs": [],
   "source": []
  }
 ],
 "metadata": {
  "kernelspec": {
   "display_name": "Python 3 (ipykernel)",
   "language": "python",
   "name": "python3"
  },
  "language_info": {
   "codemirror_mode": {
    "name": "ipython",
    "version": 3
   },
   "file_extension": ".py",
   "mimetype": "text/x-python",
   "name": "python",
   "nbconvert_exporter": "python",
   "pygments_lexer": "ipython3",
   "version": "3.11.5"
  }
 },
 "nbformat": 4,
 "nbformat_minor": 5
}
